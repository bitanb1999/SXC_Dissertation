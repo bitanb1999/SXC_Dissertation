{
  "nbformat": 4,
  "nbformat_minor": 0,
  "metadata": {
    "colab": {
      "provenance": [],
      "authorship_tag": "ABX9TyMcqI3Qk1qFVhxi2qETLyle",
      "include_colab_link": true
    },
    "kernelspec": {
      "name": "python3",
      "display_name": "Python 3"
    },
    "language_info": {
      "name": "python"
    }
  },
  "cells": [
    {
      "cell_type": "markdown",
      "metadata": {
        "id": "view-in-github",
        "colab_type": "text"
      },
      "source": [
        "<a href=\"https://colab.research.google.com/github/bitanb1999/SXC_Dissertation/blob/main/RNN_LSTM_Training.ipynb\" target=\"_parent\"><img src=\"https://colab.research.google.com/assets/colab-badge.svg\" alt=\"Open In Colab\"/></a>"
      ]
    },
    {
      "cell_type": "code",
      "execution_count": 2,
      "metadata": {
        "colab": {
          "base_uri": "https://localhost:8080/",
          "height": 224
        },
        "id": "mbu52xnc6i35",
        "outputId": "9d522c10-8e1b-4de9-b695-56fdc7b0984e"
      },
      "outputs": [
        {
          "output_type": "stream",
          "name": "stdout",
          "text": [
            "fatal: destination path 'depression-detection' already exists and is not an empty directory.\n"
          ]
        },
        {
          "output_type": "execute_result",
          "data": {
            "text/plain": [
              "                                           Text_data  Label\n",
              "0  Today in Selfcare: beauty &amp; laughs Kung Fu...      0\n",
              "1  I get to spend New Year's home again alone and...      1\n",
              "2  Depressed and lonely /: Stuck in a deep, never...      1\n",
              "3  If this is your response to someone saying the...      0\n",
              "4  Apparently you get a free pass just by mention...      0"
            ],
            "text/html": [
              "\n",
              "  <div id=\"df-28d2abcd-45d2-49d1-869d-25f653a30912\">\n",
              "    <div class=\"colab-df-container\">\n",
              "      <div>\n",
              "<style scoped>\n",
              "    .dataframe tbody tr th:only-of-type {\n",
              "        vertical-align: middle;\n",
              "    }\n",
              "\n",
              "    .dataframe tbody tr th {\n",
              "        vertical-align: top;\n",
              "    }\n",
              "\n",
              "    .dataframe thead th {\n",
              "        text-align: right;\n",
              "    }\n",
              "</style>\n",
              "<table border=\"1\" class=\"dataframe\">\n",
              "  <thead>\n",
              "    <tr style=\"text-align: right;\">\n",
              "      <th></th>\n",
              "      <th>Text_data</th>\n",
              "      <th>Label</th>\n",
              "    </tr>\n",
              "  </thead>\n",
              "  <tbody>\n",
              "    <tr>\n",
              "      <th>0</th>\n",
              "      <td>Today in Selfcare: beauty &amp;amp; laughs Kung Fu...</td>\n",
              "      <td>0</td>\n",
              "    </tr>\n",
              "    <tr>\n",
              "      <th>1</th>\n",
              "      <td>I get to spend New Year's home again alone and...</td>\n",
              "      <td>1</td>\n",
              "    </tr>\n",
              "    <tr>\n",
              "      <th>2</th>\n",
              "      <td>Depressed and lonely /: Stuck in a deep, never...</td>\n",
              "      <td>1</td>\n",
              "    </tr>\n",
              "    <tr>\n",
              "      <th>3</th>\n",
              "      <td>If this is your response to someone saying the...</td>\n",
              "      <td>0</td>\n",
              "    </tr>\n",
              "    <tr>\n",
              "      <th>4</th>\n",
              "      <td>Apparently you get a free pass just by mention...</td>\n",
              "      <td>0</td>\n",
              "    </tr>\n",
              "  </tbody>\n",
              "</table>\n",
              "</div>\n",
              "      <button class=\"colab-df-convert\" onclick=\"convertToInteractive('df-28d2abcd-45d2-49d1-869d-25f653a30912')\"\n",
              "              title=\"Convert this dataframe to an interactive table.\"\n",
              "              style=\"display:none;\">\n",
              "        \n",
              "  <svg xmlns=\"http://www.w3.org/2000/svg\" height=\"24px\"viewBox=\"0 0 24 24\"\n",
              "       width=\"24px\">\n",
              "    <path d=\"M0 0h24v24H0V0z\" fill=\"none\"/>\n",
              "    <path d=\"M18.56 5.44l.94 2.06.94-2.06 2.06-.94-2.06-.94-.94-2.06-.94 2.06-2.06.94zm-11 1L8.5 8.5l.94-2.06 2.06-.94-2.06-.94L8.5 2.5l-.94 2.06-2.06.94zm10 10l.94 2.06.94-2.06 2.06-.94-2.06-.94-.94-2.06-.94 2.06-2.06.94z\"/><path d=\"M17.41 7.96l-1.37-1.37c-.4-.4-.92-.59-1.43-.59-.52 0-1.04.2-1.43.59L10.3 9.45l-7.72 7.72c-.78.78-.78 2.05 0 2.83L4 21.41c.39.39.9.59 1.41.59.51 0 1.02-.2 1.41-.59l7.78-7.78 2.81-2.81c.8-.78.8-2.07 0-2.86zM5.41 20L4 18.59l7.72-7.72 1.47 1.35L5.41 20z\"/>\n",
              "  </svg>\n",
              "      </button>\n",
              "      \n",
              "  <style>\n",
              "    .colab-df-container {\n",
              "      display:flex;\n",
              "      flex-wrap:wrap;\n",
              "      gap: 12px;\n",
              "    }\n",
              "\n",
              "    .colab-df-convert {\n",
              "      background-color: #E8F0FE;\n",
              "      border: none;\n",
              "      border-radius: 50%;\n",
              "      cursor: pointer;\n",
              "      display: none;\n",
              "      fill: #1967D2;\n",
              "      height: 32px;\n",
              "      padding: 0 0 0 0;\n",
              "      width: 32px;\n",
              "    }\n",
              "\n",
              "    .colab-df-convert:hover {\n",
              "      background-color: #E2EBFA;\n",
              "      box-shadow: 0px 1px 2px rgba(60, 64, 67, 0.3), 0px 1px 3px 1px rgba(60, 64, 67, 0.15);\n",
              "      fill: #174EA6;\n",
              "    }\n",
              "\n",
              "    [theme=dark] .colab-df-convert {\n",
              "      background-color: #3B4455;\n",
              "      fill: #D2E3FC;\n",
              "    }\n",
              "\n",
              "    [theme=dark] .colab-df-convert:hover {\n",
              "      background-color: #434B5C;\n",
              "      box-shadow: 0px 1px 3px 1px rgba(0, 0, 0, 0.15);\n",
              "      filter: drop-shadow(0px 1px 2px rgba(0, 0, 0, 0.3));\n",
              "      fill: #FFFFFF;\n",
              "    }\n",
              "  </style>\n",
              "\n",
              "      <script>\n",
              "        const buttonEl =\n",
              "          document.querySelector('#df-28d2abcd-45d2-49d1-869d-25f653a30912 button.colab-df-convert');\n",
              "        buttonEl.style.display =\n",
              "          google.colab.kernel.accessAllowed ? 'block' : 'none';\n",
              "\n",
              "        async function convertToInteractive(key) {\n",
              "          const element = document.querySelector('#df-28d2abcd-45d2-49d1-869d-25f653a30912');\n",
              "          const dataTable =\n",
              "            await google.colab.kernel.invokeFunction('convertToInteractive',\n",
              "                                                     [key], {});\n",
              "          if (!dataTable) return;\n",
              "\n",
              "          const docLinkHtml = 'Like what you see? Visit the ' +\n",
              "            '<a target=\"_blank\" href=https://colab.research.google.com/notebooks/data_table.ipynb>data table notebook</a>'\n",
              "            + ' to learn more about interactive tables.';\n",
              "          element.innerHTML = '';\n",
              "          dataTable['output_type'] = 'display_data';\n",
              "          await google.colab.output.renderOutput(dataTable, element);\n",
              "          const docLink = document.createElement('div');\n",
              "          docLink.innerHTML = docLinkHtml;\n",
              "          element.appendChild(docLink);\n",
              "        }\n",
              "      </script>\n",
              "    </div>\n",
              "  </div>\n",
              "  "
            ]
          },
          "metadata": {},
          "execution_count": 2
        }
      ],
      "source": [
        "!git clone https://github.com/swcwang/depression-detection.git\n",
        "import numpy as np\n",
        "import pandas as pd\n",
        "df=pd.read_csv(\"/content/depression-detection/data/tweets_combined.csv\").drop(\"Unnamed: 0\",axis=1).rename(columns={\"tweet\":\"Text_data\",\"target\":\"Label\"})\n",
        "df.head()"
      ]
    },
    {
      "cell_type": "code",
      "source": [
        "label_to_sentiment = {0:\"Not Depressed\", 4:\"Depressed\"}\n",
        "import nltk \n",
        "nltk.download('stopwords')\n",
        "# We filter out the english language stopwrds\n",
        "from nltk.corpus import stopwords\n",
        "stop_words = stopwords.words('english')\n",
        "print(stop_words)"
      ],
      "metadata": {
        "colab": {
          "base_uri": "https://localhost:8080/"
        },
        "id": "_kKSDqSx6yDd",
        "outputId": "936a4ddd-2e6b-47b2-ca42-253c6a97dd56"
      },
      "execution_count": 3,
      "outputs": [
        {
          "output_type": "stream",
          "name": "stdout",
          "text": [
            "['i', 'me', 'my', 'myself', 'we', 'our', 'ours', 'ourselves', 'you', \"you're\", \"you've\", \"you'll\", \"you'd\", 'your', 'yours', 'yourself', 'yourselves', 'he', 'him', 'his', 'himself', 'she', \"she's\", 'her', 'hers', 'herself', 'it', \"it's\", 'its', 'itself', 'they', 'them', 'their', 'theirs', 'themselves', 'what', 'which', 'who', 'whom', 'this', 'that', \"that'll\", 'these', 'those', 'am', 'is', 'are', 'was', 'were', 'be', 'been', 'being', 'have', 'has', 'had', 'having', 'do', 'does', 'did', 'doing', 'a', 'an', 'the', 'and', 'but', 'if', 'or', 'because', 'as', 'until', 'while', 'of', 'at', 'by', 'for', 'with', 'about', 'against', 'between', 'into', 'through', 'during', 'before', 'after', 'above', 'below', 'to', 'from', 'up', 'down', 'in', 'out', 'on', 'off', 'over', 'under', 'again', 'further', 'then', 'once', 'here', 'there', 'when', 'where', 'why', 'how', 'all', 'any', 'both', 'each', 'few', 'more', 'most', 'other', 'some', 'such', 'no', 'nor', 'not', 'only', 'own', 'same', 'so', 'than', 'too', 'very', 's', 't', 'can', 'will', 'just', 'don', \"don't\", 'should', \"should've\", 'now', 'd', 'll', 'm', 'o', 're', 've', 'y', 'ain', 'aren', \"aren't\", 'couldn', \"couldn't\", 'didn', \"didn't\", 'doesn', \"doesn't\", 'hadn', \"hadn't\", 'hasn', \"hasn't\", 'haven', \"haven't\", 'isn', \"isn't\", 'ma', 'mightn', \"mightn't\", 'mustn', \"mustn't\", 'needn', \"needn't\", 'shan', \"shan't\", 'shouldn', \"shouldn't\", 'wasn', \"wasn't\", 'weren', \"weren't\", 'won', \"won't\", 'wouldn', \"wouldn't\"]\n"
          ]
        },
        {
          "output_type": "stream",
          "name": "stderr",
          "text": [
            "[nltk_data] Downloading package stopwords to /root/nltk_data...\n",
            "[nltk_data]   Unzipping corpora/stopwords.zip.\n"
          ]
        }
      ]
    },
    {
      "cell_type": "code",
      "source": [
        "from nltk.stem import SnowballStemmer\n",
        "\n",
        "stemmer = SnowballStemmer('english')"
      ],
      "metadata": {
        "id": "Sg2n_EUU7UdD"
      },
      "execution_count": 4,
      "outputs": []
    },
    {
      "cell_type": "code",
      "source": [
        "import re\n",
        "text_cleaning_regex = \"@S+|https?:S+|http?:S|[^A-Za-z0-9]+\"\n",
        "def clean_tweets(text, stem=False):\n",
        "  # Text passed to the regex equatio\n",
        "  text = re.sub(text_cleaning_regex, ' ', str(text).lower()).strip()\n",
        "  # Empty list created to store final tokens\n",
        "  tokens = []\n",
        "  for token in text.split():\n",
        "    # check if the token is a stop word or not\n",
        "    if token not in stop_words:\n",
        "      if stem:\n",
        "        # Paased to the snowball stemmer\n",
        "        tokens.append(stemmer.stem(token))\n",
        "      else:\n",
        "        # A\n",
        "        tokens.append(token)\n",
        "  return \" \".join(tokens)"
      ],
      "metadata": {
        "id": "qWRStsoy7bJs"
      },
      "execution_count": 5,
      "outputs": []
    },
    {
      "cell_type": "code",
      "source": [
        "df.Text_data = df.Text_data.apply(lambda x: clean_tweets(x))"
      ],
      "metadata": {
        "id": "4AaAIcnE7lJj"
      },
      "execution_count": 6,
      "outputs": []
    },
    {
      "cell_type": "code",
      "source": [
        "df[\"Text_data\"]"
      ],
      "metadata": {
        "colab": {
          "base_uri": "https://localhost:8080/"
        },
        "id": "uB6zFp0c7rp4",
        "outputId": "74aca5f1-c296-40c0-e3db-6da9788dd571"
      },
      "execution_count": 7,
      "outputs": [
        {
          "output_type": "execute_result",
          "data": {
            "text/plain": [
              "0       today selfcare beauty amp laughs kung fu panda...\n",
              "1                    get spend new year home alone lonely\n",
              "2           depressed lonely stuck deep never ending hole\n",
              "3         response someone saying dealing terrible person\n",
              "4       apparently get free pass mentioning free badge...\n",
              "                              ...                        \n",
              "3195    may new year abound h health hope healing happ...\n",
              "3196                                  beautiful day usual\n",
              "3197    compact metal leaf grinder four layers pic twi...\n",
              "3198                      first christmas years work feel\n",
              "3199           okay sus let hurt go hugging ya bitter ass\n",
              "Name: Text_data, Length: 3200, dtype: object"
            ]
          },
          "metadata": {},
          "execution_count": 7
        }
      ]
    },
    {
      "cell_type": "code",
      "source": [
        "# Import functions from sklearn library\n",
        "from sklearn.model_selection import train_test_split\n",
        "from sklearn.preprocessing import LabelEncoder\n",
        "# Splitting the data into training and testing sets\n",
        "train_data, test_data = train_test_split(df, test_size=0.2,random_state=16)\n",
        "print(\"Train Data size:\", len(train_data))\n",
        "print(\"Test Data size\", len(test_data))"
      ],
      "metadata": {
        "colab": {
          "base_uri": "https://localhost:8080/"
        },
        "id": "D3So9-EE7uV3",
        "outputId": "af23f78a-7a6d-402c-e34d-2f6863a2e7ff"
      },
      "execution_count": 8,
      "outputs": [
        {
          "output_type": "stream",
          "name": "stdout",
          "text": [
            "Train Data size: 2560\n",
            "Test Data size 640\n"
          ]
        }
      ]
    },
    {
      "cell_type": "code",
      "source": [
        "from keras.preprocessing.text import Tokenizer\n",
        "tokenizer = Tokenizer()\n",
        "tokenizer.fit_on_texts(train_data.Text_data)\n",
        "word_index = tokenizer.word_index\n",
        "print(word_index)"
      ],
      "metadata": {
        "colab": {
          "base_uri": "https://localhost:8080/"
        },
        "id": "snmZSPMq7027",
        "outputId": "56e6cb28-71bc-4522-f204-cd392dc04621"
      },
      "execution_count": 9,
      "outputs": [
        {
          "output_type": "stream",
          "name": "stdout",
          "text": [
            "{'twitter': 1, 'pic': 2, 'com': 3, 'like': 4, 'happy': 5, 'day': 6, 'life': 7, 'love': 8, 'one': 9, 'year': 10, 'feel': 11, 'time': 12, 'people': 13, 'today': 14, 'get': 15, 'want': 16, 'know': 17, 'feeling': 18, 'good': 19, 'new': 20, 'need': 21, 'much': 22, 'see': 23, 'really': 24, 'go': 25, 'never': 26, 'n': 27, 'amp': 28, 'right': 29, 'going': 30, 'back': 31, 'u': 32, 'would': 33, 'make': 34, 'help': 35, 'think': 36, 'great': 37, 'always': 38, 'someone': 39, 'us': 40, 'ever': 41, 'got': 42, 'let': 43, '2': 44, 'alone': 45, 'best': 46, 'hope': 47, 'depression': 48, 'still': 49, 'even': 50, 'things': 51, 'w': 52, 'start': 53, 'christmas': 54, 'way': 55, 'amazing': 56, 'days': 57, 'morning': 58, 'better': 59, 'work': 60, 'take': 61, 'well': 62, 'makes': 63, 'smile': 64, 'last': 65, 'depressed': 66, 'keep': 67, 'birthday': 68, 'many': 69, 'hate': 70, 'world': 71, 'sad': 72, 'bed': 73, 'talk': 74, 'bad': 75, 'first': 76, 'lost': 77, 'come': 78, 'nothing': 79, 'person': 80, 'watching': 81, 'could': 82, 'look': 83, 'getting': 84, 'years': 85, 'may': 86, 'heart': 87, '1': 88, 'friends': 89, 'pain': 90, 'happiness': 91, 'everyone': 92, 'anything': 93, 'hard': 94, 'say': 95, 'next': 96, 'god': 97, 'thank': 98, 'beautiful': 99, 'wish': 100, 'im': 101, 'sometimes': 102, 'sleep': 103, 'excited': 104, 'please': 105, 'another': 106, 'watch': 107, 'home': 108, 'away': 109, '3': 110, 'long': 111, 'little': 112, 'thing': 113, 'stop': 114, 'mind': 115, 'gonna': 116, 'find': 117, 'every': 118, 'give': 119, 'call': 120, 'night': 121, 'tonight': 122, 'fuck': 123, 'thought': 124, 'family': 125, 'trying': 126, 'something': 127, 'moment': 128, '4': 129, 'grateful': 130, 'wanna': 131, 'everything': 132, 'live': 133, 'oh': 134, 'lonely': 135, 'making': 136, 'old': 137, 'miss': 138, 'music': 139, 'week': 140, 'left': 141, 'laugh': 142, 'try': 143, 'friend': 144, 'blessed': 145, 'living': 146, 'done': 147, 'game': 148, 'glad': 149, 'tomorrow': 150, 'anyone': 151, 'eve': 152, '7': 153, 'around': 154, 'man': 155, 'laughter': 156, 'fucking': 157, 'crying': 158, 'looking': 159, 'loneliness': 160, 'end': 161, 'hilarious': 162, 'show': 163, 'maybe': 164, 'bit': 165, 'big': 166, 'joy': 167, 'wait': 168, 'lot': 169, 'actually': 170, 'leave': 171, 'made': 172, 'smiles': 173, 'since': 174, 'lol': 175, 'snap': 176, 'worst': 177, 'less': 178, 'guys': 179, 'shit': 180, 'times': 181, 'nobody': 182, 'put': 183, 'wonderful': 184, 'believe': 185, 'cry': 186, '2016': 187, 'anymore': 188, 'coming': 189, 'thanks': 190, 'funny': 191, 'tell': 192, 'place': 193, 'hell': 194, 'reading': 195, 'also': 196, 'guess': 197, 'said': 198, 'tears': 199, 'talking': 200, 'girl': 201, 'enough': 202, 'free': 203, 'without': 204, 'able': 205, 'brilliant': 206, 'laughing': 207, 'hours': 208, 'head': 209, 'holiday': 210, 'care': 211, 'stay': 212, 'open': 213, 'job': 214, 'money': 215, 'wrong': 216, '5': 217, 'fun': 218, 'tuesday': 219, 'awesome': 220, 'share': 221, 'looks': 222, 'dont': 223, 'ready': 224, '10': 225, 'sure': 226, 'sucks': 227, 'learn': 228, 'mood': 229, 'self': 230, 'problems': 231, 'remember': 232, 'lord': 233, 'seen': 234, 'kind': 235, 'already': 236, 'whole': 237, 'two': 238, 'must': 239, 'phone': 240, 'smiling': 241, 'yet': 242, 'point': 243, 'real': 244, 'might': 245, 'food': 246, 'excitement': 247, 'months': 248, 'understand': 249, 'went': 250, 'eclipse': 251, 'finally': 252, 'country': 253, 'alarm': 254, 'soon': 255, 'hopelessness': 256, 'reason': 257, 'eat': 258, '6': 259, 'often': 260, '2017': 261, 'together': 262, 'realize': 263, 'ww': 264, 'anxiety': 265, 'die': 266, 'car': 267, 'holidays': 268, 'seriously': 269, 'literally': 270, 'starting': 271, 'else': 272, 'black': 273, 'feels': 274, 'loved': 275, 'school': 276, 'ur': 277, 'success': 278, 'depressing': 279, 'rt': 280, 'mom': 281, 'gone': 282, 'matter': 283, 'yesterday': 284, 'low': 285, 'shake': 286, 'positive': 287, 'news': 288, 'human': 289, 'frown': 290, 'read': 291, 'strong': 292, 'soul': 293, 'ok': 294, 'break': 295, 'worth': 296, 'others': 297, 'ass': 298, 'mental': 299, 'instead': 300, 'run': 301, 'house': 302, 'part': 303, 'sadness': 304, 'dad': 305, 'honestly': 306, 'woke': 307, 'sun': 308, 'delicious': 309, 'dream': 310, 'cheer': 311, 'hear': 312, 'hurt': 313, 'half': 314, '2015': 315, 'easy': 316, 'weeks': 317, '24': 318, 'close': 319, 'adorable': 320, 'word': 321, 'kill': 322, 'okay': 323, 'idea': 324, 'sick': 325, 'song': 326, 'dread': 327, 'gets': 328, 'therapy': 329, 'fear': 330, 'used': 331, 'r': 332, 'probably': 333, 'side': 334, 'change': 335, 'turn': 336, 'working': 337, 'dreams': 338, 'far': 339, 'peace': 340, 'thoughts': 341, 'ask': 342, 'though': 343, 'comes': 344, 'rest': 345, 'use': 346, 'choose': 347, 'wake': 348, 'broke': 349, 'least': 350, 'movie': 351, 'face': 352, 'yes': 353, 'power': 354, 'found': 355, 'contact': 356, 'parents': 357, 'longer': 358, 'baby': 359, 'especially': 360, 'playing': 361, 'forward': 362, 'tired': 363, 'relentless': 364, 'inside': 365, 'season': 366, 'wow': 367, 'experience': 368, 'serious': 369, 'white': 370, 'fact': 371, 'wants': 372, 'wonder': 373, 'died': 374, 'ago': 375, 'afraid': 376, 'pretty': 377, 'step': 378, 'yummy': 379, 'album': 380, 'brain': 381, 'late': 382, 'sister': 383, 'eyes': 384, 'full': 385, 'thinking': 386, 'blues': 387, 'cause': 388, 'support': 389, 'room': 390, 'takes': 391, 'women': 392, 'social': 393, 'waiting': 394, 'lead': 395, 'past': 396, 'damn': 397, 'hair': 398, 'state': 399, 'month': 400, 'team': 401, 'terrible': 402, 'enjoy': 403, 'focus': 404, 'awe': 405, 'bliss': 406, 'came': 407, 'truly': 408, 'joyful': 409, 'dark': 410, 'seeing': 411, 'feelings': 412, 'bright': 413, 'party': 414, 'hesitate': 415, 'deal': 416, 'company': 417, 'cannot': 418, 'dog': 419, 'hurts': 420, 'rejoice': 421, 'health': 422, 'problem': 423, 'spread': 424, '9': 425, 'monday': 426, 'mother': 427, 'worry': 428, 'weather': 429, 'wanted': 430, 'started': 431, 'snapchat': 432, 'ppl': 433, 'girls': 434, 'coffee': 435, 'become': 436, 'bro': 437, '12': 438, 'rn': 439, 'control': 440, 'super': 441, 'omg': 442, 'hug': 443, 'fault': 444, 'stuck': 445, 'book': 446, 'older': 447, '11': 448, 'men': 449, 'mine': 450, 'welcome': 451, 'minutes': 452, 'happen': 453, 'worse': 454, 'tremendous': 455, 'cos': 456, 'true': 457, 'telling': 458, 'told': 459, 'performance': 460, 'tho': 461, 'nice': 462, 'death': 463, 'emotions': 464, 'follow': 465, 'listen': 466, 'needed': 467, 'drink': 468, 'boiling': 469, 'knows': 470, 'forget': 471, 'lose': 472, 'miserable': 473, 'top': 474, 'darkness': 475, 'hopeless': 476, 'happened': 477, 'missing': 478, 'small': 479, 'listening': 480, 'early': 481, 'blessing': 482, 'outside': 483, 'favorite': 484, 'b': 485, 'hot': 486, 'hello': 487, 'emotional': 488, 'sorry': 489, 'walk': 490, 'drinking': 491, '20': 492, 'tweets': 493, 'looked': 494, 'chat': 495, 'awesomeness': 496, 'tried': 497, 'guy': 498, 'took': 499, 'spirit': 500, 'laying': 501, 'anohni': 502, 'lunch': 503, 'important': 504, 'ugh': 505, 'quote': 506, 'message': 507, 'sexy': 508, 'pleasure': 509, 'effects': 510, 'set': 511, 'plans': 512, 'whatever': 513, 'mean': 514, 'offers': 515, 'cut': 516, 'shows': 517, 'system': 518, 'hey': 519, 'moments': 520, 'absolutely': 521, 'speak': 522, 'called': 523, 'idk': 524, 'proud': 525, 'vacation': 526, 'john': 527, 'goals': 528, 'helping': 529, 'heal': 530, 'fight': 531, 'hang': 532, 'record': 533, 'using': 534, 'post': 535, 'media': 536, 'relationships': 537, 'goes': 538, '8': 539, '1st': 540, 'order': 541, 'unhappy': 542, 'alive': 543, 'hold': 544, 'optimism': 545, 'leaving': 546, 'kids': 547, 'obama': 548, 'future': 549, 'horny': 550, 'suffering': 551, 'story': 552, 'dm': 553, 'voice': 554, 'empty': 555, 'reach': 556, 'says': 557, 'jesus': 558, 'conditions': 559, 'tweet': 560, 'weekend': 561, 'turned': 562, 'sleeping': 563, 'clock': 564, 'taking': 565, 'goodbye': 566, 'finished': 567, 'broken': 568, 'play': 569, 'lives': 570, 'happier': 571, 'cool': 572, 'youre': 573, 'upset': 574, 'fall': 575, 'words': 576, 'sink': 577, 'wednesday': 578, 'community': 579, 'truth': 580, 'writing': 581, 'eating': 582, 'keeps': 583, 'deep': 584, 'reality': 585, 'cream': 586, 'july': 587, 'moving': 588, 'saw': 589, 'af': 590, 'heard': 591, 'ate': 592, 'five': 593, 'places': 594, 'win': 595, 'disease': 596, 'january': 597, 'save': 598, 'inspiring': 599, 'connect': 600, 'office': 601, 'burst': 602, 'spend': 603, 'dinner': 604, 'etc': 605, 'short': 606, 'motivation': 607, 'easier': 608, 'either': 609, 'tag': 610, 'summer': 611, 'stuff': 612, 'write': 613, 'pm': 614, 'pay': 615, 'class': 616, 'lil': 617, 'faith': 618, 'blue': 619, 'wondering': 620, 'america': 621, 'dear': 622, 'hide': 623, 'fears': 624, 'upon': 625, 'chasing': 626, 'shopping': 627, 'disappointment': 628, 'non': 629, 'uk': 630, 'body': 631, 'definitely': 632, 'sit': 633, 'apart': 634, 'usa': 635, 'forever': 636, 'decided': 637, 'supposed': 638, 'video': 639, 'cares': 640, 'joke': 641, 'kit': 642, 'hour': 643, 'realdonaldtrump': 644, 'shine': 645, 'exercise': 646, 'rock': 647, 'chocolate': 648, 'cake': 649, 'space': 650, 'add': 651, 'rather': 652, 'needs': 653, 'saying': 654, 'daily': 655, 'purpose': 656, 'fix': 657, 'boyfriend': 658, 'hurting': 659, 'hospital': 660, 'cute': 661, 'lt': 662, 'revenge': 663, 'failure': 664, 'ya': 665, 'deserve': 666, 'mad': 667, 'incredible': 668, 'key': 669, 'gotta': 670, 'sense': 671, 'pics': 672, 'realized': 673, 'suicide': 674, '30': 675, 'everywhere': 676, 'bitch': 677, 'inner': 678, 'dead': 679, 'meet': 680, 'simply': 681, 'business': 682, 'cheering': 683, 'ones': 684, 'losing': 685, 'til': 686, 'stress': 687, 'exist': 688, 'expect': 689, 'means': 690, 'tea': 691, 'draw': 692, 'stars': 693, 'course': 694, 'difficult': 695, 'level': 696, 'boom': 697, 'spent': 698, 'magical': 699, '13': 700, 'common': 701, 'xmas': 702, 'lovely': 703, 'terrific': 704, 'dull': 705, 'killing': 706, 'dance': 707, 'ice': 708, 'fellow': 709, 'drunk': 710, 'singing': 711, 'apparently': 712, 'brother': 713, 'na': 714, 'road': 715, 'giving': 716, 'friday': 717, 'yeah': 718, 'powerful': 719, 'presence': 720, 'chance': 721, 'respect': 722, 'anybody': 723, 'lie': 724, 'ended': 725, 'seem': 726, 'suffer': 727, 'interesting': 728, 'sunday': 729, 'scared': 730, 'witness': 731, 'steps': 732, 'water': 733, 'huge': 734, '90': 735, 'figure': 736, 'trust': 737, 'continue': 738, 'closed': 739, 'light': 740, 'single': 741, 'hits': 742, 'overcoming': 743, 'text': 744, 'giggle': 745, 'simple': 746, 'clearly': 747, 'almost': 748, 'hole': 749, 'line': 750, 'ha': 751, 'choice': 752, 'tv': 753, 'fast': 754, 'football': 755, 'followers': 756, 'brings': 757, 'warm': 758, 'snow': 759, 'second': 760, 'husband': 761, 'red': 762, 'celebrate': 763, 'crazy': 764, 'silence': 765, 'drinks': 766, 'changed': 767, 'disorder': 768, 'treated': 769, 'child': 770, 'bored': 771, 'met': 772, 'wont': 773, 'bought': 774, 'throw': 775, 'evening': 776, 'treating': 777, 'surrounded': 778, '15': 779, 'happens': 780, 'dealing': 781, 'mask': 782, 'account': 783, 'famous': 784, 'healing': 785, 'workout': 786, 'thx': 787, 'picture': 788, 'raining': 789, 'hated': 790, 'admit': 791, 'lay': 792, 'worthless': 793, 'jus': 794, 'beach': 795, 'due': 796, 'tells': 797, 'kinda': 798, 'beyond': 799, 'helps': 800, 'group': 801, 'officially': 802, 'couple': 803, 'high': 804, 'boy': 805, 'city': 806, '800': 807, '273': 808, '8255': 809, 'concern': 810, 'fine': 811, 'bother': 812, 'treatment': 813, 'horrible': 814, '70': 815, 'staying': 816, 'eye': 817, 'books': 818, 'session': 819, 'offended': 820, 'usually': 821, 'difficulty': 822, 'angry': 823, 'tickets': 824, 'kiss': 825, 'loveisland': 826, 'towards': 827, 'luck': 828, 'knowledge': 829, 'topic': 830, 'move': 831, 'sees': 832, 'bout': 833, 'seems': 834, 'certain': 835, 'nightmare': 836, 'yrs': 837, 'sounds': 838, 'opportunity': 839, 'shitty': 840, 'buy': 841, 'total': 842, 'loving': 843, 'completely': 844, 'netflix': 845, 'public': 846, 'along': 847, 'asking': 848, 'extra': 849, 'headache': 850, 'productive': 851, 'grim': 852, 'jealous': 853, 'fan': 854, 'perfect': 855, 'jokes': 856, 'fighting': 857, 'wedding': 858, 'isolation': 859, 'finding': 860, 'knowing': 861, 'laughs': 862, 'symptoms': 863, 'crush': 864, 'cant': 865, 'screaming': 866, 'wanting': 867, 'wishing': 868, 'sitting': 869, 'deeply': 870, 'running': 871, 'patients': 872, 'calm': 873, 'treat': 874, 'age': 875, 'festive': 876, 'bully': 877, 'souls': 878, 'chris': 879, 'basically': 880, 'entire': 881, 'recent': 882, 'struggle': 883, 'loves': 884, 'earlier': 885, 'disappointing': 886, 'different': 887, 'dying': 888, 'later': 889, 'loss': 890, 'pull': 891, 'bitter': 892, 'somebody': 893, 'president': 894, 'final': 895, 'fake': 896, '22': 897, 'fucked': 898, 'polish': 899, 'bottle': 900, 'teams': 901, 'swimming': 902, 'town': 903, 'clean': 904, 'ex': 905, 'ends': 906, '14': 907, 'successful': 908, 'poor': 909, 'safe': 910, 'makeup': 911, 'jeans': 912, 'drama': 913, 'accept': 914, 'energy': 915, 'strange': 916, 'perhaps': 917, 'shared': 918, 'instagram': 919, 'wounds': 920, 'near': 921, 'comfort': 922, 'writer': 923, 'sing': 924, 'breakdown': 925, 'stronger': 926, 'risk': 927, 'illness': 928, 'grief': 929, 'surprised': 930, 'favourite': 931, 'character': 932, 'insult': 933, 'starts': 934, 'sky': 935, 'pointless': 936, 'whenever': 937, 'abt': 938, 'afternoon': 939, 'cuz': 940, 'forgot': 941, 'daughter': 942, 'dumb': 943, 'painful': 944, 'awful': 945, 'screwed': 946, 'experienced': 947, 'woman': 948, 'decorations': 949, 'art': 950, 'passed': 951, 'gloomy': 952, 'glass': 953, 'begin': 954, 'k': 955, 'watched': 956, 'among': 957, 'dick': 958, 'christ': 959, 'stranger': 960, 'stories': 961, 'period': 962, 'ill': 963, '18': 964, 'hoping': 965, 'wear': 966, 'taehyung': 967, 'escape': 968, 'secret': 969, 'value': 970, 'utter': 971, 'desperation': 972, 'tiff': 973, 'fuckd': 974, 'suck': 975, 'till': 976, 'pretend': 977, 'weary': 978, 'young': 979, 'across': 980, 'awake': 981, 'f': 982, 'goodmorning': 983, 'bless': 984, 'asks': 985, 'crash': 986, 'question': 987, 'busy': 988, 'skin': 989, 'natural': 990, 'cider': 991, 'act': 992, 'apartment': 993, 'size': 994, 'response': 995, 'crap': 996, 'connections': 997, 'create': 998, 'seek': 999, 'happening': 1000, 'lately': 1001, 'thankful': 1002, 'straight': 1003, '100': 1004, 'suicidal': 1005, 'attack': 1006, 'centre': 1007, 'ending': 1008, 'remain': 1009, 'n2': 1010, 'c': 1011, 'designed': 1012, 'spending': 1013, 'bath': 1014, 'wearing': 1015, 'plan': 1016, 'serotonin': 1017, 'confused': 1018, 'check': 1019, 'bank': 1020, 'special': 1021, 'falling': 1022, 'decide': 1023, 'dude': 1024, 'sir': 1025, 'ignore': 1026, 'members': 1027, 'wednesdaywisdom': 1028, 'gay': 1029, 'project': 1030, 'sober': 1031, 'helped': 1032, 'given': 1033, 'cup': 1034, 'boys': 1035, 'rise': 1036, 'cried': 1037, 'gives': 1038, 'relief': 1039, 'cheerful': 1040, 'x': 1041, 'dr': 1042, 'seat': 1043, 'gameofthrones': 1044, 'church': 1045, 'felt': 1046, 'nit': 1047, 'exactly': 1048, 'learned': 1049, 'caused': 1050, 'fails': 1051, 'trip': 1052, 'possible': 1053, 'ahead': 1054, 'offense': 1055, 'mins': 1056, 'wife': 1057, 'send': 1058, 'tough': 1059, 'h': 1060, 'wisdom': 1061, 'ring': 1062, 'asleep': 1063, 'harder': 1064, 'filled': 1065, 'debbie': 1066, 'everyday': 1067, 'hunting': 1068, 'managed': 1069, 'delightful': 1070, 'ocean': 1071, 'included': 1072, 'son': 1073, '635': 1074, 'bring': 1075, 'lady': 1076, 'children': 1077, 'honest': 1078, '17': 1079, 'handle': 1080, 'levels': 1081, 'anatomy': 1082, 'significant': 1083, 'sent': 1084, 'aw': 1085, 'pizza': 1086, 'whats': 1087, 'ko': 1088, 'donaldjtrumpjr': 1089, 'trump': 1090, 'beauty': 1091, 'multiple': 1092, 'physical': 1093, 'confident': 1094, 'listens': 1095, 'executivegoth': 1096, 'enjoying': 1097, 'hi': 1098, '80': 1099, 'college': 1100, 'useful': 1101, 'medical': 1102, 'wee': 1103, 'following': 1104, 'modern': 1105, 'sweet': 1106, 'gene': 1107, 'wellbeing': 1108, 'case': 1109, 'congratulations': 1110, 'fantastic': 1111, 'arm': 1112, 'blog': 1113, 'currently': 1114, 'mindfulness': 1115, 'via': 1116, 'email': 1117, 'mars': 1118, 'teeth': 1119, 'subway': 1120, 'front': 1121, 'blood': 1122, 'void': 1123, 'games': 1124, 'asked': 1125, 'smoking': 1126, 'pass': 1127, 'nail': 1128, 'stand': 1129, 'danger': 1130, 'industry': 1131, 'chad': 1132, 'nearly': 1133, 'vs': 1134, 'neither': 1135, 'everybody': 1136, 'hearing': 1137, 'goal': 1138, 'name': 1139, 'sending': 1140, 'random': 1141, 'delight': 1142, 'didnt': 1143, 'burger': 1144, 'four': 1145, 'sorrow': 1146, 'chinese': 1147, 'proverbs': 1148, 'butter': 1149, 'recipes': 1150, 'comforting': 1151, 'la': 1152, 'minded': 1153, 'winter': 1154, 'appreciate': 1155, 'facebook': 1156, 'acting': 1157, 'weird': 1158, 'beginning': 1159, 'nah': 1160, 'attention': 1161, 'costs': 1162, 'gm': 1163, 'bb': 1164, 'realised': 1165, 'chooses': 1166, 'adults': 1167, 'emotionally': 1168, 'voices': 1169, 'dudes': 1170, 'bye': 1171, 'drugs': 1172, 'ride': 1173, 'amanda': 1174, 'coker': 1175, '77': 1176, 'bicycling': 1177, 'athlete': 1178, 'amandacoker': 1179, 'tdf': 1180, 'drive': 1181, 'humility': 1182, 'paid': 1183, 'hanging': 1184, 'faster': 1185, 'bae': 1186, 'grab': 1187, 'notes': 1188, 'king': 1189, 'known': 1190, 'grade': 1191, 'caught': 1192, 'enjoyed': 1193, 'fish': 1194, 'disappointed': 1195, 'parent': 1196, 'journey': 1197, 'amount': 1198, 'shame': 1199, 'becomes': 1200, '40': 1201, 'issue': 1202, 'difference': 1203, 'michelle': 1204, 'normal': 1205, 'sex': 1206, 'despite': 1207, 'shall': 1208, 'saturday': 1209, 'lazy': 1210, 'minute': 1211, 'cheers': 1212, 'romantic': 1213, 'bags': 1214, 'guest': 1215, 'uncharted': 1216, 'crushing': 1217, 'gun': 1218, 'sharing': 1219, 'likes': 1220, 'freedom': 1221, 'nudes': 1222, 'cnn': 1223, 'apple': 1224, 'color': 1225, 'shy': 1226, 'annoyed': 1227, 'expensive': 1228, 'gifts': 1229, 'receiving': 1230, 'ive': 1231, 'inspiration': 1232, 'inspire': 1233, 'ball': 1234, 'father': 1235, 'deeper': 1236, 'strongest': 1237, 'sorts': 1238, 'bringing': 1239, 'connected': 1240, 'channel': 1241, 'despair': 1242, 'haters': 1243, 'nye': 1244, 'sound': 1245, 'girlfriend': 1246, 'st': 1247, 'alcohol': 1248, 'cycle': 1249, 'mentally': 1250, 'clothes': 1251, 'uncle': 1252, 'chick': 1253, 'threat': 1254, 'creates': 1255, 'quarter': 1256, 'theviberide': 1257, 'alongside': 1258, 'emily': 1259, 'gagnon': 1260, 'courtney': 1261, 'legs': 1262, 'jk': 1263, 'tweeted': 1264, 'courage': 1265, 'hugging': 1266, 'animated': 1267, 'born': 1268, 'tries': 1269, 'explain': 1270, 'quickly': 1271, 'pair': 1272, 'fans': 1273, 'writerslife': 1274, 'box': 1275, 'style': 1276, 'incense': 1277, 'pieces': 1278, 'august': 1279, 'crime': 1280, 'effective': 1281, 'october': 1282, 'understands': 1283, 'thunder': 1284, 'somewhere': 1285, 'sandwich': 1286, 'recovery': 1287, 'dangerous': 1288, 'bloody': 1289, 'cure': 1290, 'delivery': 1291, 'shocking': 1292, 'panic': 1293, 'understanding': 1294, 'bunch': 1295, 'avoid': 1296, 'facial': 1297, 'becoming': 1298, 'weight': 1299, 'hillary': 1300, 'meant': 1301, 'friendship': 1302, 'receive': 1303, 'psalm': 1304, 'lmao': 1305, 'gave': 1306, 'shout': 1307, 'desperate': 1308, 'matters': 1309, 'pray': 1310, 'dry': 1311, 'brought': 1312, 'quotes': 1313, 'represents': 1314, 'anywhere': 1315, 'attacks': 1316, 'thursday': 1317, 'trash': 1318, 'episode': 1319, 'profit': 1320, 'organization': 1321, 'johntassparker': 1322, 'shiny': 1323, 'price': 1324, 'match': 1325, 'solareclipse2017': 1326, 'heaven': 1327, 'missed': 1328, 'divorce': 1329, 'hidden': 1330, 'majority': 1331, 'putting': 1332, 'stayed': 1333, 'available': 1334, 'discouraged': 1335, 'daddy': 1336, 'customer': 1337, 'local': 1338, 'fed': 1339, 'tips': 1340, 'ed': 1341, 'repeat': 1342, 'funk': 1343, 'shut': 1344, 'bday': 1345, '2wheel': 1346, 'pune': 1347, '8888006565': 1348, 'fresh': 1349, 'engaged': 1350, 'shahidafridi37': 1351, 'ndts': 1352, 'afridi': 1353, 'prisoner': 1354, 'choosing': 1355, 'movies': 1356, 'prayer': 1357, 'hahaha': 1358, 'fat': 1359, 'finds': 1360, 'lots': 1361, 'info': 1362, 'bomb': 1363, 'canada': 1364, 'friendships': 1365, 'design': 1366, 'interact': 1367, 'blonde': 1368, 'pop': 1369, 'garden': 1370, 'circumstances': 1371, 'pity': 1372, 'lifetime': 1373, 'twist': 1374, 'epic': 1375, 'edge': 1376, 'dragonsonthewall': 1377, '16': 1378, '50': 1379, 'loud': 1380, 'three': 1381, 'spot': 1382, 'santa': 1383, 'kindness': 1384, 'hit': 1385, 'ugly': 1386, 'war': 1387, 'meds': 1388, 'clips': 1389, 'highly': 1390, 'monsters': 1391, 'raging': 1392, 'thru': 1393, 'million': 1394, 'vibes': 1395, 'creeps': 1396, 'usual': 1397, 'gg': 1398, 'arrived': 1399, 'league': 1400, 'communicate': 1401, 'nmy': 1402, 'beating': 1403, 'stops': 1404, 'strongly': 1405, 'leadership': 1406, 'application': 1407, 'tear': 1408, 'liked': 1409, 'sigh': 1410, 'hill': 1411, 'dancing': 1412, 'eclipse2017': 1413, 'none': 1414, 'christinasnp': 1415, 'folk': 1416, 'loads': 1417, 'sunshine': 1418, 'lived': 1419, 'chandlerbmusic': 1420, 'kickstarter': 1421, 'begins': 1422, 'chandlerbaymusic': 1423, 'chandlerbayep': 1424, 'tantrum': 1425, 'doubt': 1426, 'glee': 1427, 'profile': 1428, 'texas': 1429, 'walls': 1430, 'sign': 1431, 'extremely': 1432, 'lively': 1433, 'pure': 1434, 'clear': 1435, 'present': 1436, 'answers': 1437, 'join': 1438, 'yr': 1439, 'wat': 1440, 'heartbreaking': 1441, 'behind': 1442, 'grace': 1443, 'rain': 1444, 'cancer': 1445, 'struggling': 1446, 'offer': 1447, '0800': 1448, 'keeping': 1449, 'neighbor': 1450, 'anohnitweets': 1451, 'breathless': 1452, 'earth': 1453, 'healthy': 1454, 'immune': 1455, 'enemy': 1456, 'advice': 1457, 'thursdaythoughts': 1458, '00': 1459, 'dropped': 1460, 'tongue': 1461, 'shack': 1462, 'piece': 1463, 'service': 1464, 'bills': 1465, 'battle': 1466, 'welcoming': 1467, 'grudge': 1468, 'yay': 1469, 'beat': 1470, 'brutal': 1471, 'setback': 1472, 'protein': 1473, 'spicy': 1474, 'rice': 1475, 'pll': 1476, 'theory': 1477, 'greys': 1478, 'thrones': 1479, 'comment': 1480, '14th': 1481, 'beer': 1482, 'pictures': 1483, 'tour': 1484, 'sisters': 1485, 'relieved': 1486, 'blame': 1487, 'pissed': 1488, 'selfcare': 1489, 'therapist': 1490, 'loose': 1491, 'report': 1492, 'headaches': 1493, 'totally': 1494, 'xxoo': 1495, 'yas': 1496, 'tons': 1497, 'bunches': 1498, 'banging': 1499, 'nephew': 1500, 'jointeamalpha': 1501, 'claire': 1502, 'jaimitoelcrack7': 1503, 'struck': 1504, 'steam': 1505, 'roller': 1506, 'coaster': 1507, 'au': 1508, 'alex': 1509, 'conversation': 1510, 'trained': 1511, 'pharmacy': 1512, 'anti': 1513, 'exciting': 1514, 'effort': 1515, 'visit': 1516, 'swear': 1517, 'victory': 1518, 'taste': 1519, 'bitterness': 1520, 'issues': 1521, 'begun': 1522, 'training': 1523, 'blissful': 1524, 'cpc': 1525, 'calling': 1526, 'kdrama': 1527, 'giants': 1528, 'simmons': 1529, 'ph': 1530, 'accepting': 1531, 'powers': 1532, 'co': 1533, 'jo': 1534, 'posts': 1535, 'andy': 1536, 'hopeful': 1537, 'clients': 1538, 'online': 1539, 'retweet': 1540, 'root': 1541, 'cereal': 1542, 'stopped': 1543, 'club': 1544, 'ruined': 1545, 'commute': 1546, 'kitten': 1547, 'slept': 1548, 'numb': 1549, '19': 1550, 'critical': 1551, 'smoke': 1552, 'rabid': 1553, 'hardened': 1554, 'gummy': 1555, 'pan': 1556, 'baked': 1557, 'nfl': 1558, 'victim': 1559, 'fret': 1560, 'brains': 1561, 'tiring': 1562, 'sarah': 1563, 'cbb': 1564, 'horrifying': 1565, 'rub': 1566, 'zero': 1567, '27': 1568, 'arcadegirl64': 1569, 'toward': 1570, 'shattered': 1571, 'gray': 1572, 'press': 1573, 'conference': 1574, 'frm': 1575, 'suppress': 1576, 'anger': 1577, '4th': 1578, 'peanut': 1579, 'balls': 1580, 'ep': 1581, 'nearest': 1582, 'meme': 1583, 'direction': 1584, 'teaching': 1585, 'explore': 1586, 'chose': 1587, 'rich': 1588, 'abroad': 1589, 'answer': 1590, 'fb': 1591, 'talks': 1592, 'gym': 1593, 'wasnt': 1594, 'ae': 1595, 'stream': 1596, 'de': 1597, 'app': 1598, 'data': 1599, 'kid': 1600, 'memes': 1601, '2am': 1602, 'messages': 1603, 'rising': 1604, 'cost': 1605, 'mourn': 1606, 'hopes': 1607, 'james': 1608, 'otherwise': 1609, 'cancelled': 1610, 'devastated': 1611, 'bread': 1612, 'yum': 1613, 'nine': 1614, 'chemicals': 1615, 'intimidated': 1616, 'mpsvt': 1617, 'catching': 1618, 'breath': 1619, 'note': 1620, 'min': 1621, 'sat': 1622, 'consolation': 1623, 'return': 1624, 'false': 1625, 'product': 1626, 'cancel': 1627, 'relationship': 1628, 'fam': 1629, 'statement': 1630, 'ultimately': 1631, 'onto': 1632, 'charts': 1633, 'trees': 1634, 'negative': 1635, 'origin': 1636, 'classic': 1637, 'praying': 1638, 'kicked': 1639, 'thats': 1640, 'growing': 1641, 'waste': 1642, 'emotion': 1643, 'abuse': 1644, 'medication': 1645, 'wtf': 1646, 'suffocating': 1647, 'male': 1648, 'regular': 1649, 'drawing': 1650, 'tablet': 1651, 'manga': 1652, 'drawer': 1653, 'sheer': 1654, 'london': 1655, '3rd': 1656, 'realise': 1657, 'results': 1658, 'spoken': 1659, 'kawells00': 1660, 'memories': 1661, 'fully': 1662, 'affects': 1663, 'bffs': 1664, 'punt': 1665, 'bunnies': 1666, '118': 1667, 'flu': 1668, 'hypomania': 1669, 'reject': 1670, 'sentiment': 1671, 'analysis': 1672, 'algorithms': 1673, 'nature': 1674, 'splaying': 1675, 'gold': 1676, 'prevents': 1677, 'worried': 1678, 'west': 1679, 'guilt': 1680, 'disorders': 1681, 'bug': 1682, 'carrie': 1683, 'princess': 1684, 'tools': 1685, 'reminds': 1686, 'trade': 1687, 'toughest': 1688, 'beats': 1689, 'cnnbrk': 1690, '60': 1691, 'clap': 1692, 'hands': 1693, 'allow': 1694, '2014': 1695, 'miles': 1696, 'curls': 1697, 'merry': 1698, 'rough': 1699, 'current': 1700, 'fist': 1701, 'park': 1702, 'venue': 1703, 'pussy': 1704, 'fill': 1705, 'belongs': 1706, 'smm': 1707, 'teaser': 1708, 'apt': 1709, 'kills': 1710, 'cross': 1711, 'constantly': 1712, 'aware': 1713, 'dresses': 1714, 'nand': 1715, 'fearful': 1716, 'meditation': 1717, 'restore': 1718, 'youtuber': 1719, 'zone': 1720, 'isnt': 1721, 'wifi': 1722, 'dollars': 1723, 'lights': 1724, 'sufficient': 1725, 'jump': 1726, 'closes': 1727, 'dreamt': 1728, 'snapping': 1729, 'clubs': 1730, 'madrid': 1731, 'block': 1732, 'guessing': 1733, '132': 1734, 'stevenson': 1735, 'struggles': 1736, 'ideation': 1737, 'sus': 1738, 'muscle': 1739, 'victoria': 1740, 'fashion': 1741, 'values': 1742, 'boo': 1743, 'apology': 1744, 'smells': 1745, 'activities': 1746, 'beloved': 1747, 'pup': 1748, 'upcoming': 1749, 'punch': 1750, 'steal': 1751, 'gossip': 1752, 'batthemusical': 1753, 'sets': 1754, 'holy': 1755, '38': 1756, 'believing': 1757, 'contribution': 1758, 'jesuschristwillhelpyouaccomplishyourdream': 1759, 'mail': 1760, 'positivevibes': 1761, 'alpha': 1762, 'trial': 1763, 'sold': 1764, 'subscription': 1765, 'proof': 1766, 'vape': 1767, 'deserves': 1768, 'latmultilingual': 1769, 'indeed': 1770, 'drowning': 1771, 'adventure': 1772, 'sensing': 1773, 'nights': 1774, 'candles': 1775, 'ankle': 1776, 'puts': 1777, 'riding': 1778, 'september': 1779, 'minimum': 1780, 'growl': 1781, 'turkey': 1782, 'thankyou': 1783, 'babe': 1784, 'reckon': 1785, 'posting': 1786, 'barely': 1787, 'videos': 1788, 'rocks': 1789, 'bay': 1790, 'blew': 1791, 'harmful': 1792, 'basic': 1793, 'questions': 1794, 'tonite': 1795, 'shootings': 1796, 'z': 1797, 'band': 1798, 'air': 1799, 'fire': 1800, 'whn': 1801, 'details': 1802, 'decisions': 1803, 'attempt': 1804, 'e': 1805, 'location': 1806, 'badservice': 1807, 'racing': 1808, 'seven': 1809, 'seas': 1810, 'causing': 1811, 'noone': 1812, 'react': 1813, 'planned': 1814, 'cleansers': 1815, 'supporting': 1816, 'raising': 1817, 'sea': 1818, 'deserved': 1819, 'temporary': 1820, 'dms': 1821, 'storage': 1822, 'bigger': 1823, 'negativity': 1824, 'bs': 1825, 'humans': 1826, 'pack': 1827, 'animals': 1828, 'strength': 1829, 'survive': 1830, 'professional': 1831, 'buying': 1832, 'weathers': 1833, 'rules': 1834, 'weapon': 1835, 'lacks': 1836, 'access': 1837, 'sharp': 1838, 'promote': 1839, 'businesses': 1840, 'economic': 1841, 'snowing': 1842, 'peak': 1843, 'knew': 1844, 'suicides': 1845, 'creating': 1846, 'mixed': 1847, 'fave': 1848, 'nervous': 1849, 'sexual': 1850, 'craving': 1851, 'forest': 1852, 'study': 1853, 'eats': 1854, 'mi': 1855, 'celebrating': 1856, 'jack': 1857, 'definition': 1858, 'birds': 1859, 'history': 1860, 'lov': 1861, 'raised': 1862, 'reminder': 1863, 'experiencing': 1864, 'constant': 1865, 'hand': 1866, 'guaranteed': 1867, 'girly': 1868, 'sell': 1869, 'allah': 1870, 'expands': 1871, 'ground': 1872, 'lips': 1873, 'granny': 1874, 'crumble': 1875, 'luv': 1876, 'term': 1877, 'bc': 1878, 'secretly': 1879, 'ralligatorrr': 1880, 'springbreak': 1881, 'cancun': 1882, 'mcgregor': 1883, 'mayweathervsmcgregor': 1884, 'relax': 1885, 'bet': 1886, 'anyway': 1887, 'tattoos': 1888, 'survivor': 1889, 'range': 1890, 'major': 1891, 'makers': 1892, 'cheap': 1893, 'ceramic': 1894, 'likely': 1895, 'anytime': 1896, 'throughout': 1897, 'follower': 1898, 'cars': 1899, 'rude': 1900, 'smart': 1901, 'directly': 1902, 'maker': 1903, 'cat': 1904, 'cats': 1905, 'dealer': 1906, 'hmu': 1907, 'plane': 1908, 'downtown': 1909, 'schedule': 1910, 'thechildrenact': 1911, 'stanleytucci': 1912, 'emmathompson': 1913, 'decision': 1914, 'beneath': 1915, 'familiar': 1916, 'toxic': 1917, 'russian': 1918, 'pants': 1919, 'legit': 1920, 'although': 1921, 'ignorance': 1922, 'complicated': 1923, 'pilgrimage': 1924, 'shud': 1925, 'salad': 1926, 'alright': 1927, 'hound': 1928, 'tch': 1929, 'xbox': 1930, 'february': 1931, 'listened': 1932, 'uploaded': 1933, 'whilst': 1934, 'newborn': 1935, 'shouldnt': 1936, 'cookies': 1937, 'rogerfederer': 1938, 'awestruck': 1939, 'express': 1940, 'suppose': 1941, 'gps': 1942, 'pet': 1943, 'routine': 1944, 'pine': 1945, 'sort': 1946, 'explode': 1947, 'notice': 1948, 'giant': 1949, 'exists': 1950, 'invisible': 1951, 'poetry': 1952, 'oliver': 1953, '7102017': 1954, 'connection': 1955, 'sunk': 1956, 'excellent': 1957, 'meeting': 1958, 'truely': 1959, 'sentence': 1960, 'jobless': 1961, 'sand': 1962, 'addictive': 1963, 'situation': 1964, 'regardless': 1965, 'heck': 1966, 'mistake': 1967, 'indians': 1968, 'joe': 1969, 'allstargame': 1970, 'desire': 1971, 'wallow': 1972, 'path': 1973, 'brooks': 1974, '49': 1975, 'degrees': 1976, 'sight': 1977, 'bcs': 1978, 'differently': 1979, 'giggles': 1980, 'perseverance': 1981, 'dedication': 1982, 'unwavering': 1983, 'amyleighmercree': 1984, 'systems': 1985, 'opportunities': 1986, 'afford': 1987, 'bugsyseigal': 1988, 'lunchtime': 1989, 'grow': 1990, 'corrupt': 1991, 'mix': 1992, 'vegas': 1993, 'plot': 1994, 'calendar': 1995, 'oneself': 1996, 'dublin': 1997, 'ears': 1998, 'clinically': 1999, 'ben': 2000, 'deals': 2001, 'spud': 2002, 'build': 2003, 'star': 2004, 'review': 2005, 'marcmero': 2006, 'dates': 2007, 'nabsence': 2008, 'learning': 2009, 'action': 2010, 'complaining': 2011, 'squared': 2012, 'meals': 2013, 'cold': 2014, 'considering': 2015, 'planning': 2016, 'ability': 2017, 'function': 2018, 'madden': 2019, 'pleasing': 2020, 'addicting': 2021, 'peaceful': 2022, 'shuts': 2023, 'twisted': 2024, 'article': 2025, 'lp': 2026, 'achieved': 2027, 'millionaire': 2028, 'fatigued': 2029, 'boston': 2030, 'push': 2031, 'billion': 2032, 'scare': 2033, '000': 2034, 'including': 2035, 'realization': 2036, 'disturbing': 2037, 'ninjawarriorau': 2038, 'drug': 2039, 'jail': 2040, 'youtube': 2041, 'cruel': 2042, 'pipe': 2043, 'nwhat': 2044, 'longing': 2045, 'blaming': 2046, 'msm': 2047, 'muscles': 2048, 'aging': 2049, 'effectively': 2050, 'administration': 2051, 'realjameswoods': 2052, 'feed': 2053, 'approach': 2054, 'diseases': 2055, 'trapped': 2056, 'legend': 2057, 'comedy': 2058, 'colleagues': 2059, 'store': 2060, 'result': 2061, 'totality': 2062, 'properly': 2063, 'violent': 2064, 'culture': 2065, 'bbs': 2066, 'personally': 2067, 'travel': 2068, 'europe': 2069, 'badly': 2070, 'breeds': 2071, 'march': 2072, 'guilty': 2073, 'spntentation': 2074, 'solo': 2075, 'andnervous': 2076, 'island': 2077, 'troubles': 2078, 'update': 2079, 'security': 2080, 'talked': 2081, 'jumping': 2082, 'medications': 2083, 'fortnite': 2084, 'smh': 2085, 'fr': 2086, 'bell': 2087, 'permanent': 2088, '2nd': 2089, 'edition': 2090, 'visited': 2091, 'elderly': 2092, 'gentleman': 2093, 'admitted': 2094, 'bui': 2095, 'dressed': 2096, 'screen': 2097, 'timid': 2098, 'surely': 2099, 'stigma': 2100, 'turning': 2101, 'discovered': 2102, 'covering': 2103, 'held': 2104, 'brighter': 2105, 'relative': 2106, 'noticed': 2107, 'option': 2108, 'separate': 2109, 'wide': 2110, 'ft': 2111, 'lime': 2112, 'pick': 2113, 'increaseth': 2114, 'unable': 2115, 'blacked': 2116, 'resolutions': 2117, 'works': 2118, 'police': 2119, 'row': 2120, 'sw': 2121, 'hardest': 2122, 'russia': 2123, 'pets': 2124, 'hercules': 2125, 'da': 2126, 'chances': 2127, 'wakes': 2128, 'anyways': 2129, 'wonthedoit': 2130, 'failed': 2131, 'attempts': 2132, 'steve': 2133, 'storyline': 2134, 'conversations': 2135, 'regarding': 2136, 'boundaries': 2137, 'eventually': 2138, 'overthinking': 2139, 'b4': 2140, 'leads': 2141, 'religion': 2142, 'priceless': 2143, 'moved': 2144, 'gained': 2145, 'numbers': 2146, 'nhappy': 2147, 'wore': 2148, 'shorts': 2149, 'meltdown': 2150, 'arguing': 2151, 'street': 2152, 'complete': 2153, 'mess': 2154, 'solareclipse': 2155, 'suffered': 2156, 'genuinely': 2157, 'mmm': 2158, 'valid': 2159, 'hiatus': 2160, 'bear': 2161, 'slowly': 2162, 'surviving': 2163, 'mija': 2164, 'fair': 2165, 'quite': 2166, 'no1': 2167, 'pays': 2168, 'ear': 2169, 'vewy': 2170, 'dicksonemily': 2171, 'streak': 2172, '260': 2173, 'commitment': 2174, 'external': 2175, 'admin': 2176, 'owned': 2177, 'mirror': 2178, 'blacking': 2179, 'racist': 2180, 'lover': 2181, 'jolly': 2182, 'deprived': 2183, 'meetup': 2184, 'finals': 2185, 'fourth': 2186, '21': 2187, 'mummy': 2188, 'chicken': 2189, 'anxious': 2190, 'tweeting': 2191, 'liz': 2192, 'oz': 2193, 'metaphor': 2194, 'yellow': 2195, 'gift': 2196, 'poverty': 2197, 'darling': 2198, 'bible': 2199, 'strengthens': 2200, 'radio': 2201, 'station': 2202, 'fly': 2203, 'beings': 2204, 'logrhythm': 2205, 'breaking': 2206, 'bearable': 2207, 'robert': 2208, 'peter': 2209, 'ducks': 2210, 'tub': 2211, 'galaxy': 2212, 'noble': 2213, 'neend': 2214, 'milk': 2215, 'manic': 2216, 'hoarding': 2217, 'dose': 2218, 'ten': 2219, 'anniversary': 2220, 'remind': 2221, 'classes': 2222, 'gf': 2223, 'mum': 2224, 'buys': 2225, 'nite': 2226, 'gettin': 2227, 'warriors': 2228, 'taken': 2229, 'gutoaberconwy': 2230, 'voters': 2231, 'puppy': 2232, 'soft': 2233, 'bryan': 2234, 'services': 2235, 'wimbledon': 2236, 'perform': 2237, 'contentment': 2238, 'lift': 2239, 'silly': 2240, 'dec': 2241, '26': 2242, 'replaced': 2243, 'hangout': 2244, 'sofa': 2245, 'pathetic': 2246, 'cloud': 2247, 'within': 2248, 'kcon': 2249, 'touch': 2250, '137': 2251, 'suddenly': 2252, 'timeline': 2253, 'stressed': 2254, 'cantsleep': 2255, 'africa': 2256, 'gamers': 2257, 'contain': 2258, 'defense': 2259, 'tornado': 2260, 'horrific': 2261, 'latest': 2262, 'pfp': 2263, 'itsjordansroom': 2264, 'brighten': 2265, 'shower': 2266, 'nowadays': 2267, 'hunt': 2268, 'andrewgoldman': 2269, 'photo': 2270, 'phase': 2271, 'lack': 2272, 'ties': 2273, 'photos': 2274, 'quality': 2275, 'waves': 2276, 'names': 2277, 'saving': 2278, 'exhausting': 2279, 'downer': 2280, 'buzz': 2281, 'code': 2282, 'gifs': 2283, 'imagine': 2284, 'rings': 2285, 'rent': 2286, 'manage': 2287, 'empowering': 2288, 'nebulizer': 2289, 'carnt': 2290, 'mage': 2291, 'role': 2292, 'airport': 2293, 'weak': 2294, 'doesnt': 2295, 'meeeeeeeeeee': 2296, '41': 2297, 'flirty': 2298, 'asap': 2299, 'william': 2300, 'south': 2301, 'hype': 2302, 'chronic': 2303, 'intense': 2304, 'honesty': 2305, 'traits': 2306, 'large': 2307, 'bunny': 2308, '365': 2309, 'closer': 2310, 'cousin': 2311, 'humor': 2312, 'alergies': 2313, 'sooooo': 2314, 'songs': 2315, 'tongues': 2316, 'communities': 2317, 'facing': 2318, 'punish': 2319, 'monster': 2320, 'written': 2321, 'longest': 2322, 'seasons': 2323, 'biggest': 2324, 'yoga': 2325, 'loneliest': 2326, 'led': 2327, 'noodles': 2328, '34': 2329, 'bottom': 2330, 'perusing': 2331, 'hashtag10': 2332, 'le': 2333, 'gunna': 2334, 'boring': 2335, 'joyless': 2336, '32': 2337, 'leaves': 2338, 'pessimist': 2339, 'optimist': 2340, 'winston': 2341, 'churchill': 2342, 'united': 2343, 'states': 2344, 'ignored': 2345, 'dogs': 2346, 'ian': 2347, 'bus': 2348, 'diff': 2349, 'nyc': 2350, 'tip': 2351, 'florida': 2352, '23': 2353, 'interview': 2354, '116': 2355, 'whiskey': 2356, 'rare': 2357, 'distract': 2358, 'holding': 2359, 'promised': 2360, 'ways': 2361, 'rlly': 2362, 'superstars': 2363, 'jordan': 2364, 'solar': 2365, 'ketamine': 2366, 'joker': 2367, 'hatred': 2368, 'ra': 2369, 'bies': 2370, 'ebullient': 2371, 'mate': 2372, 'xx': 2373, 'bang': 2374, 'overwhelming': 2375, 'education': 2376, 'anyhow': 2377, 'fade': 2378, 'helpful': 2379, 'celebration': 2380, 'maga': 2381, 'bombardier': 2382, 'breathe': 2383, 'cloths': 2384, 'haunt': 2385, 'planet': 2386, 'fit': 2387, 'december': 2388, 'fml': 2389, '09': 2390, 'sm': 2391, 'malala': 2392, 'neighbours': 2393, 'ronjvwr7m4': 2394, 'bmth': 2395, 'alexandria': 2396, 'mice': 2397, 'rip': 2398, 'eardrums': 2399, 'stomach': 2400, 'chili': 2401, 'pudding': 2402, 'ensure': 2403, 'decrease': 2404, 'libido': 2405, 'increases': 2406, 'personalsexuality': 2407, 'kdramasssss': 2408, 'ofcourse': 2409, 'bigbang': 2410, 'georgia': 2411, 'southern': 2412, 'fau': 2413, 'mgbarbieri': 2414, 'spalktalk': 2415, 'linkedin': 2416, 'outta': 2417, 'rolls': 2418, 'edinburgh': 2419, 'thinks': 2420, '15th': 2421, 'taas': 2422, 'kamay': 2423, 'di': 2424, 'maretrieve': 2425, 'ung': 2426, 'argh': 2427, 'sorted': 2428, 'immobilization': 2429, 'overwhelmed': 2430, 'responsiveness': 2431, 'context': 2432, 'characterize': 2433, 'whereabouts': 2434, 'prisonplanet': 2435, 'kung': 2436, 'fu': 2437, 'panda': 2438, 'wellness': 2439, 'philadelphia': 2440, 'eunice': 2441, 'weighing': 2442, 'ourself': 2443, 'demotivate': 2444, 'titsjpeg': 2445, 'fatigue': 2446, 'digestive': 2447, 'justinjeffre': 2448, 'mornin': 2449, 'phantom': 2450, 'hottie': 2451, 'hugs': 2452, 'gbqn7yejsj': 2453, 'itsjohnjosh': 2454, 'yessss': 2455, 'cookie': 2456, 'silently': 2457, '37': 2458, 'event': 2459, 'ahhhhhhhhhhhh': 2460, 'omfg': 2461, 'hydra': 2462, 'matthewmercer': 2463, 'enthusiamy': 2464, 'vorpahlsword': 2465, 'satinephoenix': 2466, 'greenarmy46': 2467, 'mcmalveiro': 2468, 'miguel': 2469, 'updating': 2470, 'bull': 2471, 'expressions': 2472, 'penetrating': 2473, 'ninnukori': 2474, 'nivethathomas': 2475, 'closely': 2476, 'associated': 2477, 'benny': 2478, 'shuffle': 2479, 'gg7pwvfvat': 2480, 'benoitgomis': 2481, 'sis': 2482, 'hugorosemont': 2483, 'corbeil': 2484, 'doctors': 2485, 'assess': 2486, 'refer': 2487, 'depressant': 2488, 'tsunami': 2489, 'sieporlerv': 2490, 'relapse': 2491, 'vitacocouk': 2492, 'wonderfully': 2493, 'retweeted': 2494, '0nk3tchkqq': 2495, 'devastating': 2496, 'defeat': 2497, 'athletic': 2498, 'trainer': 2499, 'amplify': 2500, 'unlucky': 2501, 'hq': 2502, 'immature': 2503, 'trumpy': 2504, 'represent': 2505, 'intelligence': 2506, 'moral': 2507, 'depth': 2508, 'notinmycanada': 2509, 'poorly': 2510, 'sally': 2511, 'royal': 2512, 'yeon': 2513, 'dara': 2514, 'playoff': 2515, 'fomo': 2516, 'resent': 2517, 'angelakochuba': 2518, 'pratt': 2519, 'married': 2520, 'parliament': 2521, 'limit': 2522, 'supreme': 2523, 'court': 2524, 'helen': 2525, 'bywater': 2526, 'sdworxuki': 2527, 'tonynjo9091': 2528, '30years': 2529, 'parole': 2530, 'farce': 2531, 'sbtcky0ixo': 2532, 'slide': 2533, 'wordpress': 2534, 'blocks': 2535, 'van': 2536, 'dyke': 2537, 'skype': 2538, 'bruno': 2539, '24k': 2540, 'springs': 2541, 'dragged': 2542, 'assumed': 2543, 'saddening': 2544, 'trix': 2545, 'shapes': 2546, 'gazing': 2547, 'wine': 2548, 'shipment': 2549, 'unqualified': 2550, 'stare': 2551, 'tfln': 2552, 'emaalymaae': 2553, 'vaca': 2554, 'incurring': 2555, 'severe': 2556, 'willlanno': 2557, 'manu': 2558, 'strides': 2559, 'fucknugget': 2560, 'filling': 2561, 'insurance': 2562, 'paperwork': 2563, 'damper': 2564, 'annoying': 2565, 'dismissal': 2566, 'unless': 2567, 'saint': 2568, 'emo': 2569, 'bestie': 2570, 'thug': 2571, 'mongay': 2572, 'discouragement': 2573, 'curse': 2574, 'wp': 2575, 'mebpavsn': 2576, 'eic': 2577, 'p9d4wyb3js': 2578, 'solitude': 2579, 'auconmxy0m': 2580, 'tared': 2581, 'tabby': 2582, 'abaci': 2583, 'dabs': 2584, 'society': 2585, 'rainy': 2586, 'hfmoqiu7su': 2587, 'pill': 2588, 'millennials': 2589, 'eh': 2590, 'smug': 2591, 'satisfied': 2592, 'snots': 2593, 'sethrogen': 2594, 'sausage': 2595, 'emphasizes': 2596, 'pitiful': 2597, 'eagles': 2598, 'meditating': 2599, 'weightlessness': 2600, 'btm7bpcugq': 2601, 'couldnt': 2602, 'megz1498': 2603, '10am': 2604, 'doh': 2605, 'addressing': 2606, 'indulging': 2607, 'robotic': 2608, 'provide': 2609, 'robot': 2610, 'companions': 2611, '4qafhghhnj': 2612, 'szlsq8msnq': 2613, 'vivid': 2614, 'whyd': 2615, 'nlet': 2616, 'troubled': 2617, 'steak': 2618, 'shakes': 2619, 'mir': 2620, 'btc': 2621, 'eherium': 2622, 'laudable': 2623, 'jbenson': 2624, 'quoteoftheday': 2625, 'mcdonald': 2626, 'queenjlouise': 2627, 'mamaw': 2628, 'gereck': 2629, 'tereza': 2630, 'friendsforever': 2631, 'rut': 2632, 'comfy': 2633, 'kikisshh': 2634, 'gyorzeppeli': 2635, 'axellllllllll': 2636, 'instaafp': 2637, 'lemar': 2638, 'wenger': 2639, 'coy': 2640, 'ths': 2641, 'winds': 2642, 'ga': 2643, 'tra5cuvqyk': 2644, 'sudden': 2645, 'ray': 2646, '11pm': 2647, 'prevent': 2648, 'makingmegaturkeywithmclisse': 2649, 'satisfyingtaste': 2650, 'theanimalvines': 2651, 'famjam': 2652, 'martin': 2653, 'stole': 2654, 'sonja': 2655, 'mg': 2656, 'logitechuk': 2657, 'insta': 2658, 'davidlynchfoundation': 2659, 'meditate': 2660, 'wellnesswednesday': 2661, 'justbreathe': 2662, 'foreverwellness': 2663, 'u953qjhtfu': 2664, 'suggestions': 2665, 'recurring': 2666, 'wmhxu2rjcs': 2667, 'ronan': 2668, 'prague': 2669, 'introvert': 2670, 'according': 2671, 'esp': 2672, 'jeonquality': 2673, 'tiwala': 2674, 'pls': 2675, 'anotherazntart': 2676, 'dawned': 2677, 'browsing': 2678, 'migrate': 2679, 'demons': 2680, '6d8iwvhsfg': 2681, 'wallpaper': 2682, 'sub': 2683, 'harmonics': 2684, 'antidote': 2685, 'caved': 2686, 'viewed': 2687, 'crawling': 2688, 'hiding': 2689, 'enjoyment': 2690, 'impress': 2691, 'kolusola': 2692, 'curlineo': 2693, 'sleepless': 2694, 'hairy': 2695, 'bikers': 2696, 'endings': 2697, 'jaden': 2698, 'lindner': 2699, 'acquire': 2700, 'deadly': 2701, 'scowl': 2702, 'dil': 2703, 'hai': 2704, 'mushkil': 2705, 'title': 2706, 'track': 2707, 'futhiemasina': 2708, 'subscrib': 2709, 'r60': 2710, 'r3': 2711, 'thus': 2712, 'anada': 2713, 'r90': 2714, 'pff': 2715, '1eusw97anz': 2716, 'hath': 2717, 'nane': 2718, 'nother': 2719, 'composed': 2720, 'tags': 2721, 'bih': 2722, 'wholesome': 2723, 'sends': 2724, 'compliments': 2725, '071304nathan': 2726, 'killl': 2727, 'rzfbceagn2': 2728, 'acquaintance': 2729, 'answered': 2730, 'platforms': 2731, 'lwtx4ucqy8': 2732, 'ageing': 2733, 'populations': 2734, 'myriad': 2735, 'higher': 2736, 'healthcare': 2737, 'childcare': 2738, 'approaches': 2739, 'intergenerational': 2740, 'beautifully': 2741, 'efficient': 2742, 'solve': 2743, 'qoubtsrhr6': 2744, 'hugaarondingle': 2745, 'lovedannybmiller': 2746, 'robron': 2747, 'unfortunately': 2748, 'chewing': 2749, 'gum': 2750, 'ultsdonghan': 2751, 'breakfast': 2752, 'slices': 2753, 'toast': 2754, 'strawberry': 2755, 'jem': 2756, 'paulcalafiore': 2757, 'doubleeph': 2758, 'syfy': 2759, 'theme': 2760, 'e7li3gwifu': 2761, 'measure': 2762, 'carrerae3': 2763, 'introduce': 2764, 'brooklyn': 2765, 'whopping': 2766, 'ole': 2767, 'picky': 2768, 'finances': 2769, 'tripped': 2770, 'promising': 2771, 'main': 2772, 'gently': 2773, 'sinking': 2774, 'mpsnutrition': 2775, 'delighted': 2776, 'trouble': 2777, 'weirdly': 2778, 'smartest': 2779, 'complex': 2780, 'lengthy': 2781, 'negotiation': 2782, 'consult': 2783, 'bojo': 2784, 'fuvbxiprnu': 2785, 'mtxm2hxduj': 2786, 'mike': 2787, 'j': 2788, 'keeper': 2789, 'possibly': 2790, 'commentary': 2791, '225': 2792, 'mile': 2793, 'comfortable': 2794, 'position': 2795, 'gibbonwa': 2796, 'halmarun': 2797, 'cleanfaceskin': 2798, 'mostly': 2799, 'ethicalfashion': 2800, 'quitting': 2801, 'sunrise': 2802, 'sunset': 2803, '071117': 2804, 'comcast': 2805, 'indiedev': 2806, 'paying': 2807, 'lane': 2808, 'indie': 2809, 'devs': 2810, 'funds': 2811, 'ea': 2812, 'paytm': 2813, 'shipped': 2814, 'paytmcare': 2815, 'caps': 2816, 'painless': 2817, 'screws': 2818, 'jeonahjumma': 2819, 'ceasar': 2820, 'imaginable': 2821, 'ceasars': 2822, 'senfeinstein': 2823, 'senatordurbin': 2824, 'senfranken': 2825, 'gop': 2826, 'donors': 2827, 'hobbylobby': 2828, 'prosecuted': 2829, 'fbi': 2830, 'dir': 2831, 'materialsupport': 2832, 'fp': 2833, 'summit': 2834, 'melindagates': 2835, 'fp2020global': 2836, 'unfpa': 2837, 'dfid': 2838, 'herfuture': 2839, 'ellen': 2840, 'rii4zustnt': 2841, 'palm': 2842, 'embarrassed': 2843, 'mon': 2844, 'queenslandvsnsw': 2845, 'hayneplane': 2846, 'alolan': 2847, 'yusaku': 2848, 'colour': 2849, 'chriscuomo': 2850, 'tnf': 2851, 'network': 2852, 'package': 2853, 'boatload': 2854, 'snapper': 2855, 'mackerel': 2856, 'port': 2857, 'aransas': 2858, 'feast': 2859, 'kesharose': 2860, 'evolution': 2861, 'cooldown': 2862, 'csgo': 2863, 'competitive': 2864, 'afk': 2865, 'mockingbird': 2866, 'playlist': 2867, 'tweetbot': 2868, 'sled': 2869, 'mater': 2870, 'sideways': 2871, 'privilege': 2872, 'silver': 2873, 'linings': 2874, 'inspired': 2875, 'harassment': 2876, 'refilling': 2877, 'holder': 2878, 'zoloft': 2879, 'narendramodi': 2880, 'sicknotweak': 2881, 'unbearable': 2882, 'deny': 2883, 'tooth': 2884, 'aches': 2885, 'unbearably': 2886, 'knowledgeable': 2887, 'inexperienced': 2888, 'moron': 2889, 'ashleyclaw': 2890, 'chrisdelia': 2891, 'hollywoodimprov': 2892, 'laughteristhebestmeds': 2893, 'remains': 2894, '8dmfzqqk3m': 2895, 'tuesdaythoughts': 2896, 'entering': 2897, 'barrack': 2898, 'pro': 2899, 'expert': 2900, 'bat': 2901, 'spellbinding': 2902, 'debsnewbold': 2903, 'electric': 2904, 'physicality': 2905, 'ueafly': 2906, 'rachcolours': 2907, 'bi': 2908, 'gaysnap': 2909, 'hornysnap': 2910, 'snapchatgay': 2911, 'snapchathorny': 2912, 'gaysnapchat': 2913, 'hornysnapchat': 2914, 'snapgay': 2915, 'stall': 2916, 'repress': 2917, 'appointment': 2918, 'raucous': 2919, 'crowd': 2920, 'gcschoolsnc': 2921, 'gcsartspd17': 2922, 'applause': 2923, 'pd': 2924, 'artsednc': 2925, 'nakiahardy': 2926, 'chickfila': 2927, 'recreate': 2928, 'chip': 2929, 'shoulder': 2930, 'masterchefau': 2931, 'sweets': 2932, 'comprehends': 2933, '119': 2934, 'dwbkqdel5j': 2935, 'appears': 2936, 'impossible': 2937, 'cj': 2938, 'mst3k': 2939, 'whoisstevesmith': 2940, 'zeq2qhgy0u': 2941, 'mania': 2942, 'emitting': 2943, 'psyops': 2944, 'survival': 2945, 'explains': 2946, 'shearer': 2947, 'irregularchoice': 2948, 'rose': 2949, 'laws': 2950, 'background': 2951, 'checks': 2952, 'alleviate': 2953, 'unnecessary': 2954, 'consequences': 2955, 'heals': 2956, 'nightmares': 2957, 'rollercoaster': 2958, 'immense': 2959, 'fischer': 2960, 'leia': 2961, 'inseopirit': 2962, 'icsyv': 2963, 'gateway': 2964, 'wtml2wyu7y': 2965, 'selfie': 2966, 'jchrisco19': 2967, 'follo4follo': 2968, 'retweeet': 2969, 'likeforfolow': 2970, 'lookout': 2971, 'dearest': 2972, 'conversed': 2973, 'bleak': 2974, 'melodies': 2975, 'verses': 2976, 'whether': 2977, '135': 2978, 'wildpawspics': 2979, 'starbeeston': 2980, 'nthey': 2981, 'soooo': 2982, 'fakenews': 2983, 'foxandfriends': 2984, 'kilmeade': 2985, 'petehegseth': 2986, 'release': 2987, 'horrendous': 2988, 'copper': 2989, 'pocket': 2990, 'pennies': 2991, 'pumpkin': 2992, 'dunkindonuts': 2993, 'automatic': 2994, 'ecstatic': 2995, 'pumpkineverything': 2996, 'michelada': 2997, 'weed': 2998, 'wise': 2999, 'ordering': 3000, 'discription': 3001, 'presented': 3002, 'yummymummiesau': 3003, 'jamieloveharris': 3004, 'rome': 3005, 'burn': 3006, 'mondays': 3007, 'shenanigans': 3008, 'greet': 3009, 'adopted': 3010, 'kick': 3011, 'photographs': 3012, 'journals': 3013, 'quotestoliveby': 3014, 'bikes': 3015, 'showers': 3016, 'weeps': 3017, 'boss': 3018, 'shouting': 3019, 'vexed': 3020, 'transport': 3021, 'card': 3022, 'zvfzbigivo': 3023, 'chemical': 3024, 'bears': 3025, 'rumplestiltsken': 3026, 'gmb': 3027, 'piersmorgan': 3028, 'television': 3029, 'talkstripe': 3030, 'tosspot': 3031, 'gobshite': 3032, 'vanbluesat': 3033, 'infrared': 3034, 'hawrelak': 3035, 'stage': 3036, 'livemusic': 3037, 'supper': 3038, 'dfdf': 3039, '66': 3040, 'anal': 3041, 'bigbooty': 3042, 'bobs': 3043, 'cock': 3044, 'blowjob': 3045, 'nany': 3046, 'river': 3047, 'flows': 3048, 'downstream': 3049, 'degrading': 3050, 'minerals': 3051, 'grand': 3052, 'finale': 3053, 'kalusha': 3054, 'messes': 3055, 'laptop': 3056, 'packer': 3057, 'nation': 3058, 's2': 3059, '25secs': 3060, 'coincidence': 3061, 'newspaper': 3062, 'inspirational': 3063, '3cosmwidym': 3064, 'unexpectedly': 3065, 'purposeful': 3066, 'meaningful': 3067, 'abundant': 3068, 'eternal': 3069, 'scares': 3070, 'opened': 3071, 'pooring': 3072, 'salt': 3073, 'flame': 3074, 'strapless': 3075, 'njulianne': 3076, 'hough': 3077, 'samuel': 3078, 'saul': 3079, 'stood': 3080, 'practising': 3081, 'gratitude': 3082, 'jpwlknrlmo': 3083, 'edit': 3084, 'window': 3085, 'shop': 3086, 'bedridden': 3087, 'goodevening': 3088, 'sonafanart': 3089, 'filming': 3090, 'kusadasi': 3091, 'thomas': 3092, 'appetite': 3093, 'bitches': 3094, 'shrouded': 3095, 'forgotten': 3096, 'heat': 3097, '109': 3098, 'oqkuney8sy': 3099, 'alas': 3100, 'nott': 3101, 'mickeydeadbish': 3102, 'dan': 3103, '1rt': 3104, 'danisnotonfire': 3105, 'dmme': 3106, 'fuss': 3107, 'glorify': 3108, 'rationalize': 3109, '9kcwhsijer': 3110, 'peepees': 3111, 'laughed': 3112, 'brokenheart': 3113, 'arquipimp': 3114, 'nu': 3115, 'overprice': 3116, 'english': 3117, 'nreal': 3118, 'bayern': 3119, 'seemed': 3120, 'occur': 3121, 'nooooo': 3122, 'crack': 3123, 'mark': 3124, 'rdzmwejxlz': 3125, 'healthtap': 3126, 'eaten': 3127, 'favorites': 3128, 'jp1pghgs8h': 3129, 'conclusion': 3130, 'americandadtbs': 3131, 'tickle': 3132, 'error': 3133, 'inexplicable': 3134, 'steinbeck': 3135, 'apologize': 3136, 'opposite': 3137, 'applied': 3138, 'universities': 3139, 'fasfa': 3140, 'scholarship': 3141, 'letters': 3142, 'dreads': 3143, 'girlswithdreads': 3144, 'entrepreneur': 3145, 'flexibility': 3146, 'charge': 3147, 'mufuckha': 3148, 'vvixie': 3149, 'bby': 3150, 'morrgancatt': 3151, 'striked': 3152, 'blinding': 3153, 'glory': 3154, 'nosleep48': 3155, 'bugwan': 3156, 'crown': 3157, 'kiddies': 3158, 'flutter': 3159, 'blown': 3160, 'slick': 3161, 'choreography': 3162, 'moly': 3163, 'insaaane': 3164, 'vocals': 3165, 'ashamed': 3166, 'attaining': 3167, 'justsaying': 3168, 'lovemylife': 3169, 'sport': 3170, 'murray': 3171, 'rugby': 3172, 'darker': 3173, 'persistent': 3174, 'unipolar': 3175, '900': 3176, 'mah': 3177, 'laconic': 3178, 'wdcjrenfhw': 3179, 'friended': 3180, 'ptsd': 3181, 'favour': 3182, 'gethelp': 3183, 'whattheworldneedsnow': 3184, 'vanbiennale': 3185, 'floating': 3186, 'useless': 3187, 'fitness': 3188, 'core': 3189, 'homeworks': 3190, 'assignments': 3191, 'restless': 3192, 'buddy': 3193, 'chikagaiheichou': 3194, 'carla': 3195, 'eren': 3196, 'bench': 3197, 'weariness': 3198, 'lovinunited': 3199, 'throwing': 3200, 'huff': 3201, 'morata': 3202, 'gea': 3203, 'truck': 3204, '130': 3205, 'www': 3206, 'deadass': 3207, 'letting': 3208, 'myatt': 3209, 'smith': 3210, 'batting': 3211, 'thousands': 3212, 'tiny': 3213, 'switch': 3214, 'hawaii': 3215, 'raiders': 3216, 'condition': 3217, 'partners': 3218, 'destroying': 3219, 'molly': 3220, 'fabulous': 3221, 'mayflower': 3222, 'theatre': 3223, 'stitches': 3224, 'veryfunny': 3225, 'november': 3226, 'generations': 3227, 'mince': 3228, 'pie': 3229, 'strangers': 3230, 'seldom': 3231, 'thames': 3232, 'datamosh': 3233, 'glitch': 3234, 'glitchart': 3235, 'digitalart': 3236, 'abstractart': 3237, 'newmediaart': 3238, 'imagemanipulation': 3239, 'londontown': 3240, 'riverthames': 3241, 'dystopia': 3242, 'kissableslovesmshopmag': 3243, 'nalloutdenimfor': 3244, 'kissmarc': 3245, 'stolenmcments': 3246, 'truetwit': 3247, 'nwho': 3248, 'brightly': 3249, 'nwell': 3250, 'rightly': 3251, 'families': 3252, 'mrjaxtaylor': 3253, 'jd': 3254, 'coke': 3255, 'type': 3256, 'donating': 3257, 'hrs': 3258, 'winding': 3259, 'conquered': 3260, 'alison': 3261, 'addicted': 3262, 'ego': 3263, 'satisfaction': 3264, 'distance': 3265, 'godforsaken': 3266, 'weathly': 3267, 'guidelife': 3268, 'ksa': 3269, 'bastard': 3270, '3qwp4lt25e': 3271, 'noooo': 3272, 'speakers': 3273, 'stayyoungmedia': 3274, 'qzzagrozbb': 3275, 'fnm1aq1rqi': 3276, 'strips': 3277, 'bare': 3278, 'visuals': 3279, 'myouimina': 3280, 'extent': 3281, 'teasing': 3282, 'mycharlibrown': 3283, 'pcbcat43': 3284, 'split': 3285, 'unaware': 3286, 'basics': 3287, 'ladders': 3288, 'nets': 3289, 'mattresses': 3290, 'saved': 3291, 'brigades': 3292, 'amenities': 3293, 'splurging': 3294, 'building': 3295, 'statues': 3296, 'concentrating': 3297, 'remembering': 3298, 'contemplate': 3299, 'commit': 3300, 'directed': 3301, 'respond': 3302, 'eqnkrbjoxr': 3303, 'script': 3304, 'filmming': 3305, 'actorslife': 3306, 'actresslife': 3307, 'actress': 3308, 'horrorfilm': 3309, 'horrormovies': 3310, 'debrahorrocks': 3311, 'fash': 3312, 'rev': 3313, 'stats': 3314, 'fashionrevolution': 3315, 'dominicanrepublic': 3316, 'chipotletweets': 3317, '919': 3318, 'fort': 3319, 'ave': 3320, 'chipotle': 3321, 'nchasing': 3322, 'robberies': 3323, 'nparty': 3324, 'hardy': 3325, 'titanic': 3326, 'schedules': 3327, 'brush': 3328, 'painfree': 3329, '362': 3330, 'fuckin': 3331, 'containing': 3332, 'harsh': 3333, 'irritate': 3334, 'weaken': 3335, 'protective': 3336, 'barrier': 3337, '128': 3338, 'iaprwpanjk': 3339, 'drank': 3340, 'bottles': 3341, 'pints': 3342, 'prosecco': 3343, 'gabe': 3344, 'hoped': 3345, 'progress': 3346, 'provoke': 3347, 'memory': 3348, 'cafe': 3349, 'yun4fopkly': 3350, 'crimemma': 3351, 'senior': 3352, 'lecturer': 3353, 'rounda': 3354, 'rousey': 3355, 'abusive': 3356, 'youve': 3357, 'howd': 3358, 'fueled': 3359, 'apathy': 3360, 'general': 3361, 'havent': 3362, 'suceed': 3363, 'boredtodeath': 3364, 'rlghhojkv3': 3365, 'bachelor': 3366, 'locker': 3367, 'yasso': 3368, '800s': 3369, 'bartyasso': 3370, 'convince': 3371, 'captive': 3372, 'audience': 3373, 'dbxedgf3er': 3374, '126': 3375, 'political': 3376, 'argument': 3377, 'highlighting': 3378, 'epidemic': 3379, 'speed': 3380, 'jaguars': 3381, 'gorillas': 3382, 'skills': 3383, 'fr89506mz7': 3384, 'base': 3385, 'definite': 3386, 'peddlers': 3387, 'ohvarsity': 3388, 'opening': 3389, 'podcast': 3390, 'sob': 3391, 'skynews': 3392, 'totalsolareclipse': 3393, 'channels': 3394, 'explanation': 3395, 'dare': 3396, 'threaten': 3397, 'thor': 3398, 'puny': 3399, 't1tp7hcfjr': 3400, 'presents': 3401, 'ropes': 3402, 'objects': 3403, 'slut': 3404, 'um': 3405, '95': 3406, 'noise': 3407, 'salvation': 3408, 'yep': 3409, 'bafudqfbey': 3410, 'arrifaun': 3411, 'eeyore': 3412, 'winnie': 3413, 'pooh': 3414, 'metro': 3415, 'palpable': 3416, '100k': 3417, 'forced': 3418, 'ongoing': 3419, 'reactions': 3420, 'mxifamocgy': 3421, 'zindagi': 3422, 'goosebumps': 3423, 'hopefully': 3424, 'fwdjsauri3': 3425, 'iagarwal5': 3426, 'mrsebastian696': 3427, 'devilish': 3428, 'sin': 3429, 'concert': 3430, 'enuff': 3431, '6jc0qdaygw': 3432, 'virus': 3433, 'awareness': 3434, 'chichupedathaa': 3435, 'rofl': 3436, 'offend': 3437, 'theopen': 3438, 'royalbirkdale': 3439, 'jimbo': 3440, 'mattfitz94': 3441, 'thematic': 3442, 'farmer': 3443, 'ads': 3444, 'asian': 3445, 'jersey': 3446, 'viagra': 3447, 'instructionalcoach': 3448, 'resources': 3449, 'ic': 3450, 'broxtondaniel': 3451, 'infinitely': 3452, 'kerb': 3453, 'quest': 3454, 'decent': 3455, 'affection': 3456, 'believed': 3457, 'marks': 3458, 'kyadondo': 3459, 'terrorist': 3460, 'resting': 3461, 'chilling': 3462, 'zescounitedfc': 3463, 'zescoforest': 3464, 'ssbola': 3465, 'eps': 3466, 'mtvteenwolf': 3467, 'dylanobrien': 3468, 'tylerl': 3469, 'hoechlin': 3470, 'returns': 3471, 'coltonlhaynes': 3472, 'devotionals': 3473, 'amen': 3474, 'godisgood': 3475, 'dailydevotionals': 3476, 'm2alva4rn5': 3477, 'sale': 3478, 'wallet': 3479, 'spanish': 3480, '25yrs': 3481, 'memba': 3482, 'dem': 3483, 'groundbreaking': 3484, 'creator': 3485, 'dorsey': 3486, 'inconsequential': 3487, 'information': 3488, 'chirps': 3489, 'affect': 3490, 'massively': 3491, '2008': 3492, 'uninspiring': 3493, 'amok': 3494, 'prolly': 3495, 'japanese': 3496, 'couples': 3497, 'illumination': 3498, 'umainoo': 3499, 'gregory': 3500, 'jerry': 3501, 'lewis': 3502, 'greats': 3503, 'creativity': 3504, 'imaginations': 3505, 'illuminated': 3506, 'scars': 3507, 'hnil8jfkdx': 3508, 'flood': 3509, 'chrysostom': 3510, 'depriving': 3511, 'mischievous': 3512, 'elf': 3513, 'discomfort': 3514, 'irvvvmnkmo': 3515, 'vcnkc6gsdc': 3516, 'actions': 3517, 'congruent': 3518, 'justdoit': 3519, 'willing': 3520, 'shitting': 3521, 'graces': 3522, 'arriving': 3523, 'troublemaker': 3524, 'starrynight': 3525, 'shoutout': 3526, 'mortonpark': 3527, 'simplylovejesus': 3528, 'cy0nftbk1i': 3529, 'burrito': 3530, 'lyrically': 3531, 'creepy': 3532, 'kkarlidawson': 3533, 'monty': 3534, 'list': 3535, 'justinoearlwood': 3536, 'guyyirbjjr': 3537, 'options': 3538, 'bt': 3539, 'alne': 3540, 'ts': 3541, 'midnyt': 3542, 'pillow': 3543, 'miracles': 3544, 'n3': 3545, 'beatdepression': 3546, 'nytimes': 3547, 'pattonoswalt': 3548, 'captain': 3549, 'tom': 3550, 'blowing': 3551, 'cuts': 3552, 'burns': 3553, 'smiths': 3554, 'flapjack': 3555, 'stac28': 3556, 'kimtins': 3557, 'nadiyasbritishfoodadventure': 3558, 'profane': 3559, 'sued': 3560, 'removed': 3561, 'priority': 3562, 'faces': 3563, '8agotjdgzh': 3564, 'democrats': 3565, 'mrs': 3566, 'engineer': 3567, 'entirety': 3568, 'evaluation': 3569, 'wing': 3570, 'folding': 3571, 'sheets': 3572, 'battling': 3573, 'katelyntiffner': 3574, 'whounfollowedme': 3575, 'g48kuk2veo': 3576, 'mayweather': 3577, 'par': 3578, 'nate': 3579, 'diaz': 3580, 'relaxing': 3581, 'hollyoaks': 3582, 'mayer': 3583, 'lucas': 3584, 'y1h0s3ltmo': 3585, 'attacked': 3586, 'proceed': 3587, 'dodie': 3588, 'trials': 3589, 'tests': 3590, 'accidentally': 3591, 'lynx': 3592, 'granted': 3593, 'unexpected': 3594, 'instantly': 3595, 'week12': 3596, 'itsthelittlethings': 3597, 'sufferers': 3598, 'depressive': 3599, 'hjjybmdhax': 3600, 'veronica': 3601, 'lilly': 3602, 'duncan': 3603, 'strip': 3604, 'theres': 3605, 'uplifting': 3606, 'veronice': 3607, 'fujoshi': 3608, 'thedramble': 3609, 'poured': 3610, 'tasting': 3611, 'sake': 3612, 'tasted': 3613, 'jinsproducer': 3614, 'haired': 3615, 'jun': 3616, 'bethanblog': 3617, '136': 3618, '4zvyjpdkc3': 3619, 'duno': 3620, 'weigh': 3621, 'balance': 3622, 'ashtrays': 3623, 'cigars': 3624, 'zywwqxc427': 3625, 'cornwall': 3626, 'kernow': 3627, 'offline': 3628, 'theo': 3629, 'aspects': 3630, 'produce': 3631, 'affirmation': 3632, 'nplease': 3633, 'medicine': 3634, 'habit': 3635, 'specially': 3636, 'unfollows': 3637, 'regretfully': 3638, 'gear': 3639, 'rubbish': 3640, 'disrespectful': 3641, 'balling': 3642, 'zachary': 3643, 'investment': 3644, 'partner': 3645, 'afghanistan': 3646, 'policy': 3647, '44': 3648, 'np': 3649, '143': 3650, 'mjzszji4ay': 3651, 'mario': 3652, 'instagood': 3653, 'photooftheday': 3654, 'follo': 3655, 'dads': 3656, 'cable': 3657, 'field': 3658, 'angieavlianos': 3659, 'angie': 3660, 'assist': 3661, 'seulgi': 3662, 'straightforward': 3663, 'asfandkhan6': 3664, 'acc': 3665, 'york': 3666, 'b6lmpvgypz': 3667, 'seanhannity': 3668, 'elections': 3669, 'ultimate': 3670, 'swallow': 3671, 'lpn': 3672, 'program': 3673, 'gelo': 3674, 'abis': 3675, 'baca': 3676, 'ini': 3677, 'sedih': 3678, 'jg': 3679, 'yaahh': 3680, 'inescapable': 3681, 'viqtrhovrb': 3682, 'weedfeed': 3683, 'physicians': 3684, 'recommended': 3685, '1621': 3686, 'lbohmd9dj9': 3687, 'nbcnews': 3688, 'markhalperin': 3689, 'keirsimmons': 3690, 'mafia': 3691, 'atty': 3692, 'ripped': 3693, 'pajama': 3694, 'round': 3695, '2007': 3696, 'emails': 3697, 'dineo': 3698, 'jazzz': 3699, 'x3znegk9td': 3700, 'shallow': 3701, 'unfair': 3702, 'nsometimes': 3703, 'combined': 3704, 'organ': 3705, 'remembrance': 3706, 'spiritual': 3707, '9yaw9ze9bt': 3708, 'qqnagbgc1i': 3709, 'interacting': 3710, 'itsbeensolong': 3711, 'compact': 3712, 'metal': 3713, 'leaf': 3714, 'grinder': 3715, 'layers': 3716, 'vtan3pbt6h': 3717, 'tease': 3718, 'freeze': 3719, 'streetlights': 3720, 'snorkel': 3721, 'fury': 3722, 'resolution': 3723, 'hitch': 3724, 'walking': 3725, 'vulnerable': 3726, '4vnqe9ss0p': 3727, 'charger': 3728, 'riv': 3729, 'center': 3730, 'kimberlee': 3731, 'xox': 3732, 'posted': 3733, 'filmed': 3734, 'vlog': 3735, 'severely': 3736, 'emerging': 3737, 'comforter': 3738, 'sparrow': 3739, 'camel': 3740, 'humps': 3741, 'humphrey': 3742, 'magicpencil': 3743, 'whip': 3744, 'batter': 3745, 'bakewell': 3746, 'frangipani': 3747, 'almonds': 3748, 'manages': 3749, 'ruin': 3750, 'teacher': 3751, 'porkchops': 3752, 'glaze': 3753, 'meat': 3754, 'steeped': 3755, 'vinegar': 3756, 'bbq': 3757, 'hickory': 3758, 'alicelevine': 3759, 'bbciplayer': 3760, 'validation': 3761, 'hzufrlmgkc': 3762, 'stateoforigin': 3763, 'nswblues': 3764, 'nsw': 3765, 'blackness': 3766, 'lethargy': 3767, 'j6y3pbdcu7': 3768, 'amazonprimeday2017': 3769, 'toys': 3770, 'acquired': 3771, 'amazon': 3772, 'sufian': 3773, '122': 3774, 'cheating': 3775, 'diet': 3776, 'pineapple': 3777, 'matthewpouliot': 3778, 'sooo': 3779, 'talent': 3780, 'ran': 3781, 'fcdbfreys7': 3782, 'impractical': 3783, 'jokers': 3784, 'heartbeat': 3785, 'santorini': 3786, 'psa': 3787, 'sweat': 3788, 'poring': 3789, 'secrets': 3790, 'heads': 3791, 'noh': 3792, 'goodmorningword': 3793, 'fuzzy': 3794, 'eclipsesolar2017': 3795, 'repair': 3796, 'ce': 3797, 'fiore': 3798, 'remembered': 3799, 'neh': 3800, 'cursed': 3801, 'unpleasant': 3802, 'marijuana': 3803, 'practically': 3804, 'mention': 3805, '6lndarzijb': 3806, 'rehearsal': 3807, 'nancy': 3808, 'metallica': 3809, 'nirvana': 3810, 'aacobe': 3811, 'bibby': 3812, 'cteeezy': 3813, 'lmfao': 3814, 'backwards': 3815, 'date': 3816, 'm00nlightjules': 3817, 'mamon': 3818, 'relation': 3819, 'emerson': 3820, 'abigail': 3821, 'belle': 3822, 'chabby': 3823, 'schitt': 3824, 'creek': 3825, 'insecurehbo': 3826, 'required': 3827, 'opjumpstartlb': 3828, 'issarae': 3829, 'impressed': 3830, 'karanka': 3831, 'middlesbrough': 3832, 'stick': 3833, 'martinez': 3834, 'decides': 3835, 'ahahhahahaha': 3836, 'ldn': 3837, 'fullbody': 3838, 'ldnmladies': 3839, 'reduce': 3840, 'doms': 3841, 'bcfc': 3842, 'jnr': 3843, 'futuresbright': 3844, 'development': 3845, 'baileyu12s': 3846, 'fvft6okokh': 3847, 'drone': 3848, 'hometown': 3849, 'choked': 3850, 'pretending': 3851, 'realizes': 3852, 'raped': 3853, 'aborted': 3854, 'vin': 3855, 'diesel': 3856, 'riddick': 3857, 'pitch': 3858, 'footballsask': 3859, 'ontario': 3860, '306football': 3861, 'sask': 3862, 'unnessary': 3863, 'amyandrewsfox2': 3864, 'amy': 3865, 'lions': 3866, 'jelly': 3867, 'messageinabottle': 3868, 'crapulet': 3869, 'pinterest': 3870, 'reached': 3871, 'cage': 3872, 'frozen': 3873, 'chamber': 3874, '40ft': 3875, 'trailer': 3876, 'youngsters': 3877, '9nusc7rpli': 3878, 'expression': 3879, 'odds': 3880, 'bel': 3881, 'oc': 3882, 'limburg': 3883, '157901': 3884, 'unknown': 3885, 'address': 3886, 'moods': 3887, 'overnight': 3888, 'coutbaek': 3889, 'hahahahahhahahahaahgahaha': 3890, 'leg': 3891, 'jr': 3892, 'aron': 3893, 'painfully': 3894, 'mistakes': 3895, 'fuuochsdyf': 3896, 'buck': 3897, 'lucky': 3898, 'dems': 3899, 'kerry': 3900, 'speech': 3901, 'fpduygja7m': 3902, '104': 3903, 'loathing': 3904, 'pages': 3905, 'dosorder': 3906, 'lesser': 3907, 'bipolar': 3908, 'spectrum': 3909, 'involves': 3910, 'tribe': 3911, 'rituals': 3912, 'risks': 3913, 'recession': 3914, 'career': 3915, 'david': 3916, 'comic': 3917, 'sopressatta': 3918, 'toon': 3919, 'highlights': 3920, 'nude': 3921, 'nails': 3922, 'workouts': 3923, 'handed': 3924, 'braids': 3925, 'snatched': 3926, 'edges': 3927, 'cramping': 3928, 'tummy': 3929, 'freaking': 3930, 'threw': 3931, 'floor': 3932, 'gammarus': 3933, 'steel': 3934, 'con': 3935, 'scott': 3936, 'helme': 3937, 'humble': 3938, 'shaftesbury': 3939, 'lrc': 3940, 'genius': 3941, 'poster': 3942, 'bollybigbolt': 3943, 'pink': 3944, 'colours': 3945, 'bats': 3946, 'evenings': 3947, 'vegetable': 3948, 'urbanfarm': 3949, 'settles': 3950, 'twinkle': 3951, 'sinks': 3952, 'manifests': 3953, 'workaholism': 3954, 'addiction': 3955, 'c6hi8mokkb': 3956, 'thar': 3957, 'hashtag': 3958, 'spelled': 3959, 'incorrectly': 3960, 'sciencechannel': 3961, 'nebraskamed': 3962, 'solareclispe': 3963, 'increased': 3964, 'mylve432ow': 3965, 'bobross': 3966, 'tuesdaymotivation': 3967, 'xa': 3968, 'jay': 3969, 'retirement': 3970, 'drop': 3971, 'uncomfortable': 3972, 'picked': 3973, 'heaviest': 3974, 'lies': 3975, 'ensnare': 3976, 'd1tlxzgsag': 3977, 'bullshit': 3978, 'toenails': 3979, 'shave': 3980, 'duh': 3981, 'fearfullymade': 3982, 'gracefullysaved': 3983, 'bcolonx': 3984, 'beacause': 3985, 'paves': 3986, 'trail': 3987, 'pretzels': 3988, 'las': 3989, 'alesso': 3990, 'ingrosso': 3991, 'beingme': 3992, 'wifey': 3993, 'murder': 3994, 'freeway': 3995, 'multiplied': 3996, 'insight': 3997, 'clearer': 3998, 'ariana': 3999, 'thief': 4000, 'basket': 4001, 'vica': 4002, 'wooo': 4003, 'niallofficial': 4004, 'niallhoran': 4005, 'jamiebower': 4006, 'willtnt': 4007, 'shaking': 4008, 'missedyou': 4009, 'debilitating': 4010, 'tubs': 4011, 'jerrys': 4012, 'mums': 4013, '125': 4014, '4eqo8kfgbo': 4015, 'farpostsa': 4016, 'transfer': 4017, 'credible': 4018, 'concise': 4019, 'spoton': 4020, 'btsophie': 4021, 'bobsburgersfox': 4022, 'acceptable': 4023, 'crazylady': 4024, 'grinchmas': 4025, '10pm': 4026, 'discover': 4027, 'messing': 4028, 'mommies': 4029, 'anchor': 4030, 'margogray48': 4031, 'waff48': 4032, 'trentnews': 4033, 'katcampbellwx': 4034, 'margo': 4035, 'imagination': 4036, 'manifest': 4037, 'checked': 4038, 'page': 4039, 'sats': 4040, 'bashful': 4041, 'aniversary': 4042, 'nadd': 4043, 'rchar28': 4044, 'snapsex': 4045, 'sexting': 4046, 'cam': 4047, 'swap': 4048, 'chaud': 4049, 'annie': 4050, 'balsamic': 4051, 'bighearted': 4052, 'anniecarney': 4053, 'suspect': 4054, 'ogpy3idgao': 4055, 'casting': 4056, 'potential': 4057, 'swim': 4058, 'photography': 4059, 'rnjp6ux2ev': 4060, 'fallen': 4061, 'temptation': 4062, 'alwayssunny': 4063, 'smilling': 4064, 'barista': 4065, 'invited': 4066, 'mosquito': 4067, 'thigh': 4068, 'murmuring': 4069, 'psyche': 4070, 'invite': 4071, 'ncause': 4072, 'nbecause': 4073, 'dankmemes': 4074, 'michael': 4075, 'functional': 4076, 'katman': 4077, 'grabbing': 4078, 'gump': 4079, 'respectable': 4080, 'niqxmiwmda': 4081, 'chuckwoolery': 4082, 'civil': 4083, 'forlorn': 4084, 'accurately': 4085, 'madly': 4086, 'actionbronson': 4087, 'fuckthatis': 4088, 'newcastle': 4089, 'national': 4090, 'prevention': 4091, 'lifeline': 4092, 'failing': 4093, 'fail': 4094, 'allowed': 4095, '3rdi20arti': 4096, 'jeannepaulshop': 4097, 'crocbead': 4098, 'palette': 4099, 'restaurant': 4100, 'withdrawal': 4101, 'selfish': 4102, 'funerals': 4103, 'door': 4104, 'rely': 4105, 'trap': 4106, 'meaningless': 4107, 'bike': 4108, 'loop': 4109, 'race': 4110, 'sebastiankienle': 4111, 'lighthouse': 4112, 'fog': 4113, 'suggest': 4114, 'purchasing': 4115, 'muggymike': 4116, 'sam': 4117, 'lbhoutajtk': 4118, 'younger': 4119, 'shane': 4120, 'meadows': 4121, 'rejected': 4122, 'unmotivated': 4123, 'encouragement': 4124, 'mobilize': 4125, 'buffet': 4126, 'lfc': 4127, 'povey': 4128, 'kenyan': 4129, 'inviting': 4130, 'worked': 4131, 'boxing': 4132, '149': 4133, 'q2vtlykgym': 4134, 'innovation': 4135, 'challenges': 4136, 'visasecurity': 4137, 'vss2017': 4138, 'brilliance': 4139, 'garyclarkjr': 4140, 'scary': 4141, '314': 4142, '645': 4143, '1567': 4144, 'smaller': 4145, 'obstacles': 4146, 'el': 4147, 'paso': 4148, 'cuttimecomic': 4149, 'laundry': 4150, 'untitled': 4151, 'mattrod': 4152, 'hiphop': 4153, 'hartford': 4154, 'animosity': 4155, 'thesemycities': 4156, 'refuse': 4157, 'danauerbach': 4158, '113': 4159, 'talkspace': 4160, 'companies': 4161, '52': 4162, 'absenteeism': 4163, 'reduced': 4164, 'productivity': 4165, '400': 4166, 'expand': 4167, 'sales': 4168, 'rubles': 4169, 'market': 4170, 'european': 4171, 'xpqfiqbyav': 4172, 'outlast': 4173, 'corridors': 4174, 'amberx994874': 4175, 'butcher': 4176, 'jim': 4177, 'landed': 4178, 'arse': 4179, 'cops': 4180, 'teamfollowback': 4181, 'scioly': 4182, 'uae': 4183, 'amazes': 4184, 'dislike': 4185, 'particularly': 4186, 'eo': 4187, 'apink': 4188, 'rv': 4189, 'mamamoo': 4190, 'jjang': 4191, 'scratch': 4192, 'nuttall': 4193, 'guildfordlib': 4194, 'official': 4195, 'pi': 4196, 'jam': 4197, 'raspberrypi': 4198, 'jzoerlirgz': 4199, 'premier': 4200, 'propinquity': 4201, 'ceased': 4202, 'germaine': 4203, 'greer': 4204, 'loading': 4205, 'commanding': 4206, 'staff': 4207, 'estimated': 4208, 'hella': 4209, 'tue': 4210, 'thumbs': 4211, 'ngoing': 4212, 'walks': 4213, 'germany': 4214, 'responsibility': 4215, '121': 4216, 'rahmanaccess': 4217, 'elites': 4218, 'piss': 4219, 'gbdkxgzodh': 4220, 'represented': 4221, 'emoji': 4222, 'gkclhhz1st': 4223, 'various': 4224, 'outlets': 4225, 'showing': 4226, 'crowds': 4227, 'racial': 4228, 'tension': 4229, 'overcomes': 4230, 'numbness': 4231, 'oo': 4232, 'rzgeog6xh0': 4233, 'justapenname': 4234, 'lettrs': 4235, 'btw': 4236, 'ditch': 4237, 'appeared': 4238, 'savagekermlt': 4239, 'froggy': 4240, 'frogfearfriday': 4241, 'trigger': 4242, 'identify': 4243, 't98xrnnlcq': 4244, 'dpm0319': 4245, 'clever': 4246, 'indicator': 4247, 'powerpoint': 4248, 'microsoft': 4249, 'eighties': 4250, 'wot': 4251, 'hav': 4252, 'albert': 4253, 'schweitzer': 4254, '0hisigongm': 4255, 'infectious': 4256, 'nutritional': 4257, 'deficiencies': 4258, 'neurological': 4259, 'physiological': 4260, 'beautycon': 4261, 'bummed': 4262, 'jamesacaster': 4263, 'actual': 4264, 'bedtime': 4265, 'hating': 4266, 'dollis': 4267, 'tenacious': 4268, 'pc': 4269, 'leach': 4270, 'responds': 4271, 'noticing': 4272, 'momentarily': 4273, 'deliver': 4274, 'dating': 4275, 'throws': 4276, 'spreecoza': 4277, 'spree': 4278, 'stock': 4279, 'shoes': 4280, 'promotions': 4281, 'deactivated': 4282, 'judge': 4283, 'girlie': 4284, 'howl': 4285, 'oldtunes': 4286, 'plenty': 4287, '4u': 4288, 'nkrrao': 4289, 'karamadai': 4290, 'ranganatha': 4291, 'pallikondeeswarar': 4292, 'shiva': 4293, 'avl': 4294, 'outrage': 4295, 'kalps1616': 4296, 'casper': 4297, 'wyoming': 4298, 'mommy': 4299, 'pusuxik4gp': 4300, 'tarigsoptimism': 4301, 'sacrifices': 4302, 'testing': 4303, 'uninspired': 4304, 'ht': 4305, 'passagefoods': 4306, 'tkmaxx': 4307, 'tesco': 4308, 'camiiasvibe': 4309, 'hasnt': 4310, 'camilalolie97': 4311, 'camila': 4312, 'cabello': 4313, 'greece': 4314, 'arround': 4315, 'chandler': 4316, 'spokane': 4317, 'texting': 4318, 'emailing': 4319, '2019': 4320, 'nigjt': 4321, 'england': 4322, '139': 4323, 'worries': 4324, 'jst': 4325, 'mere': 4326, 'jigrii': 4327, 'trauma': 4328, 'spin': 4329, 'bronliejacobs': 4330, 'bronz': 4331, 'smmm': 4332, 'coachforward': 4333, 'cooperation': 4334, 'whereas': 4335, 'giver': 4336, 'forbidden': 4337, 'rcjgudss9k': 4338, 'clairepotter': 4339, 'mermaids': 4340, '2minbeachclean': 4341, 'woohoo': 4342, 'gadgets': 4343, 'dngokingyok': 4344, 'hetero': 4345, 'anna': 4346, 'maria': 4347, 'worrying': 4348, 'empties': 4349, 'moto': 4350, 'showed': 4351, 'software': 4352, '66mb': 4353, 'confessed': 4354, 'bridge': 4355, 'looming': 4356, 'hedonist': 4357, 'poet': 4358, 'hammered': 4359, 'bengals': 4360, 'number': 4361, 'cgrjhskkl5': 4362, 'catherinerusse2': 4363, 'ooh': 4364, 'emerged': 4365, 'tardis': 4366, 'kb': 4367, 'krishnabeura': 4368, 'twitterindia': 4369, 'verified': 4370, 'congrats': 4371, 'krishna': 4372, 'mech': 4373, 'perpetrators': 4374, 'scarred': 4375, 'faultless': 4376, 'victims': 4377, 'violation': 4378, 'argue': 4379, 'nremain': 4380, 'unruffled': 4381, 'thes': 4382, 'ye': 4383, 'brethren': 4384, 'banned': 4385, 'killed': 4386, 'danced': 4387, 'missus': 4388, 'tucked': 4389, 'earplugs': 4390, 'freezer': 4391, 'note8': 4392, 'pen': 4393, '364': 4394, 'spagetti': 4395, 'huedrinkwater': 4396, 'cuzy': 4397, 'xxx': 4398, 'justtattooofus': 4399, '5mins': 4400, 'fame': 4401, 'specialneedsandlegalentitlement': 4402, '111': 4403, 'hosptal': 4404, 'visitors': 4405, 'burning': 4406, 'thinkandgrowrich': 4407, 'eddie': 4408, 'izzard': 4409, 'probe': 4410, 'fuzz': 4411, 'wrongdoing': 4412, 'involving': 4413, 'osiris': 4414, 'revisit': 4415, 'ah': 4416, 'boi': 4417, 'glued': 4418, 'egoistical': 4419, 'thrive': 4420, 'adverse': 4421, 'nuclear': 4422, 'entered': 4423, 'bee': 4424, 'filter': 4425, 'poptartiero': 4426, 'consider': 4427, 'yjjogmhm3d': 4428, 'lewishamilton': 4429, 'outrageous': 4430, 'f1live': 4431, 'kaiserchiefs': 4432, 'lebeomak': 4433, 'turbulent': 4434, 'willy': 4435, 'nelson': 4436, 'scientist': 4437, 'original': 4438, 'coldplay': 4439, 'drown': 4440, 'regretted': 4441, 'profiles': 4442, 'accounts': 4443, 'chronicpain': 4444, 'fulfilled': 4445, 'existence': 4446, 'gretta': 4447, 'brooker': 4448, 'palmer': 4449, 'jea3rabtqs': 4450, 'maze': 4451, 'louder': 4452, 'cavalry': 4453, 'electronic': 4454, 'cigarette': 4455, '3ia1npbgpu': 4456, 'traviswall': 4457, 'fruit': 4458, 'soyouthinkyoucandance': 4459, 'unwanted': 4460, 'graduated': 4461, 'neighbour': 4462, 'combat': 4463, '3zy8cxtris': 4464, 'hewwo': 4465, 'artist': 4466, 'besides': 4467, 'requests': 4468, '8yzkcdi8xh': 4469, 'adolescents': 4470, 'dqo97pblfn': 4471, 'jaapunited': 4472, 'sule': 4473, 'player': 4474, 'magic': 4475, 'novel': 4476, 'momentum': 4477, 'builds': 4478, 'nnothing': 4479, 'nathansykes': 4480, 'reply': 4481, 'appraisal': 4482, 'schema': 4483, 'behavior': 4484, 'mwamxzy59g': 4485, 'disconnects': 4486, 'cognitive': 4487, 'onset': 4488, 'noticeable': 4489, 'slowing': 4490, 'movements': 4491, 'gunner': 4492, 'chips': 4493, 'telly': 4494, '20am': 4495, 'lostinthemoment': 4496, 'waking': 4497, 'abound': 4498, 'coils': 4499, 'lukewhc09': 4500, 'hahaaa': 4501, 'fuming': 4502, 'lucha': 4503, 'puerto': 4504, 'rican': 4505, 'colorful': 4506, 'released': 4507, 'transcends': 4508, 'th6crb1sfr': 4509, 'supported': 4510, '4yre8xnrtq': 4511, 'gutting': 4512, 'snapchats': 4513, 'witnessed': 4514, 'lauderdale': 4515, 'solareclispe2017': 4516, 'dildo': 4517, 'reaper': 4518, 'hehehe': 4519, 'n9': 4520, 'pa': 4521, 'thepurcompany': 4522, 'pur': 4523, 'mojito': 4524, 'mints': 4525, 'nationalmojitoday': 4526, 'contest': 4527, 'slack': 4528, 'lacking': 4529, 'dro': 4530, 'flashback': 4531, 'skip': 4532, 'bells': 4533, 'di7n1sdxas': 4534, 'motivate': 4535, 'paralyze': 4536, 'hogan': 4537, 'wxladyfelicia': 4538, 'wptv': 4539, 'fox29wflx': 4540, 'cityofboynton': 4541, 'shifts': 4542, 'tutorship': 4543, 'enjoyingthelastfewdays': 4544, 'newchallanges': 4545, 'hottest': 4546, 'professor': 4547, 'tad': 4548, 'moley': 4549, 'dreaded': 4550, 'extrovert': 4551, '120': 4552, 'rldg4ogynz': 4553, 'struggled': 4554, 'lightning': 4555, 'fjgv89iagh': 4556, 'shining': 4557, 'daughters': 4558, 'ghosts': 4559, 'rolled': 4560, 'maverick': 4561, 'thrown': 4562, 'searched': 4563, 'q': 4564, 'dobrelucas': 4565, 'shld': 4566, 'shittiest': 4567, 'thur': 4568, 'ideal': 4569, 'thxgod': 4570, 'smashed': 4571, 'weekone': 4572, 'pushing': 4573, 'theproteinworks': 4574, 'nutrition': 4575, 'gainz': 4576, 'biggestfan': 4577, 'seats': 4578, 'senate': 4579, 'votes': 4580, 'rejecting': 4581, 'notion': 4582, 'sanga': 4583, 'wardene': 4584, 'converse': 4585, 'creative': 4586, 'scotparl': 4587, 'techno': 4588, 'ayan': 4589, 'saudia': 4590, 'iran': 4591, 'battlefield': 4592, 'happily': 4593, 'followingmydream': 4594, 'actuallynph': 4595, 'ghostsofmississippi': 4596, 'liveswe': 4597, '147': 4598, 'paulo': 4599, 'coelho': 4600, 'cy8zun5ifm': 4601, 'silent': 4602, 'ignorant': 4603, 'stuiped': 4604, 'bcause': 4605, '2me': 4606, 'nd': 4607, 'wana': 4608, '2give': 4609, 'bellweather': 4610, 'u4k4gukrus': 4611, 'overcomer': 4612, 'australianninjawarrior': 4613, 'slider': 4614, 'laughingsohard': 4615, 'yiiq7lqqk7': 4616, 'austin': 4617, 'lets': 4618, 'bestdayever': 4619, 'kindasad': 4620, 'cantfeelmyarms': 4621, 'actuallydieing': 4622, 'ephemeral': 4623, 'snapcode': 4624, 'amosc': 4625, 'sc': 4626, 'dwarsrivier': 4627, 'sa': 4628, 'guides': 4629, 'hairraising': 4630, 'tales': 4631, 'allround': 4632, 'institutional': 4633, 'racism': 4634, 'understood': 4635, 'inevitable': 4636, 'quesarito': 4637, 'taco': 4638, 'skinnier': 4639, 'prettier': 4640, 'smarter': 4641, 'waist': 4642, 'crouch': 4643, 'ankles': 4644, 'unintended': 4645, 'setting': 4646, 'cane': 4647, 'ehotoc0xwd': 4648, 'brenfosterreal': 4649, 'bren': 4650, 'stopping': 4651, 'nigga': 4652, 'asf': 4653, 'vxqnh9njh6': 4654, 'bf': 4655, 'breaks': 4656, 'infact': 4657, 'keenly': 4658, 'observe': 4659, 'unproductive': 4660, 'expectations': 4661, 'worthwhile': 4662, 'detox': 4663, 'billy': 4664, 'joel': 4665, 'ot6': 4666, 'julid': 4667, 'deletesoon': 4668, '12th': 4669, 'neopet': 4670, 'retro': 4671, '75th': 4672, 'harrison': 4673, 'ford': 4674, 'legendary': 4675, '80th': 4676, 'krispy': 4677, 'kreme': 4678, 'kyungsoo': 4679, 'instant': 4680, 'melting': 4681, 'courtneymcm142': 4682, 'individual': 4683, 'coolest': 4684, 'experiences': 4685, 'privileged': 4686, 'americans': 4687, '04': 4688, 'progressing': 4689, 'tphsjpcddf': 4690, 'karenlynnn': 4691, 'dabbler': 4692, 'procedures': 4693, 'chemotherapy': 4694, 'harry': 4695, 'styles': 4696, '67': 4697, '801': 4698, 'tayylittle': 4699, 'views': 4700, 'u2cjqkmtlx': 4701, '2010': 4702, 'ceorrkfncl': 4703, 'awhile': 4704, 'disney': 4705, '3kohge': 4706, 'buddhism': 4707, 'verse': 4708, 'cleanse': 4709, 'buddha': 4710, 'spots': 4711, 'wanty': 4712, 'fading': 4713, 'brown': 4714, 'infosmessl': 4715, 'fractured': 4716, 'mighty': 4717, 'qldmaroons': 4718, 'nswrl': 4719, 'maroons': 4720, 'spectacular': 4721, 'suncorpstadium': 4722, 'qld': 4723, 'unattached': 4724, 'attaches': 4725, 'fitting': 4726, 'chan': 4727, 'hamilton': 4728, 'okja': 4729, 'sum1': 4730, 'remem': 4731, 'mystery': 4732, 'solved': 4733, 'axtpaq3h0t': 4734, 'emma': 4735, 'honor': 4736, 'kindly': 4737, '00966504634031': 4738, 'crumbs': 4739, 'tradasro': 4740, 'wingsscotland': 4741, 'thesnp': 4742, 'stvnews': 4743, 'channel4news': 4744, 'scotland': 4745, 'british': 4746, 'circus': 4747, 'antics': 4748, 'lifestyle': 4749, 'se4l': 4750, 'segc': 4751, 'darkest': 4752, '8k0ixet8z5': 4753, 'referring': 4754, 'vacations': 4755, 'servants': 4756, 'beck': 4757, 'workday': 4758, 'quiet': 4759, 'esteem': 4760, 'wascalwy': 4761, 'depwession': 4762, 'satisfactory': 4763, 'images': 4764, 'status': 4765, 'quo': 4766, 'fixing': 4767, 'structures': 4768, '500l': 4769, 'edutopia': 4770, 'innovative': 4771, 'classrooms': 4772, 'leadup': 4773, '3pm': 4774, '5pm': 4775, 'zion': 4776, 'm15': 4777, '4zy': 4778, '0161': 4779, '226': 4780, '3871': 4781, '4j8pkbxzmg': 4782, 'rabbit': 4783, 'races': 4784, 'nso': 4785, 'lebatardshow': 4786, 'stugotz790': 4787, 'ghibiiyoongi': 4788, 'danabente': 4789, 'sincerely': 4790, '737': 4791, 'pw': 4792, 'dwight': 4793, 'howard': 4794, 'mizuvera': 4795, 'midnight': 4796, 'writting': 4797, 'chrisdrunkpoets': 4798, 'musichouruk': 4799, 'otherworldly': 4800, 'optimistic': 4801, 'q1rzfilkwe': 4802, 'recognize': 4803, 'institutionalized': 4804, 'sufficiency': 4805, 'pathologized': 4806, 'interaction': 4807, 'scfjoc5yow': 4808, 'eluded': 4809, 'stretch': 4810, 'arms': 4811, 'farther': 4812, 'kazalex': 4813, 'brushed': 4814, 'olivia': 4815, 'prime': 4816, 'example': 4817, 'gorgeous': 4818, 'personality': 4819, 'looksainteverything': 4820, '2zpknj2qza': 4821, 'taught': 4822, 'advantage': 4823, 'jcg6ez14ea': 4824, 'takeing': 4825, 'streaming': 4826, 'ggreenwald': 4827, 'macron': 4828, 'slips': 4829, 'clarity': 4830, 'liberallogic': 4831, 'tis': 4832, 'plum': 4833, 'blossom': 4834, 'patterned': 4835, 'betrayal': 4836, 'disappointments': 4837, 'feet': 4838, 'pendeja': 4839, 'spreadingsmiles': 4840, 'healtyliving': 4841, 'laughoutloud': 4842, 'happinessallaround': 4843, 'realrobfowler': 4844, 'whatpart': 4845, 'wilm': 4846, 'aegyotaetae': 4847, 'oyeakasha': 4848, 'insecure': 4849, 'withhold': 4850, 'praise': 4851, 'achievements': 4852, 'vwwwtd7vmk': 4853, 'thos': 4854, 'xvpqpqqvxw': 4855, 'describe': 4856, 'ordered': 4857, 'fridge': 4858, 'hypocrisy': 4859, 'jalepenos': 4860, 'bravoallstarz': 4861, 'leading': 4862, 'pithy': 4863, 'empathy': 4864, 'geometric': 4865, '80w': 4866, 'qtuoix6po9': 4867, 'hanbury': 4868, 'jumper': 4869, 'colder': 4870, 'sebstian': 4871, 'gorka': 4872, 'deflecting': 4873, 'wizard': 4874, 'monetary': 4875, 'brick': 4876, 'ounce': 4877, 'moist': 4878, 'typo': 4879, 'fatass': 4880, 'l': 4881, 'fantasy': 4882, 'rxmmesoopj': 4883, 'mrosenbaum711': 4884, 'lying': 4885, 'pool': 4886, '29': 4887, 'busted': 4888, 'aemnwwfdg8': 4889, 'blindsided': 4890, 'expecting': 4891, 'heartache': 4892, 'motivates': 4893, 'hence': 4894, 'activity': 4895, 'promoting': 4896, 'taeny': 4897, 'accident': 4898, 'chrislhayes': 4899, 'emojis': 4900, 'inners': 4901, 'betrayed': 4902, 'ddcsytxjbl': 4903, 'urcskr2or8': 4904, 'jfc': 4905, 'fester': 4906, 'smyl': 4907, 'bcoz': 4908, 'lyf': 4909, 'nid': 4910, 'refuge': 4911, 'crawl': 4912, 'curl': 4913, 'an8nontb6r': 4914, 'razdannidhi': 4915, 'improve': 4916, 'reduction': 4917, 'viewership': 4918, 'dirs': 4919, 'savage': 4920, 'prof': 4921, 'lifeisgood': 4922, 'tbf': 4923, 'perseveres': 4924, 'mercury': 4925, 'awards': 4926, 'is67imvghq': 4927, 'halloweentown': 4928, 'halloween': 4929, 'dragonwhitewalker': 4930, 'flippinheck': 4931, '4am': 4932, 'angsty': 4933, 'injury': 4934, 'attracted': 4935, 'played': 4936, 'dansgaming': 4937, 'prdct': 4938, 'surroundings': 4939, 'codecityco': 4940, 'n8walke': 4941, 'dianap': 4942, 'patton': 4943, 'drmattkutz': 4944, 'beware': 4945, 'expenses': 4946, 'leak': 4947, 'ship': 4948, 'benjamin': 4949, 'franklin': 4950, 'reminded': 4951, 'kim': 4952, 'kardashian': 4953, 'shoot': 4954, 'nnot': 4955, 'flattered': 4956, 'jews': 4957, 'bonded': 4958, 'torn': 4959, 'bobandtom': 4960, 'chickmcgee1': 4961, 'thatjosharnold': 4962, 'religious': 4963, 'inuit': 4964, 'losses': 4965, 'dc': 4966, 'nationalfrenchfryday': 4967, 'fried': 4968, 'frie': 4969, 'dcehdhftox': 4970, 'sneakers': 4971, 'financial': 4972, 'unify': 4973, 'streamline': 4974, 'responses': 4975, 'zayuuum': 4976, 'bey': 4977, 'tatas': 4978, '141': 4979, 'askgst': 4980, 'goi': 4981, 'process': 4982, 'drying': 4983, 'coooking': 4984, 'brault': 4985, 'confidence': 4986, 'mos': 4987, 'fearing': 4988, 'ho': 4989, 'mcintyre': 4990, 'harris': 4991, 'teeter': 4992, 'feathers': 4993, 'clotted': 4994, 'load': 4995, 'memorable': 4996, 'content': 4997, 'shady': 4998, 'crevice': 4999, 'christina': 5000, 'rossetti': 5001, 'slightly': 5002, 'apprehensive': 5003, 'cimonc0ocm': 5004, 'texted': 5005, 'travelling': 5006, '3xkr0fgmet': 5007, 'tool': 5008, 'upsets': 5009, 'alote': 5010, 'farrah': 5011, 'rudeness': 5012, 'drew': 5013, 'teenmomog': 5014, 'button': 5015, 'fatty': 5016, 'removal': 5017, 'efficiency': 5018, 'dotmatrix': 5019, 'printed': 5020, 'transcript': 5021, 'fullpost': 5022, 'twittr': 5023, 'walu2go': 5024, 'thisislukeowen': 5025, 'ramble': 5026, 'ddlovato': 5027, 'rowing': 5028, '3000': 5029, 'atlantic': 5030, 'sucked': 5031, 'liable': 5032, 'hop': 5033, 'flight': 5034, 'gbkopobfy3': 5035, 'began': 5036, 'survives': 5037, 'dangers': 5038, 'types': 5039, 'documentaries': 5040, 'fuckn': 5041, 'neighbuour': 5042, 'budster': 5043, 'oliver10': 5044, 'regretting': 5045, 'audacity': 5046, 'pecker': 5047, 'potty': 5048, 'goodmanbakery': 5049, 'goods': 5050, 'df': 5051, 'bonus': 5052, 'huhhh': 5053, 'nj': 5054, '1288': 5055, 'chills': 5056, 'kerrykatona7': 5057, 'stunner': 5058, 'boise': 5059, 'ak': 5060, 'meditated': 5061, 'contented': 5062, 'stroke': 5063, 'maladies': 5064, 'burnout': 5065, 'decade': 5066, 'pervasive': 5067, 'discovering': 5068, 'technique': 5069, 'ys6swovlr3': 5070, 'user': 5071, 'retain': 5072, 'periods': 5073, 'exact': 5074, 'earned': 5075, 'belated': 5076, 'koy': 5077, 'yytndo2tcx': 5078, 'environment': 5079, 'w1sj4ilsua': 5080, 'meaning': 5081, 'drs': 5082, 'joan': 5083, 'cohn': 5084, 'monarch': 5085, 'ladyscully': 5086, 'sinong': 5087, 'jan': 5088, 'kmt': 5089, 'ejrynyhn6s': 5090, 'shove': 5091, 'playground': 5092, 'asshole': 5093, 'stupidreasonstousetimetravel': 5094, 'sickkkk': 5095, 'toeuxqliad': 5096, 'clockwork': 5097, 'lest': 5098, 'perish': 5099, 'wrath': 5100, 'kindled': 5101, 'rcv1i6pak7': 5102, 'scratched': 5103, 'inches': 5104, 'sledging': 5105, 'rarhnljlmt': 5106, 'aisharuby85': 5107, 'orxfwcdc6g': 5108, 'victimize': 5109, 'fkin': 5110, 'pint': 5111, 'jaclynhill': 5112, 'jeffreestar': 5113, 'chats': 5114, 'shawty': 5115, 'curry': 5116, 'blade': 5117, 'twice': 5118, 'nadisaonline': 5119, 'dramas': 5120, 'snorted': 5121, 'communitytv': 5122, 'outtakes': 5123, 'donaldglover': 5124, 'dannypudi': 5125, 'duo': 5126, 'museum': 5127, 'stratford': 5128, 'avon': 5129, 'films': 5130, 'cyberbully': 5131, 'frazzles': 5132, 'muted': 5133, 'deafening': 5134, 'adoptions': 5135, 'exposure': 5136, 'adopter': 5137, 'prospects': 5138, 'armor': 5139, 'reduces': 5140, 'nap': 5141, 'qnsq2cduzx': 5142, 'anticipation': 5143, 'prevails': 5144, 'persists': 5145, 'formula': 5146, 'inertia': 5147, 'elated': 5148, '4m1znv2l7t': 5149, 'spoilt': 5150, 'kylie': 5151, 'lip': 5152, 'boxers': 5153, 'pros': 5154, 'breezy': 5155, 'nole': 5156, 'sope': 5157, 'otsukare': 5158, 'katsekhotho': 5159, 'lemii': 5160, 'loco': 5161, 'falter': 5162, 'katli': 5163, 'dammit': 5164, 'existed': 5165, 'gosh': 5166, 'akxo9rdvom': 5167, 'outpouring': 5168, 'strike': 5169, 'substance': 5170, 'falls': 5171, 'wind': 5172, 'dispersing': 5173, 'particles': 5174, 'caxtonsupport': 5175, 'stands': 5176, 'sadly': 5177, 'goofiness': 5178, 'prob': 5179, 'calming': 5180, 'angers': 5181, '5sos': 5182, 'bestfriends': 5183, 'brittany': 5184, 'lantern': 5185, 'stolen': 5186, 'd7goi5d2pz': 5187, 'loganpaul': 5188, 'unique': 5189, 'hoeshiko': 5190, 'fowl': 5191, 'killme': 5192, 'dearly': 5193, 'professors': 5194, 'lonelies': 5195, '5fvlfsmcbt': 5196, 'swoop': 5197, 'thick': 5198, 'storm': 5199, 'nicest': 5200, 'saiyan': 5201, 'complain': 5202, 'accepted': 5203, 'bird': 5204, 'russ': 5205, 'kent': 5206, 'isabeloakeshott': 5207, 'inexplicably': 5208, 'lectures': 5209, 'impenetrable': 5210, 'consultu': 5211, 'dire': 5212, 'catch': 5213, '2020': 5214, 'seungwoo': 5215, 'eunsang': 5216, 'akshsj': 5217, 'cometland': 5218, '4x': 5219, 'squad': 5220, 'donkeys': 5221, 'idiot': 5222, 'louisville': 5223, 'spoil': 5224, 'saints': 5225, 'sung': 5226, 'mlbtheshow17': 5227, 'cups': 5228, 'starbucks': 5229, 'goth': 5230, 'bean': 5231, 'dp': 5232, 'srk': 5233, 'rk': 5234, 'berdych': 5235, 'easiest': 5236, '357632477': 5237, 'edsheeran': 5238, 'ballroom': 5239, 'timer': 5240, 'stoked': 5241, 'sotired': 5242, 'wajir': 5243, 'county': 5244, 'crib': 5245, 'economical': 5246, 'shutdown': 5247, 'blackout': 5248, 'tribalism': 5249, 'inter': 5250, 'clan': 5251, 'clashes': 5252, 'impunity': 5253, 'staged': 5254, 'cinema': 5255, 'influx': 5256, 'locals': 5257, 'dicemore': 5258, 'tony': 5259, 'nazi': 5260, 'bemannn': 5261, 'mvp': 5262, 'pitching': 5263, 'arrives': 5264, 'gdhivi7ean': 5265, 'destructive': 5266, 'atmospheric': 5267, 'phenomenon': 5268, 'cipralex': 5269, 'clue': 5270, 'cpwomensopen': 5271, 'brookehenderson': 5272, 'cheohospital': 5273, 'ottawahuntclub': 5274, 'grey': 5275, 'coloring': 5276, 'loyalty': 5277, 'batch': 5278, 'deactivating': 5279, 'clout': 5280, 'chaser': 5281, 'iamsiroberts': 5282, 'halton': 5283, 'depress': 5284, 'adrianmannarino': 5285, 'swing': 5286, 'rd': 5287, 'atp': 5288, 'stfu': 5289, 'pursuit': 5290, 'sandraoldfield': 5291, 'comics': 5292, 'lisacim': 5293, 'acaciaevans': 5294, 'ruthieel': 5295, 'eamonnholmes': 5296, 'entertainment': 5297, 'thismorning': 5298, 'sofunny': 5299, 'myfaves': 5300, 'furnish': 5301, 'intuitive': 5302, 'solutions': 5303, 'eleesha': 5304, 'alxcxrte': 5305, 'sulking': 5306, 'contrair': 5307, 'chuckles': 5308, 'washed': 5309, 'conditioned': 5310, 'boxset': 5311, 'huueducation': 5312, 'sabbs': 5313, 'interest': 5314, 'creatures': 5315, 'adequately': 5316, 'maintained': 5317, 'ward': 5318, 'inflammation': 5319, 'xpnlrqcyhh': 5320, '124': 5321, 'c6ncrt1puf': 5322, 'philosophy': 5323, 'dissipated': 5324, 'abandoned': 5325, 'describes': 5326, 'hzngzzlxu6': 5327, 'surgery': 5328, 'masculine': 5329, 'nlb1seozuu': 5330, 'ceecee151': 5331, 'clouded': 5332, 'dlgialuenn': 5333, 'poms': 5334, 'gushy': 5335, 'bilious': 5336, 'housefires': 5337, 'goodfather': 5338, 'itswhoiam': 5339, 'itswhoyouare': 5340, 'youtperfectinallofyourways': 5341, 'disappeared': 5342, 'regret': 5343, 'blackmail': 5344, 'tenderlove': 5345, 'cusec': 5346, 'lonelier': 5347, 'perceived': 5348, 'lower': 5349, 'dieing': 5350, 'admitting': 5351, 'dignity': 5352, 'humiliating': 5353, 'lesbian': 5354, 'doddledisney': 5355, 'illnesses': 5356, 'knocking': 5357, 'flat': 5358, 'maintaining': 5359, 'toxifying': 5360, 'rationally': 5361, 'hormone': 5362, 'cycling': 5363, 'wks': 5364, 'endorphins': 5365, 'replenish': 5366, 'chanting': 5367, 'chill': 5368, 'weee': 5369, 'k3masdazrt': 5370, 'collapse': 5371, 'balrsclub': 5372, 'mutuals': 5373, 'fisto': 5374, 'lightsaber': 5375, 'tonysuniverse': 5376, 'heatwave': 5377, 'ngotta': 5378, 'mic': 5379, 'nthanks': 5380, 'xvibd0hpae': 5381, 'spoiled': 5382, 'candidate': 5383, 'congletonfc': 5384, 'fcunitedmcr': 5385, 'comeonthebears': 5386, 'changing': 5387, 'superdupertashy': 5388, 'ps4': 5389, 'ps3': 5390, 'olds': 5391, 'screw': 5392, 'bugs': 5393, 'fw': 5394, 'ralofamgoon': 5395, '140': 5396, 'assume': 5397, 'bylsma': 5398, 'lehner': 5399, 'draining': 5400, 'neglected': 5401, 'disability': 5402, 'resilience': 5403, 'minxiebutt': 5404, 'anons': 5405, 'appreciation': 5406, 'shippers': 5407, 'pleased': 5408, 'inform': 5409, 'butterflies': 5410, 'technojoy': 5411, 'op': 5412, 'lion': 5413, 'thezigziglar': 5414, 'quebec': 5415, 'cash': 5416, 'register': 5417, 'suit': 5418, 'ffs': 5419, 'shes': 5420, 'ekeuu6axvy': 5421, 'elves': 5422, 'offered': 5423, 'seein': 5424, 'animal': 5425, 'cruelty': 5426, 'any1': 5427, 'defenceless': 5428, 'stopanimalcruelty': 5429, 'worldsgonemad': 5430, 'raj': 5431, 'graduate': 5432, '5th': 5433, 'belief': 5434, 'withdrawn': 5435, 'camp': 5436, '5am': 5437, 'levugdtsnp': 5438, 'findrealhealth': 5439, 'ngjndxhvlm': 5440, '114': 5441, '8jfdnoid7w': 5442, '106': 5443, 'providence': 5444, 'replace': 5445, 'instill': 5446, 'endless': 5447, 'darthvader': 5448, 'skinnytaste': 5449, 'tikka': 5450, 'masala': 5451, 'cauliflower': 5452, 'peas': 5453, 'defining': 5454, 'middling': 5455, 'trudging': 5456, 'muddy': 5457, 'spare': 5458, 'cid': 5459, 'prevented': 5460, 'lvl': 5461, 'serve': 5462, 'roles': 5463, 'g': 5464, 'fits': 5465, 'operation': 5466, 'cleveland': 5467, 'excruciating': 5468, 'timmy': 5469, 'eboy': 5470, 'p6i7bmmbfc': 5471, 'stevenmnuchin1': 5472, 'adorablewife': 5473, 'adorablewedding': 5474, 'adorablehoneymoon': 5475, 'adorablejet': 5476, 'adorablejob': 5477, 'orin': 5478, 'atlantis': 5479, 'arrive': 5480, 'withdrawl': 5481, '146': 5482, 'skint': 5483, 'wasted': 5484, 'bpqfpiyq9c': 5485, 'determined': 5486, 'string': 5487, 'scissors': 5488, 'knife': 5489, 'bpkmtyrl3t': 5490, 'grandma': 5491, 'benmorris04': 5492, 'lisajnc1951': 5493, 'bigapple': 5494, 'njtransit': 5495, 'khakis': 5496, 'whiteshirt': 5497, 'maybeblue': 5498, 'brownshoes': 5499, 'macys': 5500, 'jealousyet': 5501, 'reunion': 5502, 'whisky': 5503, 'whiskyfun': 5504, 'humour': 5505, 'karaoke': 5506, 'britney': 5507, 'mateo': 5508, 'bkny': 5509, 'difficulties': 5510, 'rouse': 5511, 'discourage': 5512, 'conflict': 5513, 'ellery': 5514, 'channing': 5515, 'pats': 5516, 'panthers': 5517, 'oklahoma': 5518, 'carolina': 5519, 'idaho': 5520, 'louisiana': 5521, 'fucj': 5522, 'shits': 5523, 'cba': 5524, 'nan': 5525, 'regina': 5526, 'george': 5527, 'connecting': 5528, 'anewperspective': 5529, 'posqshqcna': 5530, 'sagasofsundry': 5531, 'rap': 5532, 'prepare': 5533, 'pressure': 5534, 'zelo96': 5535, 'nnow': 5536, 'deleted': 5537, 'fisher': 5538, 'wth': 5539, 'intrusive': 5540, 'micro': 5541, 'doses': 5542, 'improvement': 5543, 'cftdb6q2ka': 5544, 'bravery': 5545, 'triumph': 5546, '885': 5547, 'hummingbird': 5548, 'cardinals': 5549, 'finches': 5550, 'feasting': 5551, 'backyard': 5552, 'degradation': 5553, 'events': 5554, 'butucancallmez': 5555, 'wondered': 5556, 'hooper30': 5557, 'twinnn': 5558, 'gachas': 5559, 'deresute': 5560, 'enstars': 5561, 'nsoar': 5562, 'nunfurl': 5563, 'nwishing': 5564, 'bloodycrayonsspecialscreening': 5565, 'feelso': 5566, 'defeated': 5567, 'teach': 5568, 'volunteering': 5569, 'mjehiwdpd5': 5570, 'trending': 5571, 'personal': 5572, 'sponsors': 5573, 'dreary': 5574, 'legged': 5575, 'stool': 5576, 'sample': 5577, 'vxagppbckh': 5578, 'floods': 5579, 'gogglebox': 5580, 'toilet': 5581, 'ugggh': 5582, 'simples': 5583, 'fedup': 5584, 'cuddle': 5585, 'yaaaaaaaaaaaas': 5586, 'scotty': 5587, 'sinclair': 5588, 'interstinman': 5589, 'pandoramusic': 5590, 'enter': 5591, 'sandman': 5592, 'unforgiving': 5593, 'kurt': 5594, 'cobain': 5595, 'nokz0e1hlp': 5596, 'dwxfpvi3ix': 5597, 'pdf': 5598, 'format': 5599, 'computer': 5600, 'caulfield': 5601, 'gif': 5602, 'kicking': 5603, 'prepares': 5604, 'sobergirlproblems': 5605, 'sobriety': 5606, 'rhyshenllan': 5607, 'disabledsg': 5608, '133': 5609, 'k1djsd31gy': 5610, 'wanking': 5611, 'target': 5612, 'nthat': 5613, 'fetish': 5614, 'nif': 5615, 'haha': 5616, 'individuals': 5617, 'crises': 5618, 'declares': 5619, 'bombers': 5620, 'emergency': 5621, 'hoosiers': 5622, 'cards': 5623, '2x': 5624, 'foodparty': 5625, '7h5bkvzkb8': 5626, '40billion': 5627, 'provoking': 5628, 'illuminating': 5629, 'unite': 5630, 'humanity': 5631, 'gamescom17': 5632, 'continuous': 5633, 'remission': 5634, 'preceded': 5635, 'episodes': 5636, 'journal': 5637, 'worldfringeday': 5638, 'appropriate': 5639, 'edfringe': 5640, 'cultureclashuk': 5641, 'gunnergale': 5642, 'gale': 5643, 'habits': 5644, 'm58kqna0l1': 5645, 'featuring': 5646, 'grilled': 5647, 'halibut': 5648, 'basil': 5649, 'crust': 5650, 'tomato': 5651, 'lobster': 5652, 'coulis': 5653, 'seafood': 5654, '131': 5655, 'lyttleton': 5656, 'stickers': 5657, '148': 5658, '0808': 5659, '808': 5660, '2234': 5661, 'rb': 5662, 'ie8cgaunmv': 5663, '01mattwhite': 5664, 'deadlinedaylive': 5665, 'noeishappy': 5666, 'yogagirl': 5667, 'yogaeverydamnday': 5668, 'namaste': 5669, 'passing': 5670, 'wished': 5671, 'blend': 5672, 's71lb5dneo': 5673, 'lexis': 5674, 'ao': 5675, 'kharis': 5676, 'customerservice': 5677, 'era': 5678, 'justice': 5679, '2night': 5680, 'intercessors': 5681, '2pray': 5682, 'tht': 5683, 'election': 5684, 'edgy': 5685, 'teenager': 5686, 'bsqbwkkqzp': 5687, 'bycoisyj9a': 5688, 'underestimate': 5689, 'commsruss': 5690, 'luheron': 5691, 'needyaunty': 5692, 'pupster': 5693, 'gutted': 5694, 'slipped': 5695, 'disk': 5696, 'downstairs': 5697, 'baywatch': 5698, 'friggin': 5699, 'nyummmmmmy': 5700, 'ddlg': 5701, 'abdl': 5702, 'chgl': 5703, 'greenied': 5704, 'portlandia': 5705, 'perfectly': 5706, 'safety': 5707, 'zmzckcpujb': 5708, '112': 5709, 'kjv': 5710, 'righteous': 5711, 'heareth': 5712, 'delivereth': 5713, 'shreyaghoshal': 5714, 'fv': 5715, 'bdw': 5716, 'sings': 5717, 'distracted': 5718, 'camera': 5719, 'records': 5720, 'crippled': 5721, 'upward': 5722, 'trend': 5723, 'menu': 5724, 'green': 5725, 'whipped': 5726, 'dusted': 5727, 'matcha': 5728, 'straw': 5729, 'birdtabs': 5730, 'directory': 5731, 'exploring': 5732, 'celebrations': 5733, 'quirky': 5734, 'document': 5735, 'helpless': 5736, 'tricks': 5737, 'shorten': 5738, 'reboot': 5739, 'ke': 5740, 'alarming': 5741, 'throat': 5742, 'flare': 5743, 'cope': 5744, 'turabelamedi': 5745, 'wayyyyy': 5746, 'wayy': 5747, 'wayyyy': 5748, 'wideawake': 5749, 'refills': 5750, 'desert': 5751, 'lazysis': 5752, 'publicity': 5753, 'projects': 5754, 'mustache': 5755, 'babystache': 5756, 'smash': 5757, 'crutches': 5758, 'triggering': 5759, 'iv1owhaj1q': 5760, 'fabricated': 5761, 'decipher': 5762, 'chew': 5763, 'gums': 5764, 'bleed': 5765, 'workin': 5766, 'adult': 5767, 'massive': 5768, 'frail': 5769, 'wicker': 5770, 'coracle': 5771, 'goin': 5772, 'bein': 5773, 'direct': 5774, 'tiffanyreisz': 5775, 'cuppa': 5776, 'cheese': 5777, 'pyoccc9qbe': 5778, 'ctbxnnn3il': 5779, 'cures': 5780, 'irish': 5781, 'proverb': 5782, '35': 5783, 'eamaddennfl': 5784, 'rate': 5785, 'dolphins': 5786, 'rating': 5787, 'rank': 5788, 'challenge': 5789, 'whitey': 5790, 'seasonedcurlyfries': 5791, 'havetoeatfast': 5792, 'pwlkfoyprk': 5793, 'appt': 5794, 'internet': 5795, 'perfection': 5796, 'salvador': 5797, 'dal': 5798, 'agile': 5799, 'designthinking': 5800, 'mountains': 5801, 'appetizer': 5802, 'consisting': 5803, 'tarts': 5804, 'academia': 5805, 'posters': 5806, 'university': 5807, 'vibe': 5808, 'roadhouse': 5809, '877': 5810, 'impressions': 5811, 'insightful': 5812, 'enlightening': 5813, 'franchise': 5814, 'xb1': 5815, 'interested': 5816, 'rosters': 5817, 'youhavetostudyworkhardajajkskanakaoanakaa': 5818, 'aaaaand': 5819, 'boomshakalakaaaa': 5820, 'prefer': 5821, 'halfway': 5822, 'dam': 5823, 'shot': 5824, 'thankfully': 5825, 'saves': 5826, '142': 5827, '2hjybivjnu': 5828, 'eclipe2017': 5829, 'carries': 5830, 'jolt': 5831, 'swath': 5832, 'transition': 5833, 'anne': 5834, 'causes': 5835, '25': 5836, 'idols': 5837, 'fills': 5838, 'jb': 5839, 'okish': 5840, 'psychiatrist': 5841, 'warnings': 5842, 'dips': 5843, 'shaped': 5844, 'thoughtoftheday': 5845, 'perpetual': 5846, 'force': 5847, 'multiplier': 5848, 'colin': 5849, 'powell': 5850, 'positivity': 5851, '31daysofjoy': 5852, 'laughterishealing': 5853, 'laughterisgoodforthesoul': 5854, 'yourhorrorhost': 5855, 'pdeblassieiii': 5856, 'retweets': 5857, 'appreciated': 5858, 'horror': 5859, 'monsterbrawl': 5860, 'sirens': 5861, 'blackvoices': 5862, 'gucci1017': 5863, 'officer': 5864, 'hero': 5865, 'doglovers': 5866, 'beckett': 5867, 'model': 5868, 'structure': 5869, 'scales': 5870, 'vc': 5871, 'interconnected': 5872, 'temp': 5873, 'pdx': 5874, 'intent': 5875, 'aunt': 5876, 'cousins': 5877, 'picks': 5878, 'achieve': 5879, 'outlook': 5880, 'excuse': 5881, 'lifts': 5882, 'source': 5883, 'hmm': 5884, 'saddest': 5885, 'agreeing': 5886, 'fgpqkqwhyw': 5887, '500': 5888, 'streaks': 5889, 'tight': 5890, 'oldest': 5891, 'sometime': 5892, 'tenth': 5893, 'poisoning': 5894, 'occasion': 5895, 'niall': 5896, 'handwriting': 5897, 'walmart': 5898, 'pajamas': 5899, 'jennimiller': 5900, 'jennimiller29': 5901, 'louiselinton': 5902, 'reviews': 5903, 'oscar': 5904, 'beleive': 5905, 'participate': 5906, 'thesarahfader': 5907, 'log': 5908, 'killingthetown': 5909, 'shanehelmscom': 5910, 'salespeople': 5911, 'increase': 5912, 'eliminating': 5913, 'consumer': 5914, 'complaints': 5915, 'concerns': 5916, 'peeves': 5917, 'chilly': 5918, 'crickets': 5919, 'overpowering': 5920, 'joint': 5921, 'silken': 5922, 'dorian': 5923, 'tipsy': 5924, 'qhsaqdjn9j': 5925, 'alike': 5926, 'except': 5927, 'brief': 5928, 'respites': 5929, 'ravens': 5930, 'browns': 5931, 'texans': 5932, 'fucc': 5933, 'coding': 5934, 'webdevelopment': 5935, 'comed': 5936, 'kip': 5937, 'grbeuv5aix': 5938, 'senator': 5939, 'adeleke': 5940, 'rolling': 5941, 'bougie': 5942, 'hundreds': 5943, 'cover': 5944, 'bizarre': 5945, 'tiredoflife': 5946, 'engine': 5947, 'mechanic': 5948, 'lyrics': 5949, 'deactivate': 5950, 'tl': 5951, 'foreign': 5952, 'overseas': 5953, 'sueleibman': 5954, 'audition': 5955, 'sagfilm': 5956, 'actor': 5957, 'moviestar': 5958, 'imdb': 5959, '26th': 5960, '05': 5961, 'costa': 5962, 'rica': 5963, 'bahria': 5964, 'cupshup': 5965, 'opinions': 5966, 'valued': 5967, 'gdxq3fkzbk': 5968, 'sexuality': 5969, 'wildfire': 5970, 'meh': 5971, 'queen': 5972, '8lzlycgafg': 5973, 'vpozsmsbxl': 5974, 'goodday': 5975, 'uplift': 5976, 'beers': 5977, 'saidthesky': 5978, 'dasenergifest': 5979, 'mitchell': 5980, 'thayne': 5981, 'peering': 5982, 'balcony': 5983, 'bloodied': 5984, 'realms': 5985, 'freddie': 5986, 'unnerved': 5987, 'aura': 5988, 'transforms': 5989, 'dynamic': 5990, 'attractive': 5991, 'yogalaugh': 5992, 'sms': 5993, 'proper': 5994, 'reap': 5995, 'harvest': 5996, 'ngalatians': 5997, 'niv': 5998, 'cultivate': 5999, 'supportive': 6000, 'mystic': 6001, 'messenger': 6002, 'angst': 6003, 'mysticmessenger': 6004, 'received': 6005, 'friendliness': 6006, 'bekind': 6007, 'stalking': 6008, 'missmarilynx': 6009, 'bigscottgibson': 6010, 'fell': 6011, 'hon': 6012, 'dashwood': 6013, 'whose': 6014, 'manners': 6015, 'blonderella26': 6016, 'seahawksfan7777': 6017, 'shitlery': 6018, 'afern': 6019, 'eugenegu': 6020, 'tonyposnanski': 6021, 'siblings': 6022, 'ojdopee3ab': 6023, 'neighborhoods': 6024, 'disasters': 6025, 'forgive': 6026, 'hamlet': 6027, 'londontheatre': 6028, 'repeating': 6029, 'laurajillsomers': 6030, 'bump': 6031, 'bla0kfzjnz': 6032, 'kitchen': 6033, 'table': 6034, '3d': 6035, 'whirring': 6036, 'printer': 6037, 'stimpack': 6038, 'thegospel': 6039, 'stephenasmith': 6040, 'caller': 6041, 'volume': 6042, 'marvingaye': 6043, 'levity': 6044, 'vaal': 6045, 'jozi': 6046, 'submit': 6047, 'forms': 6048, 'stupid': 6049, 'orlando': 6050, 'allowing': 6051, 'motivationalquotes': 6052, '28qhqxykc9': 6053, 'forgiveness': 6054, 'lukegoss': 6055, 'mattgoss': 6056, 'label': 6057, 'qrpk8kn9pr': 6058, 'sweater': 6059, 'atrsya': 6060, 'nhs': 6061, 'referral': 6062, 'counselling': 6063, 'attitude': 6064, 'areas': 6065, 'maxinewaters': 6066, 'fantasizing': 6067, 'ftaixlh8zd': 6068, 'drenched': 6069, 'theon': 6070, 'nectar': 6071, 'greek': 6072, 'virgin': 6073, 'olive': 6074, 'oil': 6075, 'mmmmm': 6076, 'potus': 6077, 'initiative': 6078, 'hitkpkd': 6079, 'apollohospitals': 6080, 'superhitdonor': 6081, 'injured': 6082, 'sentimental': 6083, 'jewellery': 6084, 'thesocialctv': 6085, 'couch': 6086, 'streamate': 6087, 'tommorow': 6088, 'premium': 6089, 'webcammodel': 6090, 'parts': 6091, 'tarabrazil2': 6092, 'ghd': 6093, 'boots': 6094, 'straighter': 6095, 'calls': 6096, 'retale': 6097, 'wwe': 6098, 'loudly': 6099, 'headphones': 6100, 'greateranglia': 6101, 'train': 6102, 'absolutly': 6103, 'bookingcom': 6104, 'owed': 6105, '327': 6106, 'expected': 6107, 'comp': 6108, 'dealt': 6109, 'blah': 6110, 'sqarekf3ly': 6111, 'bret': 6112, 'ily': 6113, 'bretmanrock': 6114, 'frick': 6115, 'dalebrisby': 6116, 'lovin': 6117, 'portrayal': 6118, 'rancher': 6119, 'picking': 6120, 'climbing': 6121, 'panel': 6122, 'peedalittle': 6123, '000ft': 6124, 'en': 6125, 'route': 6126, 'australia': 6127, 'dubai': 6128, 'fafckwtnj3': 6129, 'p': 6130, 'jays': 6131, 'frustrated': 6132, 'informed': 6133, 'usps': 6134, 'superstar': 6135, 'lawyer': 6136, 'freedman': 6137, 'ftllp': 6138, 'challenging': 6139, 'epl': 6140, 'cris': 6141, 'hughes': 6142, 'aarp': 6143, 'rh0s4fhim9': 6144, 'tolerate': 6145, 'irritation': 6146, 'multiplex': 6147, 'karma': 6148, 'cutie': 6149, 'teenmomog2': 6150, 'javimarroquin9': 6151, 'kaillowry': 6152, 'minime': 6153, 'billjoehughes': 6154, 'nasal': 6155, 'spray': 6156, 'introduced': 6157, 'safer': 6158, 'however': 6159, 'pricey': 6160, 'iv': 6161, 'resistant': 6162, 'global': 6163, 'eatery': 6164, 'lyft': 6165, 'oath': 6166, 'npp': 6167, 'rooted': 6168, 'nana': 6169, 'addo': 6170, 'divide': 6171, 'rule': 6172, 'slave': 6173, 'mastership': 6174, 'revolting': 6175, 'irresistible': 6176, 'wendy': 6177, 'queso': 6178, 'flew': 6179, 'anteharper': 6180, 'preferred': 6181, 'quiver': 6182, 'flamin': 6183, 'ni': 6184, 'soooooo': 6185, 'village': 6186, 'phones': 6187, 'soup': 6188, 'ih': 6189, 'bul': 6190, 'yunt': 6191, 'adj': 6192, 'bubbling': 6193, 'exuberant': 6194, 'liquid': 6195, 'enthusiastic': 6196, 'ccfunkandsoul': 6197, 'originalmalik2k': 6198, 'youfamousenough': 6199, 'anthonymuraco': 6200, 'bushaiba': 6201, 'nalhussaini': 6202, '7ayate': 6203, 'ithika': 6204, 'specialise': 6205, 'average': 6206, 'zombie': 6207, '30am': 6208, 'sensitive': 6209, 'injustice': 6210, 'mild': 6211, 'pjxqvrw1tf': 6212, 'boat': 6213, 'middle': 6214, 'battered': 6215, 'forces': 6216, 'damned': 6217, 'degree': 6218, 'temperatures': 6219, 'commission': 6220, 'doorbell': 6221, 'corrie': 6222, 'quick': 6223, '1000': 6224, 'plcs6kuygj': 6225, 'riydwinnkn': 6226, 'profitable': 6227, 'commercial': 6228, 'deaths': 6229, 'connects': 6230, 'tweetheart2017': 6231, 'cala': 6232, 'tooda': 6233, 'jamesesmithjr34': 6234, 'whatsupwiththat': 6235, 'nike': 6236, 'adidas': 6237, 'coachbru': 6238, 'blogger': 6239, 'weekends': 6240, 'ibs': 6241, 'z3kw5dkl6k': 6242, 'accomplishments': 6243, 'happiest': 6244, 'jonaxxbbtwkab39': 6245, 'chunk': 6246, 'sermon': 6247, 'antidepressants': 6248, 'noahwebhouse': 6249, 'faulted': 6250, 'webster': 6251, 'introductory': 6252, 'triple': 6253, 'melt': 6254, 'waiter': 6255, 'lidl': 6256, 'ireland': 6257, 'trim': 6258, 'joileta': 6259, 'ssri': 6260, 'bt9j2ye4zz': 6261, 'pals': 6262, 'steaming': 6263, 'slaving': 6264, 'shift': 6265, 'relevant': 6266, 'laid': 6267, 'aowwxtdona': 6268, '102': 6269, '3th2gx1umc': 6270, 'katramsland': 6271, 'host': 6272, 'urged': 6273, 'viewers': 6274, 'comments': 6275, 'expressing': 6276, 'displeasure': 6277, 'fcc': 6278, 'policies': 6279, 'highlight': 6280, 'crew': 6281, 'envelopes': 6282, 'crawls': 6283, 'stays': 6284, 'erosion': 6285, 'positions': 6286, 'abundance': 6287, 'priviledge': 6288, 'population': 6289, 'reinforce': 6290, 'agendas': 6291, 'offering': 6292, 'deferred': 6293, '17aa4absx5': 6294, 'thetimeofgreatsorrowisover': 6295, 'sabelomario': 6296, 'a16z': 6297, 'jimharris': 6298, 'testimony': 6299, 'broadcasted': 6300, 'pigs': 6301, 'flying': 6302, 'dreamed': 6303, 'graysondolan': 6304, 'gsirfcabip': 6305, 'musique': 6306, 'wrsdj4av6z': 6307, 'samaritans': 6308, '123': 6309, 'breathing': 6310, '83': 6311, '85': 6312, '87': 6313, 'endure': 6314, 'rush': 6315, 'unimportant': 6316, 'keithllbllm': 6317, 'rez61pzzvj': 6318, 'villesportslaw': 6319, 'astral': 6320, 'valley': 6321, 'kiranansi': 6322, 'phew': 6323, 'snek': 6324, 'bubble': 6325, 'necstasy': 6326, 'unstrucksound': 6327, 'drake': 6328, 'ae4zspax0p': 6329, 'functioning': 6330, 'coz': 6331, 'mines': 6332, 'directenergy': 6333, 'hosting': 6334, 'stampedeshaker': 6335, 'tomcochranemus': 6336, 'trooper': 6337, 'sloanmusic': 6338, 'oopadoai5m': 6339, 'named': 6340, 'chimp': 6341, 'paradox': 6342, 'rrakoto42': 6343, '39': 6344, 'seconds': 6345, 'mozambique': 6346, 'bound': 6347, 'cv6cryprkm': 6348, 'keen': 6349, 'chin': 6350, 'chest': 6351, 'diagnose': 6352, 'assholes': 6353, 'gibson': 6354, 'ai': 6355, 'revolation': 6356, 'fearless': 6357, 'goodness': 6358, 'causal': 6359, 'factor': 6360, 'dollar': 6361, 'inbox': 6362, 'clears': 6363, 'believeme': 6364, 'liar': 6365, 'companionship': 6366, 'beatrice': 6367, 'cardiac': 6368, 'cachexia': 6369, 'consultant': 6370, 'progression': 6371, 'onm1tnfjvw': 6372, 'joegibbsracing': 6373, 'scheme': 6374, 'interstate': 6375, 'whoever': 6376, 'approves': 6377, 'approve': 6378, 'yuck': 6379, 'stance': 6380, 'yi7vjfxh05': 6381, 'arya': 6382, 'moth': 6383, 'lifting': 6384, 'algorithm': 6385, 'guide': 6386, 'management': 6387, 'patient': 6388, 'covers': 6389, 'chief': 6390, 'complaint': 6391, 'z3ekgdkzy0': 6392, '150': 6393, '138': 6394, 'lasted': 6395, 'rosiehale': 6396, 'dissapointed': 6397, 'il': 6398, 'waterfowl': 6399, 'bowfishing': 6400, 'hurley': 6401, 'costume': 6402, 'invalidated': 6403, 'joyeux': 6404, 'anniversaire': 6405, 'inc': 6406, 'lycklig': 6407, 'delsedag': 6408, 'land': 6409, 'vent': 6410, 'bolarotibi': 6411, 'jamesatye': 6412, 'jacksonhull': 6413, 'danielmarion': 6414, 'informative': 6415, 'exhilarating': 6416, 'collabandcomm': 6417, 'mfaizabdulkarim': 6418, 'singapore': 6419, 'accompany': 6420, 'igotanotherdaytocreatelife': 6421, 'ndid': 6422, 'blink': 6423, 'startover': 6424, 'getchafaithup': 6425, 'freely': 6426, 'jokey': 6427, 'backs': 6428, 'cigarettes': 6429, 'san': 6430, 'francisco': 6431, 'poisonous': 6432, 'laborious': 6433, 'burden': 6434, 'stevemaraboli': 6435, 'shanteriai': 6436, 'maximum': 6437, 'annarxbs': 6438, 'lolitsluan': 6439, 'weighted': 6440, 'blankets': 6441, 'rehearsals': 6442, 'rsc': 6443, 'stages': 6444, 'macbeth': 6445, 'poker': 6446, 'shakespeare': 6447, 'dictionary': 6448, 'knotty': 6449, 'pated': 6450, 'headed': 6451, 'witted': 6452, 'gents': 6453, 'kept': 6454, 'sheikhsafina': 6455, 'guts': 6456, 'carnal': 6457, 'misunderstandings': 6458, 'similar': 6459, 'vice': 6460, 'versa': 6461, 'is5jstqkpp': 6462, 'lottery': 6463, 'ticket': 6464, 'resetting': 6465, 'view': 6466, 'standing': 6467, 'violence': 6468, 'agree': 6469, 'mass': 6470, '0': 6471, 'detailing': 6472, 'branded': 6473, 'arrogantly': 6474, 'sounded': 6475, 'joealane': 6476, 'kayleyhignell': 6477, 'fee': 6478, 'ets': 6479, 'suggested': 6480, 'wonkypolicywonk': 6481, 'cantwait': 6482, 'tescoirl': 6483, 'contract': 6484, 'amongst': 6485, 'geny': 6486, 'mont': 6487, 'blanc': 6488, 'irrespective': 6489, 'sympathizing': 6490, 'lizcrokin': 6491, 'someday': 6492, 'skill': 6493, 'genuine': 6494, 'crushes': 6495, 'paracetamol': 6496, 'pyritique': 6497, 'anawer': 6498, 'correctly': 6499, 'nerve': 6500, 'devil': 6501, 'cast': 6502, 'kenneth': 6503, 'copeland': 6504, 'oth': 6505, 'wen': 6506, 'l8up5r4d7v': 6507, 'desperately': 6508, 'jesuschristheals': 6509, 'savesask': 6510, 'charlie': 6511, 'notebook': 6512, 'stevecontenyc': 6513, 'roads': 6514, 'destinations': 6515, 'keepgoing': 6516, 'keeppushing': 6517, 'startsomewhere': 6518, 'womanhood': 6519, 'beingwoman': 6520, 'londoneconomic': 6521, 'judiciary': 6522, 'speechless': 6523, 'thanksgiving': 6524, 'pigging': 6525, 'btelqogrxd': 6526, 'ivankatrump': 6527, 'amazonprimeday': 6528, 'incredibly': 6529, 'carni': 6530, 'gr8': 6531, 'saturated': 6532, 'implore': 6533, 'scarves': 6534, 'vertebral': 6535, 'sacral': 6536, 'radial': 6537, 'fractures': 6538, 'n1': 6539, 'outfit': 6540, 'turns': 6541, 'alarmclock': 6542, 'kara1818': 6543, 'kara': 6544, 'cheryl': 6545, 'breakdowns': 6546, 'motivated': 6547, 'cringe': 6548, 'ndjfnoqsfp': 6549, 'simplymissyoung': 6550, 'playchoices': 6551, 'penguins': 6552, 'unappreciated': 6553, 'crappy': 6554, 'eastenders': 6555, 'lee': 6556, 'superb': 6557, 'artistic': 6558, 'rid': 6559, 'appeals': 6560, 'hymie094': 6561, 'hesitation': 6562, 'goddamn': 6563, 'sadest': 6564, '7ao84rapny': 6565, 'sawamura': 6566, 'promotion': 6567, 'masters': 6568, '91hb9sz8se': 6569, 'sneak': 6570, 'dorm': 6571, 'intelligent': 6572, 'attorneysatlaw': 6573, 'ohio': 6574, 'moon': 6575, 'dolphin': 6576, 'tortured': 6577, 'dunno': 6578, 'khizthigh': 6579, 'khair': 6580, '30pm': 6581, 'richest': 6582, 'wealth': 6583, 'tonic': 6584, 'flour': 6585, 'intolerable': 6586, 'tree': 6587, '129': 6588, 'assure': 6589, 'gms': 6590, 'whey': 6591, 'grew': 6592, 'officials': 6593, 'ezmqpzaobr': 6594, 'l8qpwabvzo': 6595, 'bothered': 6596, 'aint': 6597, 'flinch': 6598, 'shanemalwa': 6599, 'majorpoonia': 6600, 'devyanidilli': 6601, 'mekka': 6602, 'madina': 6603, 'dikling': 6604, 'dirty': 6605, 'blunts': 6606, 'talented': 6607, 'manyexperiences': 6608, 'psychic': 6609, 'tasks': 6610, 'lao': 6611, 'tzu': 6612, 'folks': 6613, 'marry': 6614, 'max': 6615, 'whitephobe': 6616, 'lit': 6617, 'rly': 6618, 'ol': 6619, 'award': 6620, 'hes': 6621, '00am': 6622, 'cared': 6623, '2012': 6624, '2013': 6625, '0g6kgdiopi': 6626, '31': 6627, 'infjproblems': 6628, 'infj': 6629, 'adulting': 6630, 'workingthroughthepain': 6631, 'thankxxx': 6632, 'mids': 6633, 'examsss': 6634, 'sass': 6635, 'wit': 6636, 'rewarded': 6637, 'ally': 6638, 'cleaned': 6639, 'movement': 6640, 'bukowski': 6641, 'smpkhu3twn': 6642, 'edmonton': 6643, 'kepner': 6644, 'avery': 6645, 'f4f': 6646, 'bbcbristolsport': 6647, 'bristol': 6648, 'scoring': 6649, 'otib': 6650, 'autotweet': 6651, 'morninggloria': 6652, 'guptajuhi90': 6653, 'tuned': 6654, 'plz': 6655, 'translation': 6656, 'nservices': 6657, 'dumps': 6658, 'antidepressant': 6659, 'vitamin': 6660, 'contribute': 6661, 'cleaner': 6662, 'daddyslittlek': 6663, 'spotted': 6664, 'cutest': 6665, 'accepts': 6666, 'bfllvzrwmn': 6667, 'walmarttoday': 6668, 'hitting': 6669, 'commercials': 6670, 'chairs': 6671, '2apju6tkv0': 6672, 'clown': 6673, 'blizzard': 6674, 'rankin': 6675, 'pandar': 6676, 'molom': 6677, 'soyoprincess': 6678, 'misfitphoenix': 6679, 'beastynewall': 6680, 'gunderthswain': 6681, 'fashionable': 6682, 'teases': 6683, 'drops': 6684, 'zrf2h1l13h': 6685, 'tooo': 6686, 'reaaaallly': 6687, 'thingy': 6688, '12step': 6689, 'pers': 6690, 'lists': 6691, 'conjure': 6692, 'became': 6693, 'j625nxrwdb': 6694, 'tryna': 6695, 'somone': 6696, 'huhhhhhhhh': 6697, 'brave': 6698, 'peraon': 6699, 'dave': 6700, 'chapelle': 6701, 'collection': 6702, 'petition': 6703, 'barnes': 6704, '9pm': 6705, 'beaten': 6706, 'bandicoot': 6707, 'overall': 6708, 'jerk': 6709, 'sperm': 6710, 'donor': 6711, 'settle': 6712, 'taikeuhgz3': 6713, 'bois': 6714, 'exempt': 6715, 'sermons': 6716, 'stones': 6717, 'everythin': 6718, 'corner': 6719, 'qfztbkqhpz': 6720, 'battles': 6721, 'mouth': 6722, 'tkzeniwtib': 6723, 'badges': 6724, 'charlotte': 6725, 'dva': 6726, 'org': 6727, '94ov7uvene': 6728, 'timhortons': 6729, 'jalape': 6730, 'looove': 6731, 'legitimately': 6732, 'neurotic': 6733, 'lizwillis': 6734, 'ylajyolfau': 6735, 'standarddiary': 6736, 'nailing': 6737, 'sarahtheduchess': 6738, 'amusing': 6739, '56': 6740, 'standardnews': 6741}\n"
          ]
        }
      ]
    },
    {
      "cell_type": "code",
      "source": [
        "vocab_size = len(tokenizer.word_index) + 1\n",
        "print(\"Vocabulary Size :\", vocab_size)"
      ],
      "metadata": {
        "colab": {
          "base_uri": "https://localhost:8080/"
        },
        "id": "QlNigyrD787y",
        "outputId": "a1132273-53f3-41b2-936b-35549fdcfabd"
      },
      "execution_count": 10,
      "outputs": [
        {
          "output_type": "stream",
          "name": "stdout",
          "text": [
            "Vocabulary Size : 6742\n"
          ]
        }
      ]
    },
    {
      "cell_type": "code",
      "source": [
        "from tensorflow.keras.preprocessing.sequence import pad_sequences\n",
        "# The tokens are converted into sequences and then passed to the pad_sequences() function\n",
        "x_train = pad_sequences(tokenizer.texts_to_sequences(train_data.Text_data),maxlen = 100)\n",
        "x_test = pad_sequences(tokenizer.texts_to_sequences(test_data.Text_data),maxlen = 100)"
      ],
      "metadata": {
        "id": "-6s8_yu38BRq"
      },
      "execution_count": 49,
      "outputs": []
    },
    {
      "cell_type": "code",
      "source": [
        "labels = ['Not Depressed', 'Depressed']\n",
        "from sklearn.preprocessing import LabelEncoder\n",
        "encoder = LabelEncoder()\n",
        "encoder.fit(train_data.Label.to_list())\n",
        "y_train = encoder.transform(train_data.Label.to_list())\n",
        "y_test = encoder.transform(test_data.Label.to_list())\n",
        "y_train = y_train.reshape(-1,1)\n",
        "y_test = y_test.reshape(-1,1)"
      ],
      "metadata": {
        "id": "fGUzcAwZ8Hns"
      },
      "execution_count": 50,
      "outputs": []
    },
    {
      "cell_type": "code",
      "source": [
        "!wget http://nlp.stanford.edu/data/glove.6B.zip\n",
        "!unzip glove.6B.zip"
      ],
      "metadata": {
        "colab": {
          "base_uri": "https://localhost:8080/"
        },
        "id": "0hf7WYPH8kds",
        "outputId": "b89df36d-95ec-4e4d-b1b7-f9e9f28673ee"
      },
      "execution_count": 15,
      "outputs": [
        {
          "output_type": "stream",
          "name": "stdout",
          "text": [
            "--2023-04-03 21:08:00--  http://nlp.stanford.edu/data/glove.6B.zip\n",
            "Resolving nlp.stanford.edu (nlp.stanford.edu)... 171.64.67.140\n",
            "Connecting to nlp.stanford.edu (nlp.stanford.edu)|171.64.67.140|:80... connected.\n",
            "HTTP request sent, awaiting response... 302 Found\n",
            "Location: https://nlp.stanford.edu/data/glove.6B.zip [following]\n",
            "--2023-04-03 21:08:00--  https://nlp.stanford.edu/data/glove.6B.zip\n",
            "Connecting to nlp.stanford.edu (nlp.stanford.edu)|171.64.67.140|:443... connected.\n",
            "HTTP request sent, awaiting response... 301 Moved Permanently\n",
            "Location: https://downloads.cs.stanford.edu/nlp/data/glove.6B.zip [following]\n",
            "--2023-04-03 21:08:00--  https://downloads.cs.stanford.edu/nlp/data/glove.6B.zip\n",
            "Resolving downloads.cs.stanford.edu (downloads.cs.stanford.edu)... 171.64.64.22\n",
            "Connecting to downloads.cs.stanford.edu (downloads.cs.stanford.edu)|171.64.64.22|:443... connected.\n",
            "HTTP request sent, awaiting response... 200 OK\n",
            "Length: 862182613 (822M) [application/zip]\n",
            "Saving to: ‘glove.6B.zip’\n",
            "\n",
            "glove.6B.zip        100%[===================>] 822.24M  5.02MB/s    in 2m 40s  \n",
            "\n",
            "2023-04-03 21:10:40 (5.14 MB/s) - ‘glove.6B.zip’ saved [862182613/862182613]\n",
            "\n",
            "Archive:  glove.6B.zip\n",
            "  inflating: glove.6B.50d.txt        \n",
            "  inflating: glove.6B.100d.txt       \n",
            "  inflating: glove.6B.200d.txt       \n",
            "  inflating: glove.6B.300d.txt       \n"
          ]
        }
      ]
    },
    {
      "cell_type": "code",
      "source": [
        "embeddings_index = {}\n",
        "# opening the downloaded glove embeddings file\n",
        "f = open('/content/glove.6B.300d.txt')\n",
        "for line in f:\n",
        "    # For each line file, the words are split and stored in a list\n",
        "    values = line.split()\n",
        "    word = value = values[0]\n",
        "    coefs = np.asarray(values[1:], dtype='float32')\n",
        "    embeddings_index[word] = coefs\n",
        "f.close()\n",
        "print('Found %s word vectors.' %len(embeddings_index))"
      ],
      "metadata": {
        "colab": {
          "base_uri": "https://localhost:8080/"
        },
        "id": "8ne8lUs28rYT",
        "outputId": "ff31e01e-c6ee-4bce-f7ac-15fbbc5586da"
      },
      "execution_count": 17,
      "outputs": [
        {
          "output_type": "stream",
          "name": "stdout",
          "text": [
            "Found 400000 word vectors.\n"
          ]
        }
      ]
    },
    {
      "cell_type": "code",
      "source": [
        "# creating an matrix with zeroes of shape vocab x embedding dimension\n",
        "embedding_matrix = np.zeros((vocab_size, 300))\n",
        "# Iterate through word, index in the dictionary\n",
        "for word, i in word_index.items():\n",
        "    # extract the corresponding vector for the vocab indice of same word\n",
        "    embedding_vector = embeddings_index.get(word)\n",
        "    if embedding_vector is not None:\n",
        "        # Storing it in a matrix\n",
        "        embedding_matrix[i] = embedding_vector"
      ],
      "metadata": {
        "id": "bzeEHIgV9fTa"
      },
      "execution_count": 18,
      "outputs": []
    },
    {
      "cell_type": "code",
      "source": [
        "import tensorflow as tf\n",
        "embedding_layer = tf.keras.layers.Embedding(vocab_size,300,weights=[embedding_matrix],\n",
        "                                          input_length=100,trainable=False)"
      ],
      "metadata": {
        "id": "IGLQ5WcJ9yNO"
      },
      "execution_count": 51,
      "outputs": []
    },
    {
      "cell_type": "code",
      "source": [
        "# Import various layers needed for the architecture from keras\n",
        "from tensorflow.keras.layers import Conv1D, Bidirectional, LSTM, Dense, Input, Dropout\n",
        "from tensorflow.keras.layers import SpatialDropout1D\n",
        "from tensorflow.keras.callbacks import ModelCheckpoint\n",
        "# The Input layer \n",
        "sequence_input = Input(shape=(100,), dtype='int32')\n",
        "# Inputs passed to the embedding layer\n",
        "embedding_sequences = embedding_layer(sequence_input)\n",
        "# dropout and conv layer \n",
        "x = SpatialDropout1D(0.2)(embedding_sequences)\n",
        "x = Conv1D(128, 5, activation='relu')(x)\n",
        "# Passed on to the LSTM layer\n",
        "x = Bidirectional(LSTM(128, dropout=0.2, recurrent_dropout=0.2))(x)\n",
        "x = Dense(512, activation='relu')(x)\n",
        "x = Dropout(0.5)(x)\n",
        "x = Dense(512, activation='relu')(x)\n",
        "# Passed on to activation layer to get final output\n",
        "outputs = Dense(1, activation='sigmoid')(x)\n",
        "model = tf.keras.Model(sequence_input, outputs)\n",
        "model.summary()"
      ],
      "metadata": {
        "colab": {
          "base_uri": "https://localhost:8080/"
        },
        "id": "ZFH8VZ-l91o_",
        "outputId": "fd67e4ee-9be8-4797-e3a1-f567dfcf0d45"
      },
      "execution_count": 55,
      "outputs": [
        {
          "output_type": "stream",
          "name": "stdout",
          "text": [
            "Model: \"model_5\"\n",
            "_________________________________________________________________\n",
            " Layer (type)                Output Shape              Param #   \n",
            "=================================================================\n",
            " input_7 (InputLayer)        [(None, 100)]             0         \n",
            "                                                                 \n",
            " embedding_2 (Embedding)     (None, 100, 300)          2022600   \n",
            "                                                                 \n",
            " spatial_dropout1d_6 (Spatia  (None, 100, 300)         0         \n",
            " lDropout1D)                                                     \n",
            "                                                                 \n",
            " conv1d_6 (Conv1D)           (None, 96, 128)           192128    \n",
            "                                                                 \n",
            " bidirectional_6 (Bidirectio  (None, 256)              263168    \n",
            " nal)                                                            \n",
            "                                                                 \n",
            " dense_18 (Dense)            (None, 512)               131584    \n",
            "                                                                 \n",
            " dropout_6 (Dropout)         (None, 512)               0         \n",
            "                                                                 \n",
            " dense_19 (Dense)            (None, 512)               262656    \n",
            "                                                                 \n",
            " dense_20 (Dense)            (None, 1)                 513       \n",
            "                                                                 \n",
            "=================================================================\n",
            "Total params: 2,872,649\n",
            "Trainable params: 850,049\n",
            "Non-trainable params: 2,022,600\n",
            "_________________________________________________________________\n"
          ]
        }
      ]
    },
    {
      "cell_type": "code",
      "source": [
        "from tensorflow.keras.optimizers import Adam\n",
        "from tensorflow.keras.callbacks import ReduceLROnPlateau\n",
        "model.compile(optimizer=Adam(learning_rate=1e-15), loss='binary_crossentropy',metrics=['accuracy'])\n",
        "ReduceLROnPlateau = ReduceLROnPlateau(factor=0.1,min_lr = 0.01, monitor = 'val_loss',verbose = 1)"
      ],
      "metadata": {
        "id": "nv_helbR-zYc"
      },
      "execution_count": 57,
      "outputs": []
    },
    {
      "cell_type": "code",
      "source": [
        "training = model.fit(x_train, y_train, batch_size=128, epochs=10,\n",
        "                    validation_data=(x_test, y_test), callbacks=[ReduceLROnPlateau])"
      ],
      "metadata": {
        "colab": {
          "base_uri": "https://localhost:8080/"
        },
        "id": "hWpIy6Gj-CAl",
        "outputId": "c9e7b9d3-6b98-407c-9dc8-a9ac906a41c3"
      },
      "execution_count": 58,
      "outputs": [
        {
          "output_type": "stream",
          "name": "stdout",
          "text": [
            "Epoch 1/10\n",
            "20/20 [==============================] - 47s 2s/step - loss: 0.7101 - accuracy: 0.3008 - val_loss: 0.7022 - val_accuracy: 0.3016 - lr: 1.0000e-15\n",
            "Epoch 2/10\n",
            "20/20 [==============================] - 40s 2s/step - loss: 0.7108 - accuracy: 0.2961 - val_loss: 0.7022 - val_accuracy: 0.3016 - lr: 1.0000e-15\n",
            "Epoch 3/10\n",
            "20/20 [==============================] - 40s 2s/step - loss: 0.7109 - accuracy: 0.2949 - val_loss: 0.7022 - val_accuracy: 0.3016 - lr: 1.0000e-15\n",
            "Epoch 4/10\n",
            "20/20 [==============================] - 40s 2s/step - loss: 0.7115 - accuracy: 0.2965 - val_loss: 0.7022 - val_accuracy: 0.3016 - lr: 1.0000e-15\n",
            "Epoch 5/10\n",
            "20/20 [==============================] - 40s 2s/step - loss: 0.7115 - accuracy: 0.2895 - val_loss: 0.7022 - val_accuracy: 0.3016 - lr: 1.0000e-15\n",
            "Epoch 6/10\n",
            "20/20 [==============================] - 39s 2s/step - loss: 0.7110 - accuracy: 0.2926 - val_loss: 0.7022 - val_accuracy: 0.3016 - lr: 1.0000e-15\n",
            "Epoch 7/10\n",
            "20/20 [==============================] - 40s 2s/step - loss: 0.7105 - accuracy: 0.3000 - val_loss: 0.7022 - val_accuracy: 0.3016 - lr: 1.0000e-15\n",
            "Epoch 8/10\n",
            "20/20 [==============================] - 39s 2s/step - loss: 0.7112 - accuracy: 0.2902 - val_loss: 0.7022 - val_accuracy: 0.3016 - lr: 1.0000e-15\n",
            "Epoch 9/10\n",
            "20/20 [==============================] - 44s 2s/step - loss: 0.7108 - accuracy: 0.2941 - val_loss: 0.7022 - val_accuracy: 0.3016 - lr: 1.0000e-15\n",
            "Epoch 10/10\n",
            "20/20 [==============================] - 40s 2s/step - loss: 0.7112 - accuracy: 0.2949 - val_loss: 0.7022 - val_accuracy: 0.3016 - lr: 1.0000e-15\n"
          ]
        }
      ]
    },
    {
      "cell_type": "code",
      "source": [
        "def predict_tweet_sentiment(score):\n",
        "    return 1 if score>0.5 else 0\n",
        "scores = model.predict(x_test, verbose=1, batch_size=10000)\n",
        "model_predictions = [predict_tweet_sentiment(score) for score in scores]"
      ],
      "metadata": {
        "colab": {
          "base_uri": "https://localhost:8080/"
        },
        "id": "lnuZxKMy_WjY",
        "outputId": "cea0b8de-0815-458b-ea2e-40cf05b4ada2"
      },
      "execution_count": 59,
      "outputs": [
        {
          "output_type": "stream",
          "name": "stdout",
          "text": [
            "1/1 [==============================] - 3s 3s/step\n"
          ]
        }
      ]
    },
    {
      "cell_type": "code",
      "source": [
        "from sklearn.metrics import classification_report\n",
        "print(classification_report(list(test_data.Label), model_predictions))"
      ],
      "metadata": {
        "colab": {
          "base_uri": "https://localhost:8080/"
        },
        "id": "3MK6i0zREP4p",
        "outputId": "4b7c286c-c078-4806-f117-5dd726059dbf"
      },
      "execution_count": 60,
      "outputs": [
        {
          "output_type": "stream",
          "name": "stdout",
          "text": [
            "              precision    recall  f1-score   support\n",
            "\n",
            "           0       1.00      0.03      0.06       461\n",
            "           1       0.29      1.00      0.44       179\n",
            "\n",
            "    accuracy                           0.30       640\n",
            "   macro avg       0.64      0.52      0.25       640\n",
            "weighted avg       0.80      0.30      0.17       640\n",
            "\n"
          ]
        }
      ]
    },
    {
      "cell_type": "code",
      "source": [],
      "metadata": {
        "id": "8sHiuSXxEXw3"
      },
      "execution_count": null,
      "outputs": []
    }
  ]
}