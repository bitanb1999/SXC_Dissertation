{
 "cells": [
  {
   "cell_type": "code",
   "execution_count": null,
   "id": "684c0378-df9a-4023-a5f1-551533592900",
   "metadata": {},
   "outputs": [],
   "source": [
    "!pip3 install git+https://github.com/JustAnotherArchivist/snscrape.git"
   ]
  },
  {
   "cell_type": "code",
   "execution_count": null,
   "id": "4c594840-458e-4a21-a0ab-292b75e2c558",
   "metadata": {},
   "outputs": [],
   "source": [
    "!pip install pandas"
   ]
  },
  {
   "cell_type": "code",
   "execution_count": null,
   "id": "b832749d-3fe4-4ef0-91d3-9408bc3fa965",
   "metadata": {},
   "outputs": [],
   "source": [
    "import snscrape.modules.twitter as sntwitter\n",
    "import pandas as pd\n",
    "\n",
    "# Creating list to append tweet data to\n",
    "attributes_container = []\n",
    "\n",
    "# Using TwitterSearchScraper to scrape data and append tweets to list\n",
    "for i,tweet in enumerate(sntwitter.TwitterSearchScraper('happy until:2019-01-31').get_items()):\n",
    "    if i>10000:\n",
    "        break\n",
    "    attributes_container.append([tweet.date, tweet.likeCount, tweet.sourceLabel, tweet.content])\n",
    "    \n",
    "# Creating a dataframe to load the list\n",
    "tweets_df = pd.DataFrame(attributes_container, columns=[\"Date Created\", \"Number of Likes\", \"Source of Tweet\", \"Tweet\"])"
   ]
  },
  {
   "cell_type": "code",
   "execution_count": null,
   "id": "d557fdab-8139-4838-9fcb-7a6ef5e2aa15",
   "metadata": {},
   "outputs": [],
   "source": [
    "tweets_df"
   ]
  },
  {
   "cell_type": "code",
   "execution_count": 27,
   "id": "935c7998-5696-4305-bb15-b6e5a2b789a7",
   "metadata": {},
   "outputs": [],
   "source": [
    "tweets_df.to_csv(\"2019-01-31-happy.csv\", index=False)"
   ]
  },
  {
   "cell_type": "code",
   "execution_count": 32,
   "id": "72d68044-5567-47c5-8739-02e07fcd03fa",
   "metadata": {},
   "outputs": [
    {
     "name": "stderr",
     "output_type": "stream",
     "text": [
      "/var/folders/f6/qpf5srq57wqcrdclxx8gxw480000gn/T/ipykernel_20494/3626500152.py:11: FutureWarning: content is deprecated, use rawContent instead\n",
      "  attributes_container.append([tweet.user.username, tweet.date, tweet.likeCount, tweet.sourceLabel, tweet.content])\n"
     ]
    }
   ],
   "source": [
    "import snscrape.modules.twitter as sntwitter\n",
    "import pandas as pd\n",
    "\n",
    "# Creating list to append tweet data to\n",
    "attributes_container = []\n",
    "\n",
    "# Using TwitterSearchScraper to scrape data and append tweets to list\n",
    "for i,tweet in enumerate(sntwitter.TwitterSearchScraper('suicidal since:2020-4-01 until:2020-06-28 exclude:retweets exclude:replies').get_items()):\n",
    "    if i>500:\n",
    "        break\n",
    "    attributes_container.append([tweet.user.username, tweet.date, tweet.likeCount, tweet.sourceLabel, tweet.content])\n",
    "    \n",
    "# Creating a dataframe to load the list\n",
    "tweets_df = pd.DataFrame(attributes_container, columns=[\"User\", \"Date Created\", \"Number of Likes\", \"Source of Tweet\", \"Tweet\"])"
   ]
  },
  {
   "cell_type": "code",
   "execution_count": 33,
   "id": "33300e8f-6d0d-417c-ab62-f2fce30cc24c",
   "metadata": {},
   "outputs": [
    {
     "data": {
      "text/html": [
       "<div>\n",
       "<style scoped>\n",
       "    .dataframe tbody tr th:only-of-type {\n",
       "        vertical-align: middle;\n",
       "    }\n",
       "\n",
       "    .dataframe tbody tr th {\n",
       "        vertical-align: top;\n",
       "    }\n",
       "\n",
       "    .dataframe thead th {\n",
       "        text-align: right;\n",
       "    }\n",
       "</style>\n",
       "<table border=\"1\" class=\"dataframe\">\n",
       "  <thead>\n",
       "    <tr style=\"text-align: right;\">\n",
       "      <th></th>\n",
       "      <th>User</th>\n",
       "      <th>Date Created</th>\n",
       "      <th>Number of Likes</th>\n",
       "      <th>Source of Tweet</th>\n",
       "      <th>Tweet</th>\n",
       "    </tr>\n",
       "  </thead>\n",
       "  <tbody>\n",
       "    <tr>\n",
       "      <th>491</th>\n",
       "      <td>hotdog7826</td>\n",
       "      <td>2020-06-27 15:24:41+00:00</td>\n",
       "      <td>0</td>\n",
       "      <td>Twitter Web App</td>\n",
       "      <td>People are still fighting wearing a mask. It’s...</td>\n",
       "    </tr>\n",
       "    <tr>\n",
       "      <th>492</th>\n",
       "      <td>vicky_casmx</td>\n",
       "      <td>2020-06-27 15:22:52+00:00</td>\n",
       "      <td>1</td>\n",
       "      <td>Twitter for iPhone</td>\n",
       "      <td>You and I are suicidal stolen art</td>\n",
       "    </tr>\n",
       "    <tr>\n",
       "      <th>493</th>\n",
       "      <td>MirvHamdan</td>\n",
       "      <td>2020-06-27 15:21:10+00:00</td>\n",
       "      <td>3</td>\n",
       "      <td>Twitter for iPhone</td>\n",
       "      <td>The evidence seems to attribute an intrinsic a...</td>\n",
       "    </tr>\n",
       "    <tr>\n",
       "      <th>494</th>\n",
       "      <td>SboOsizayo</td>\n",
       "      <td>2020-06-27 15:21:00+00:00</td>\n",
       "      <td>4</td>\n",
       "      <td>Twitter for Android</td>\n",
       "      <td>The picture of Mnakwagwa is so depressing. It ...</td>\n",
       "    </tr>\n",
       "    <tr>\n",
       "      <th>495</th>\n",
       "      <td>xnnhzn</td>\n",
       "      <td>2020-06-27 15:20:08+00:00</td>\n",
       "      <td>0</td>\n",
       "      <td>Twitter for iPhone</td>\n",
       "      <td>Ang ironic na post ka nang post about suicide ...</td>\n",
       "    </tr>\n",
       "    <tr>\n",
       "      <th>496</th>\n",
       "      <td>PriyanshBajpai3</td>\n",
       "      <td>2020-06-27 15:18:30+00:00</td>\n",
       "      <td>39</td>\n",
       "      <td>Twitter for Android</td>\n",
       "      <td>In this picture  (ref: medical book) it exlain...</td>\n",
       "    </tr>\n",
       "    <tr>\n",
       "      <th>497</th>\n",
       "      <td>miccodefender</td>\n",
       "      <td>2020-06-27 15:17:16+00:00</td>\n",
       "      <td>2</td>\n",
       "      <td>Twitter for Android</td>\n",
       "      <td>Namanya Komi, perilakunya suicidal\\n\\nPercobaa...</td>\n",
       "    </tr>\n",
       "    <tr>\n",
       "      <th>498</th>\n",
       "      <td>ladyanaaaaaa</td>\n",
       "      <td>2020-06-27 15:16:30+00:00</td>\n",
       "      <td>0</td>\n",
       "      <td>Twitter for iPhone</td>\n",
       "      <td>Suicidal</td>\n",
       "    </tr>\n",
       "    <tr>\n",
       "      <th>499</th>\n",
       "      <td>andsongbot</td>\n",
       "      <td>2020-06-27 15:15:22+00:00</td>\n",
       "      <td>0</td>\n",
       "      <td>twittbot.net</td>\n",
       "      <td>are you living dancer? are you dead　dancer?OK!...</td>\n",
       "    </tr>\n",
       "    <tr>\n",
       "      <th>500</th>\n",
       "      <td>davidredbutton</td>\n",
       "      <td>2020-06-27 15:13:22+00:00</td>\n",
       "      <td>0</td>\n",
       "      <td>Twitter Web App</td>\n",
       "      <td>“Qureshi said concerns had been raised consist...</td>\n",
       "    </tr>\n",
       "  </tbody>\n",
       "</table>\n",
       "</div>"
      ],
      "text/plain": [
       "                User              Date Created  Number of Likes  \\\n",
       "491       hotdog7826 2020-06-27 15:24:41+00:00                0   \n",
       "492      vicky_casmx 2020-06-27 15:22:52+00:00                1   \n",
       "493       MirvHamdan 2020-06-27 15:21:10+00:00                3   \n",
       "494       SboOsizayo 2020-06-27 15:21:00+00:00                4   \n",
       "495           xnnhzn 2020-06-27 15:20:08+00:00                0   \n",
       "496  PriyanshBajpai3 2020-06-27 15:18:30+00:00               39   \n",
       "497    miccodefender 2020-06-27 15:17:16+00:00                2   \n",
       "498     ladyanaaaaaa 2020-06-27 15:16:30+00:00                0   \n",
       "499       andsongbot 2020-06-27 15:15:22+00:00                0   \n",
       "500   davidredbutton 2020-06-27 15:13:22+00:00                0   \n",
       "\n",
       "         Source of Tweet                                              Tweet  \n",
       "491      Twitter Web App  People are still fighting wearing a mask. It’s...  \n",
       "492   Twitter for iPhone                  You and I are suicidal stolen art  \n",
       "493   Twitter for iPhone  The evidence seems to attribute an intrinsic a...  \n",
       "494  Twitter for Android  The picture of Mnakwagwa is so depressing. It ...  \n",
       "495   Twitter for iPhone  Ang ironic na post ka nang post about suicide ...  \n",
       "496  Twitter for Android  In this picture  (ref: medical book) it exlain...  \n",
       "497  Twitter for Android  Namanya Komi, perilakunya suicidal\\n\\nPercobaa...  \n",
       "498   Twitter for iPhone                                           Suicidal  \n",
       "499         twittbot.net  are you living dancer? are you dead　dancer?OK!...  \n",
       "500      Twitter Web App  “Qureshi said concerns had been raised consist...  "
      ]
     },
     "execution_count": 33,
     "metadata": {},
     "output_type": "execute_result"
    }
   ],
   "source": [
    "tweets_df.tail(10)"
   ]
  },
  {
   "cell_type": "code",
   "execution_count": 26,
   "id": "5af42cdf-c709-4ca0-a9a4-b46deaa58309",
   "metadata": {},
   "outputs": [
    {
     "name": "stderr",
     "output_type": "stream",
     "text": [
      "/var/folders/f6/qpf5srq57wqcrdclxx8gxw480000gn/T/ipykernel_20494/2231304850.py:11: FutureWarning: content is deprecated, use rawContent instead\n",
      "  tweets_list2.append([tweet.date, tweet.id, tweet.content, tweet.user.username])\n"
     ]
    }
   ],
   "source": [
    "import snscrape.modules.twitter as sntwitter\n",
    "import pandas as pd\n",
    "\n",
    "# Creating list to append tweet data to\n",
    "tweets_list2 = []\n",
    "\n",
    "# Using TwitterSearchScraper to scrape data and append tweets to list\n",
    "for i,tweet in enumerate(sntwitter.TwitterSearchScraper('its the elephant since:2020-06-01 until:2020-07-31').get_items()):\n",
    "    if i>500:\n",
    "        break\n",
    "    tweets_list2.append([tweet.date, tweet.id, tweet.content, tweet.user.username])\n",
    "    \n",
    "# Creating a dataframe from the tweets list above\n",
    "tweets_df2 = pd.DataFrame(tweets_list2, columns=['Datetime', 'Tweet Id', 'Text', 'Username'])"
   ]
  },
  {
   "cell_type": "code",
   "execution_count": 27,
   "id": "def617ff-26d4-4afa-a7a6-5c5d496c921a",
   "metadata": {},
   "outputs": [
    {
     "data": {
      "text/html": [
       "<div>\n",
       "<style scoped>\n",
       "    .dataframe tbody tr th:only-of-type {\n",
       "        vertical-align: middle;\n",
       "    }\n",
       "\n",
       "    .dataframe tbody tr th {\n",
       "        vertical-align: top;\n",
       "    }\n",
       "\n",
       "    .dataframe thead th {\n",
       "        text-align: right;\n",
       "    }\n",
       "</style>\n",
       "<table border=\"1\" class=\"dataframe\">\n",
       "  <thead>\n",
       "    <tr style=\"text-align: right;\">\n",
       "      <th></th>\n",
       "      <th>Datetime</th>\n",
       "      <th>Tweet Id</th>\n",
       "      <th>Text</th>\n",
       "      <th>Username</th>\n",
       "    </tr>\n",
       "  </thead>\n",
       "  <tbody>\n",
       "    <tr>\n",
       "      <th>496</th>\n",
       "      <td>2020-07-24 01:02:35+00:00</td>\n",
       "      <td>1286466776973422593</td>\n",
       "      <td>@RoKhanna its a waste of time without blockcha...</td>\n",
       "      <td>Ponder67</td>\n",
       "    </tr>\n",
       "    <tr>\n",
       "      <th>497</th>\n",
       "      <td>2020-07-24 00:54:50+00:00</td>\n",
       "      <td>1286464827146350594</td>\n",
       "      <td>@danielstave To be fair, have you ever tried t...</td>\n",
       "      <td>notdavidstave</td>\n",
       "    </tr>\n",
       "    <tr>\n",
       "      <th>498</th>\n",
       "      <td>2020-07-24 00:54:04+00:00</td>\n",
       "      <td>1286464632908066817</td>\n",
       "      <td>@donlemon Its @donlemon he doesn't know the di...</td>\n",
       "      <td>TWANIE63</td>\n",
       "    </tr>\n",
       "    <tr>\n",
       "      <th>499</th>\n",
       "      <td>2020-07-24 00:42:28+00:00</td>\n",
       "      <td>1286461714746286080</td>\n",
       "      <td>“This doesn’t bode well for the future.”\\n\\nTh...</td>\n",
       "      <td>rk70534</td>\n",
       "    </tr>\n",
       "    <tr>\n",
       "      <th>500</th>\n",
       "      <td>2020-07-24 00:28:11+00:00</td>\n",
       "      <td>1286458118034137090</td>\n",
       "      <td>@The_Knight_Sky Don't worry the organist is in...</td>\n",
       "      <td>dedewhale</td>\n",
       "    </tr>\n",
       "  </tbody>\n",
       "</table>\n",
       "</div>"
      ],
      "text/plain": [
       "                     Datetime             Tweet Id  \\\n",
       "496 2020-07-24 01:02:35+00:00  1286466776973422593   \n",
       "497 2020-07-24 00:54:50+00:00  1286464827146350594   \n",
       "498 2020-07-24 00:54:04+00:00  1286464632908066817   \n",
       "499 2020-07-24 00:42:28+00:00  1286461714746286080   \n",
       "500 2020-07-24 00:28:11+00:00  1286458118034137090   \n",
       "\n",
       "                                                  Text       Username  \n",
       "496  @RoKhanna its a waste of time without blockcha...       Ponder67  \n",
       "497  @danielstave To be fair, have you ever tried t...  notdavidstave  \n",
       "498  @donlemon Its @donlemon he doesn't know the di...       TWANIE63  \n",
       "499  “This doesn’t bode well for the future.”\\n\\nTh...        rk70534  \n",
       "500  @The_Knight_Sky Don't worry the organist is in...      dedewhale  "
      ]
     },
     "execution_count": 27,
     "metadata": {},
     "output_type": "execute_result"
    }
   ],
   "source": [
    "tweets_df2.tail(5)"
   ]
  },
  {
   "cell_type": "code",
   "execution_count": null,
   "id": "0454836b-abfa-4cee-bfdd-36dc90376557",
   "metadata": {},
   "outputs": [],
   "source": [
    "\"Depression\n",
    "\"Suicide\"\n"
   ]
  }
 ],
 "metadata": {
  "kernelspec": {
   "display_name": "Python 3 (ipykernel)",
   "language": "python",
   "name": "python3"
  },
  "language_info": {
   "codemirror_mode": {
    "name": "ipython",
    "version": 3
   },
   "file_extension": ".py",
   "mimetype": "text/x-python",
   "name": "python",
   "nbconvert_exporter": "python",
   "pygments_lexer": "ipython3",
   "version": "3.9.12"
  }
 },
 "nbformat": 4,
 "nbformat_minor": 5
}
