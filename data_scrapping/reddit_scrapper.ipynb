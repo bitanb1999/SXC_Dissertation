{
 "cells": [
  {
   "cell_type": "code",
   "execution_count": null,
   "metadata": {},
   "outputs": [],
   "source": [
    "#install the praw\n",
    "!pip install praw\n",
    "\n",
    "import praw\n",
    "\n",
    "# Before it can be used to scrape data we need to authenticate ourselves. For this we need to create a Reddit instance and provide it with a client_id , client_secret and a user_agent . To create a Reddit application and get your id and secret you need to navigate to [this page](https://www.reddit.com/prefs/apps).\n",
    "\n",
    "reddit = praw.Reddit(client_id='my_client_id',\n",
    "                     client_secret='my_client_secret',\n",
    "                     user_agent='my_user_agent')\n",
    "\n",
    "import pandas as pd\n",
    "\n",
    "# get the depression sub reddit data\n",
    "posts = []\n",
    "ml_subreddit = reddit.subreddit('depression')\n",
    "for post in ml_subreddit.hot(limit=10):\n",
    "    posts.append([post.title, post.score, post.id, post.subreddit, post.url, post.num_comments, post.selftext, post.created])\n",
    "posts = pd.DataFrame(posts,columns=['title', 'score', 'id', 'subreddit', 'url', 'num_comments', 'body', 'created'])\n",
    "posts\n",
    "\n",
    "posts.to_csv('depression.csv')\n",
    "\n",
    "import pandas as pd\n",
    "\n",
    "# get the suicide sub reddit data\n",
    "posts = []\n",
    "ml_subreddit = reddit.subreddit('Suicidewatchion')\n",
    "for post in ml_subreddit.hot(limit=10):\n",
    "    posts.append([post.title, post.score, post.id, post.subreddit, post.url, post.num_comments, post.selftext, post.created])\n",
    "posts = pd.DataFrame(posts,columns=['title', 'score', 'id', 'subreddit', 'url', 'num_comments', 'body', 'created'])\n",
    "posts\n",
    "\n",
    "posts.to_csv('suicide.csv')"
   ]
  }
 ],
 "metadata": {
  "language_info": {
   "name": "python"
  },
  "orig_nbformat": 4
 },
 "nbformat": 4,
 "nbformat_minor": 2
}
